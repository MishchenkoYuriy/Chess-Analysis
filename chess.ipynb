{
 "cells": [
  {
   "cell_type": "code",
   "execution_count": 67,
   "id": "6a016a19-d763-451d-94ff-d7f6c2ca9100",
   "metadata": {},
   "outputs": [],
   "source": [
    "import re\n",
    "import pandas as pd\n",
    "\n",
    "pd.set_option('display.max_columns', None)"
   ]
  },
  {
   "cell_type": "code",
   "execution_count": 68,
   "id": "3a68ce7e-659e-40c5-8481-e05e74685739",
   "metadata": {},
   "outputs": [
    {
     "name": "stdout",
     "output_type": "stream",
     "text": [
      "CPU times: total: 31.2 ms\n",
      "Wall time: 14 ms\n"
     ]
    }
   ],
   "source": [
    "%%time\n",
    "df = pd.read_csv('chess_games.csv', nrows=10,\n",
    "                usecols=['Event', 'Result', 'UTCDate', 'Opening', 'Termination', 'AN']) # chunksize=100000, index_col=''"
   ]
  },
  {
   "cell_type": "code",
   "execution_count": 41,
   "id": "2b9fa643-8e2e-4ac0-9eab-e447e00869ef",
   "metadata": {},
   "outputs": [
    {
     "data": {
      "text/html": [
       "<div>\n",
       "<style scoped>\n",
       "    .dataframe tbody tr th:only-of-type {\n",
       "        vertical-align: middle;\n",
       "    }\n",
       "\n",
       "    .dataframe tbody tr th {\n",
       "        vertical-align: top;\n",
       "    }\n",
       "\n",
       "    .dataframe thead th {\n",
       "        text-align: right;\n",
       "    }\n",
       "</style>\n",
       "<table border=\"1\" class=\"dataframe\">\n",
       "  <thead>\n",
       "    <tr style=\"text-align: right;\">\n",
       "      <th></th>\n",
       "      <th>Event</th>\n",
       "      <th>Result</th>\n",
       "      <th>UTCDate</th>\n",
       "      <th>Opening</th>\n",
       "      <th>Termination</th>\n",
       "      <th>AN</th>\n",
       "    </tr>\n",
       "  </thead>\n",
       "  <tbody>\n",
       "    <tr>\n",
       "      <th>0</th>\n",
       "      <td>Classical</td>\n",
       "      <td>1-0</td>\n",
       "      <td>2016.06.30</td>\n",
       "      <td>Slav Defense</td>\n",
       "      <td>Time forfeit</td>\n",
       "      <td>1. d4 d5 2. c4 c6 3. e3 a6 4. Nf3 e5 5. cxd5 e...</td>\n",
       "    </tr>\n",
       "    <tr>\n",
       "      <th>1</th>\n",
       "      <td>Blitz</td>\n",
       "      <td>0-1</td>\n",
       "      <td>2016.06.30</td>\n",
       "      <td>King's Pawn Opening: 2.b3</td>\n",
       "      <td>Normal</td>\n",
       "      <td>1. e4 e5 2. b3 Nf6 3. Bb2 Nc6 4. Nf3 d6 5. d3 ...</td>\n",
       "    </tr>\n",
       "    <tr>\n",
       "      <th>2</th>\n",
       "      <td>Blitz tournament</td>\n",
       "      <td>1-0</td>\n",
       "      <td>2016.06.30</td>\n",
       "      <td>Scandinavian Defense: Mieses-Kotroc Variation</td>\n",
       "      <td>Time forfeit</td>\n",
       "      <td>1. e4 d5 2. exd5 Qxd5 3. Nf3 Bg4 4. Be2 Nf6 5....</td>\n",
       "    </tr>\n",
       "  </tbody>\n",
       "</table>\n",
       "</div>"
      ],
      "text/plain": [
       "                Event Result     UTCDate  \\\n",
       "0          Classical     1-0  2016.06.30   \n",
       "1              Blitz     0-1  2016.06.30   \n",
       "2   Blitz tournament     1-0  2016.06.30   \n",
       "\n",
       "                                         Opening   Termination  \\\n",
       "0                                   Slav Defense  Time forfeit   \n",
       "1                      King's Pawn Opening: 2.b3        Normal   \n",
       "2  Scandinavian Defense: Mieses-Kotroc Variation  Time forfeit   \n",
       "\n",
       "                                                  AN  \n",
       "0  1. d4 d5 2. c4 c6 3. e3 a6 4. Nf3 e5 5. cxd5 e...  \n",
       "1  1. e4 e5 2. b3 Nf6 3. Bb2 Nc6 4. Nf3 d6 5. d3 ...  \n",
       "2  1. e4 d5 2. exd5 Qxd5 3. Nf3 Bg4 4. Be2 Nf6 5....  "
      ]
     },
     "execution_count": 41,
     "metadata": {},
     "output_type": "execute_result"
    }
   ],
   "source": [
    "df.head(3)"
   ]
  },
  {
   "cell_type": "code",
   "execution_count": 42,
   "id": "7951eec3-dce9-4987-93f5-0502c3630911",
   "metadata": {},
   "outputs": [],
   "source": [
    "filt = (df['Result'] != '*') & (df['Termination'] != 'Abandoned') & (df['Termination'] != 'Rules infraction')\n",
    "df = df[filt]"
   ]
  },
  {
   "cell_type": "code",
   "execution_count": 43,
   "id": "539c009b-475f-4f6c-b451-746d47c5e85e",
   "metadata": {},
   "outputs": [],
   "source": [
    "df['UTCDate'] = pd.to_datetime(df['UTCDate'])"
   ]
  },
  {
   "cell_type": "code",
   "execution_count": 44,
   "id": "f951271b-4bd6-4759-be4b-8e5fd9eea5b3",
   "metadata": {},
   "outputs": [],
   "source": [
    "df['Tournament'] = df['Event'].str.contains('tournament')"
   ]
  },
  {
   "cell_type": "code",
   "execution_count": 45,
   "id": "ac06dddb-3f9a-434b-bc37-bf1ca8117e87",
   "metadata": {},
   "outputs": [],
   "source": [
    "df['Event'] = df['Event'].map({' Classical ': 'Classical',\n",
    "                               ' Blitz ': 'Blitz',\n",
    "                               ' Blitz tournament ': 'Blitz',\n",
    "                               ' Correspondence ': 'Classical',\n",
    "                               ' Classical tournament ': 'Classical',\n",
    "                               ' Bullet tournament ': 'Bullet',\n",
    "                               ' Bullet ': 'Bullet',\n",
    "                               'Blitz tournament ': 'Blitz',\n",
    "                               'Bullet ': 'Bullet',\n",
    "                               'Classical ': 'Classical',\n",
    "                               'Blitz ': 'Blitz'\n",
    "                               })"
   ]
  },
  {
   "cell_type": "code",
   "execution_count": 46,
   "id": "3aa77f91-0824-4523-96a0-c56dbe1449c5",
   "metadata": {},
   "outputs": [
    {
     "data": {
      "text/html": [
       "<div>\n",
       "<style scoped>\n",
       "    .dataframe tbody tr th:only-of-type {\n",
       "        vertical-align: middle;\n",
       "    }\n",
       "\n",
       "    .dataframe tbody tr th {\n",
       "        vertical-align: top;\n",
       "    }\n",
       "\n",
       "    .dataframe thead th {\n",
       "        text-align: right;\n",
       "    }\n",
       "</style>\n",
       "<table border=\"1\" class=\"dataframe\">\n",
       "  <thead>\n",
       "    <tr style=\"text-align: right;\">\n",
       "      <th></th>\n",
       "      <th>Event</th>\n",
       "      <th>Result</th>\n",
       "      <th>UTCDate</th>\n",
       "      <th>Opening</th>\n",
       "      <th>Termination</th>\n",
       "      <th>AN</th>\n",
       "      <th>Tournament</th>\n",
       "    </tr>\n",
       "  </thead>\n",
       "  <tbody>\n",
       "    <tr>\n",
       "      <th>0</th>\n",
       "      <td>Classical</td>\n",
       "      <td>1-0</td>\n",
       "      <td>2016-06-30</td>\n",
       "      <td>Slav Defense</td>\n",
       "      <td>Time forfeit</td>\n",
       "      <td>1. d4 d5 2. c4 c6 3. e3 a6 4. Nf3 e5 5. cxd5 e...</td>\n",
       "      <td>False</td>\n",
       "    </tr>\n",
       "    <tr>\n",
       "      <th>1</th>\n",
       "      <td>Blitz</td>\n",
       "      <td>0-1</td>\n",
       "      <td>2016-06-30</td>\n",
       "      <td>King's Pawn Opening: 2.b3</td>\n",
       "      <td>Normal</td>\n",
       "      <td>1. e4 e5 2. b3 Nf6 3. Bb2 Nc6 4. Nf3 d6 5. d3 ...</td>\n",
       "      <td>False</td>\n",
       "    </tr>\n",
       "    <tr>\n",
       "      <th>2</th>\n",
       "      <td>Blitz</td>\n",
       "      <td>1-0</td>\n",
       "      <td>2016-06-30</td>\n",
       "      <td>Scandinavian Defense: Mieses-Kotroc Variation</td>\n",
       "      <td>Time forfeit</td>\n",
       "      <td>1. e4 d5 2. exd5 Qxd5 3. Nf3 Bg4 4. Be2 Nf6 5....</td>\n",
       "      <td>True</td>\n",
       "    </tr>\n",
       "    <tr>\n",
       "      <th>3</th>\n",
       "      <td>Classical</td>\n",
       "      <td>1-0</td>\n",
       "      <td>2016-06-30</td>\n",
       "      <td>Van't Kruijs Opening</td>\n",
       "      <td>Normal</td>\n",
       "      <td>1. e3 Nf6 2. Bc4 d6 3. e4 e6 4. Nf3 Nxe4 5. Nd...</td>\n",
       "      <td>False</td>\n",
       "    </tr>\n",
       "    <tr>\n",
       "      <th>4</th>\n",
       "      <td>Blitz</td>\n",
       "      <td>0-1</td>\n",
       "      <td>2016-06-30</td>\n",
       "      <td>Sicilian Defense: Najdorf, Lipnitsky Attack</td>\n",
       "      <td>Time forfeit</td>\n",
       "      <td>1. e4 c5 2. Nf3 d6 3. d4 cxd4 4. Nxd4 Nf6 5. N...</td>\n",
       "      <td>True</td>\n",
       "    </tr>\n",
       "  </tbody>\n",
       "</table>\n",
       "</div>"
      ],
      "text/plain": [
       "       Event Result    UTCDate                                        Opening  \\\n",
       "0  Classical    1-0 2016-06-30                                   Slav Defense   \n",
       "1      Blitz    0-1 2016-06-30                      King's Pawn Opening: 2.b3   \n",
       "2      Blitz    1-0 2016-06-30  Scandinavian Defense: Mieses-Kotroc Variation   \n",
       "3  Classical    1-0 2016-06-30                           Van't Kruijs Opening   \n",
       "4      Blitz    0-1 2016-06-30    Sicilian Defense: Najdorf, Lipnitsky Attack   \n",
       "\n",
       "    Termination                                                 AN  Tournament  \n",
       "0  Time forfeit  1. d4 d5 2. c4 c6 3. e3 a6 4. Nf3 e5 5. cxd5 e...       False  \n",
       "1        Normal  1. e4 e5 2. b3 Nf6 3. Bb2 Nc6 4. Nf3 d6 5. d3 ...       False  \n",
       "2  Time forfeit  1. e4 d5 2. exd5 Qxd5 3. Nf3 Bg4 4. Be2 Nf6 5....        True  \n",
       "3        Normal  1. e3 Nf6 2. Bc4 d6 3. e4 e6 4. Nf3 Nxe4 5. Nd...       False  \n",
       "4  Time forfeit  1. e4 c5 2. Nf3 d6 3. d4 cxd4 4. Nxd4 Nf6 5. N...        True  "
      ]
     },
     "execution_count": 46,
     "metadata": {},
     "output_type": "execute_result"
    }
   ],
   "source": [
    "df.head()"
   ]
  },
  {
   "cell_type": "code",
   "execution_count": 47,
   "id": "59ff7d59-5b32-4f47-bd34-51c32ce7da52",
   "metadata": {},
   "outputs": [],
   "source": [
    "filt = df[\"AN\"].apply(len) > 50\n",
    "df = df[filt]"
   ]
  },
  {
   "cell_type": "code",
   "execution_count": 48,
   "id": "e6ee7549-4d11-4f50-aa69-9e2f26347775",
   "metadata": {},
   "outputs": [],
   "source": [
    "# value_counts = df.stack().value_counts() # Entire DataFrame \n",
    "# to_remove = value_counts[value_counts <= 1500].index\n",
    "# df.replace(to_remove, np.nan, inplace=True)"
   ]
  },
  {
   "cell_type": "code",
   "execution_count": 49,
   "id": "af1b2ddd-f276-45a2-bfcf-41e155d4540d",
   "metadata": {},
   "outputs": [],
   "source": [
    "vc = df['Opening'].value_counts()\n",
    "vals_to_remove = vc[vc <= 1500].index.values\n",
    "df['Opening'].loc[df['Opening'].isin(vals_to_remove)] = '111'\n",
    "filt = df['Opening'] != '111'\n",
    "df = df[filt]"
   ]
  },
  {
   "cell_type": "code",
   "execution_count": 50,
   "id": "7a73c2f2-ac6f-4608-81c8-19d0a7c51a05",
   "metadata": {},
   "outputs": [],
   "source": [
    "df = df.reset_index(drop=True)"
   ]
  },
  {
   "cell_type": "code",
   "execution_count": 69,
   "id": "1d1e4a69-eebe-45a3-b20e-362029eee08f",
   "metadata": {},
   "outputs": [],
   "source": [
    "def get_raw_list(row: str) -> list:\n",
    "    '''Parse a string to list of moves.\n",
    "       List elements are strings.'''\n",
    "    raw_list = []\n",
    "    raw_list.append(row)\n",
    "    sep_num = 2\n",
    "    while True:\n",
    "        separator = str(sep_num)+'.'\n",
    "        if separator in raw_list[-1]:\n",
    "            raw_list = raw_list[0:-1] + raw_list[-1].split(' '+separator) # concatenate all previous moves and remainder\n",
    "            raw_list[-1] = str(sep_num) + raw_list[-1]\n",
    "            sep_num+=1\n",
    "        else:\n",
    "            raw_list[-1] = re.sub(' 1-0', '', raw_list[-1])\n",
    "            raw_list[-1] = re.sub(' 0-1', '', raw_list[-1])\n",
    "            raw_list[-1] = re.sub(' 1/2-1/2', '', raw_list[-1])\n",
    "            raw_list[0] = re.sub('1.', '1', raw_list[0])\n",
    "            break\n",
    "    return raw_list"
   ]
  },
  {
   "cell_type": "code",
   "execution_count": 52,
   "id": "262a6816-9f5c-45fc-9c9a-c4b2878fafd3",
   "metadata": {},
   "outputs": [],
   "source": [
    "# def get_tuples_list(raw_list: list, fk_id) -> list:\n",
    "#     '''Parse each element of the raw_list to tuple.'''\n",
    "#     tuples_list = []\n",
    "#     for elem in raw_list:\n",
    "#         tuple_elem = tuple(list(fk_id) + elem.split(' '))\n",
    "#         tuples_list.append(tuple_elem)\n",
    "#     return tuples_list"
   ]
  },
  {
   "cell_type": "code",
   "execution_count": 53,
   "id": "97e0b19f-7923-46c2-9e06-b7b6e33c86c2",
   "metadata": {},
   "outputs": [],
   "source": [
    "# def get_moves_as_list(row: str) -> list:\n",
    "#     raw_list = get_raw_list(row)\n",
    "#     #tuples_list = get_tuples_list(raw_list, '_') \n",
    "#     return raw_list"
   ]
  },
  {
   "cell_type": "code",
   "execution_count": 70,
   "id": "62915db8-1c28-47b7-904a-62a63a598123",
   "metadata": {},
   "outputs": [
    {
     "name": "stdout",
     "output_type": "stream",
     "text": [
      "CPU times: total: 15.6 ms\n",
      "Wall time: 8 ms\n"
     ]
    }
   ],
   "source": [
    "%%time\n",
    "df[\"AN\"] = df[\"AN\"].apply(get_raw_list)"
   ]
  },
  {
   "cell_type": "code",
   "execution_count": 71,
   "id": "21cc59d4-454a-4a83-8abd-9b05cb450b21",
   "metadata": {},
   "outputs": [],
   "source": [
    "def create_moves_table(df):\n",
    "    df_moves_total = pd.DataFrame()\n",
    "    \n",
    "    for row in range(len(df)):\n",
    "        df_moves = pd.DataFrame()\n",
    "        \n",
    "        for move in range(len(df['AN'][row])):\n",
    "            tuple_move = tuple([row] + df['AN'][row][move].split(' ')) # ('0','1','e4','b6') or ('0', '38', 'Rfd1', None)\n",
    "            \n",
    "            if len(tuple_move) == 3:\n",
    "                tuple_move = tuple_move + (None, ) # last move\n",
    "            elif len(tuple_move) < 3 or len(tuple_move) > 4:\n",
    "                print(f'Unexpected number of elements after split: {len(tuple_move)} elements in {tuple_move} in {row} row')\n",
    "            \n",
    "            df_temp = pd.DataFrame([tuple_move], columns=['match_id', 'move_num', 'white_move', 'black_move']) # parse each list element\n",
    "            df_moves = pd.concat([df_moves, df_temp]) # add to df for this row (match) # add %time for this row\n",
    "        \n",
    "        df_moves_total = pd.concat([df_moves_total, df_moves]) # add %time for this row\n",
    "    \n",
    "    print('Done')\n",
    "    return df_moves_total"
   ]
  },
  {
   "cell_type": "markdown",
   "id": "712f3875-3947-4bdf-b20c-edeb88936326",
   "metadata": {},
   "source": [
    "### Get second data frame with moves per match"
   ]
  },
  {
   "cell_type": "code",
   "execution_count": 72,
   "id": "6f73d1e3-72ac-488a-8db3-07cc9c262211",
   "metadata": {},
   "outputs": [
    {
     "name": "stdout",
     "output_type": "stream",
     "text": [
      "Done\n",
      "CPU times: total: 484 ms\n",
      "Wall time: 523 ms\n"
     ]
    }
   ],
   "source": [
    "%%time\n",
    "df_moves_total = create_moves_table(df)"
   ]
  },
  {
   "cell_type": "code",
   "execution_count": 73,
   "id": "0a5a11ae-5cd7-4f3b-885d-b86e2152c0a1",
   "metadata": {},
   "outputs": [
    {
     "data": {
      "text/html": [
       "<div>\n",
       "<style scoped>\n",
       "    .dataframe tbody tr th:only-of-type {\n",
       "        vertical-align: middle;\n",
       "    }\n",
       "\n",
       "    .dataframe tbody tr th {\n",
       "        vertical-align: top;\n",
       "    }\n",
       "\n",
       "    .dataframe thead th {\n",
       "        text-align: right;\n",
       "    }\n",
       "</style>\n",
       "<table border=\"1\" class=\"dataframe\">\n",
       "  <thead>\n",
       "    <tr style=\"text-align: right;\">\n",
       "      <th></th>\n",
       "      <th>match_id</th>\n",
       "      <th>move_num</th>\n",
       "      <th>white_move</th>\n",
       "      <th>black_move</th>\n",
       "    </tr>\n",
       "  </thead>\n",
       "  <tbody>\n",
       "    <tr>\n",
       "      <th>0</th>\n",
       "      <td>0</td>\n",
       "      <td>1</td>\n",
       "      <td>d4</td>\n",
       "      <td>d5</td>\n",
       "    </tr>\n",
       "    <tr>\n",
       "      <th>0</th>\n",
       "      <td>0</td>\n",
       "      <td>2</td>\n",
       "      <td>c4</td>\n",
       "      <td>c6</td>\n",
       "    </tr>\n",
       "    <tr>\n",
       "      <th>0</th>\n",
       "      <td>0</td>\n",
       "      <td>3</td>\n",
       "      <td>e3</td>\n",
       "      <td>a6</td>\n",
       "    </tr>\n",
       "  </tbody>\n",
       "</table>\n",
       "</div>"
      ],
      "text/plain": [
       "   match_id move_num white_move black_move\n",
       "0         0        1         d4         d5\n",
       "0         0        2         c4         c6\n",
       "0         0        3         e3         a6"
      ]
     },
     "execution_count": 73,
     "metadata": {},
     "output_type": "execute_result"
    }
   ],
   "source": [
    "df_moves_total.head(3)"
   ]
  },
  {
   "cell_type": "code",
   "execution_count": 74,
   "id": "5a6e33f0-304c-43a6-aa63-fe1fc3d07159",
   "metadata": {},
   "outputs": [
    {
     "data": {
      "text/html": [
       "<div>\n",
       "<style scoped>\n",
       "    .dataframe tbody tr th:only-of-type {\n",
       "        vertical-align: middle;\n",
       "    }\n",
       "\n",
       "    .dataframe tbody tr th {\n",
       "        vertical-align: top;\n",
       "    }\n",
       "\n",
       "    .dataframe thead th {\n",
       "        text-align: right;\n",
       "    }\n",
       "</style>\n",
       "<table border=\"1\" class=\"dataframe\">\n",
       "  <thead>\n",
       "    <tr style=\"text-align: right;\">\n",
       "      <th></th>\n",
       "      <th>match_id</th>\n",
       "      <th>move_num</th>\n",
       "      <th>white_move</th>\n",
       "      <th>black_move</th>\n",
       "    </tr>\n",
       "  </thead>\n",
       "  <tbody>\n",
       "    <tr>\n",
       "      <th>0</th>\n",
       "      <td>9</td>\n",
       "      <td>41</td>\n",
       "      <td>Kg3</td>\n",
       "      <td>Qxd3+</td>\n",
       "    </tr>\n",
       "    <tr>\n",
       "      <th>0</th>\n",
       "      <td>9</td>\n",
       "      <td>42</td>\n",
       "      <td>Kh2</td>\n",
       "      <td>Qd1</td>\n",
       "    </tr>\n",
       "    <tr>\n",
       "      <th>0</th>\n",
       "      <td>9</td>\n",
       "      <td>43</td>\n",
       "      <td>Kg3</td>\n",
       "      <td>None</td>\n",
       "    </tr>\n",
       "  </tbody>\n",
       "</table>\n",
       "</div>"
      ],
      "text/plain": [
       "   match_id move_num white_move black_move\n",
       "0         9       41        Kg3      Qxd3+\n",
       "0         9       42        Kh2        Qd1\n",
       "0         9       43        Kg3       None"
      ]
     },
     "execution_count": 74,
     "metadata": {},
     "output_type": "execute_result"
    }
   ],
   "source": [
    "df_moves_total.tail(3)"
   ]
  },
  {
   "cell_type": "code",
   "execution_count": 21,
   "id": "0c21e6a2-e87c-44bf-abf7-814babca4b0d",
   "metadata": {},
   "outputs": [],
   "source": [
    "# for row in range(df.shape[0]):\n",
    "#     cell = df.loc[row, 'AN']\n",
    "#     if type(cell) == str:\n",
    "#         cell = get_moves_as_list(row)\n",
    "#     else:\n",
    "#         print(f'In row {row} value is a {type(cell)}')"
   ]
  },
  {
   "cell_type": "code",
   "execution_count": 22,
   "id": "696e9e8f-38cb-4d79-979f-833a5d57330e",
   "metadata": {},
   "outputs": [],
   "source": [
    "# v = pd.DataFrame([('0','38','Rfd1'),\n",
    "#                   ('0','2','d4','Bb7')\n",
    "#                  ],\n",
    "#                   columns=['match_id', 'move_num', 'white_move', 'black_move'])\n",
    "# v1 = pd.DataFrame([('1','1','e4','b6'),\n",
    "#                   ('1','2','d4','Bb7')\n",
    "#                  ],\n",
    "#                   columns=['match_id', 'move_num', 'white_move', 'black_move'])\n",
    "# v = pd.concat([v, v1])\n",
    "# v"
   ]
  },
  {
   "cell_type": "code",
   "execution_count": 62,
   "id": "bbc2c078-af82-42da-924a-f09ff29355e9",
   "metadata": {},
   "outputs": [
    {
     "name": "stdout",
     "output_type": "stream",
     "text": [
      "1. e4 { [%eval 0.27] } 1... e5 { [%eval 0.27] }\n",
      "===\n",
      " f4?! { [%eval -0.26] }\n",
      "===\n",
      ".. Nc6?! { [%eval 0.34] } 3. fxe5?? { [%eval -4.91] } 3... Nxe5?? { [%eval 0.59] } 4. Nf3?! { [%eval 0.03] } 4... d6?! { [%eval 0.76] } 5. Nxe5? { [%eval -1.06] } 5... dxe5?! { [%eval -0.32] } 6. Qf3 { [%eval -0.23] } 6... Bd6 { [%eval 0.0] } 7. Bc4 { [%eval -0.15] } 7... Qe7 { [%eval 0.24] } 8. Nc3 { [%eval 0.27] } 8... Nf6 { [%eval 0.38] } 9. Nd5?! { [%eval -0.26] } 9... Nxd5 { [%eval -0.32] } 10. Bxd5 { [%eval -0.28] } 10... c6 { [%eval -0.25] } 11. Bc4 { [%eval -0.5] } 11... Be6 { [%eval -0.12] } 12. Bb3 { [%eval -0.4] } 12... Qd7 { [%eval -0.03] } 13. O-O { [%eval -0.34] } 13... Bxb3 { [%eval -0.27] } 14. axb3 { [%eval -0.23] } 14... f6 { [%eval -0.12] } 15. Qh5+ { [%eval -0.25] } 15... Qf7 { [%eval -0.27] } 16. Qg4 { [%eval -0.29] } 16... h5 { [%eval -0.24] } 17. Qf5 { [%eval -0.24] } 17... Be7 { [%eval 0.07] } 18. Ra4?! { [%eval -0.54] } 18... g6?! { [%eval 0.21] } 19. Qf3 { [%eval -0.21] } 19... Qe6 { [%eval 0.07] } 20. d4?! { [%eval -0.68] } 20... b5?! { [%eval 0.02] } 21. Ra6 { [%eval 0.0] } 21... g5? { [%eval\n",
      "===\n",
      "3217] } 22. d5 { [%eval 1.81] } 22... Bc5+?? { [%eval\n",
      "===\n",
      "87] } 23. Kh1 { [%eval\n",
      "===\n",
      "35] } 23... Qd7?? { [%eval 14.38] } 24. Rxc6?? { [%eval\n",
      "===\n",
      "472] } 24... Rc8?? { [%eval #14] } 25. Rxc8+?? { [%eval\n",
      "===\n",
      "53] } 25... Qxc8 { [%eval\n",
      "===\n",
      "42] } 26. Qxf6 { [%eval\n",
      "===\n",
      "0] } 26... Rf8 { [%eval\n",
      "===\n",
      "7] } 27. Qxe5+ { [%eval\n",
      "===\n",
      "558] } 27... Kd8?? { [%eval #7] } 28. Bxg5+ { [%eval #6] } 28... Kd7 { [%eval #6] } 29. Qe6+?! { [%eval 10.56] } 29... Kc7 { [%eval 10.3] } 30. Qc6+ { [%eval 9.89] } 30... Kb8 { [%eval 9.52] } 31. Qxb5+?? { [%eval\n",
      "===\n",
      "634] }\n",
      "===\n"
     ]
    }
   ],
   "source": [
    "for x in range(len(df['AN'][33])):\n",
    "    print(df['AN'][33][x])\n",
    "    print('===')"
   ]
  },
  {
   "cell_type": "code",
   "execution_count": null,
   "id": "4356e59e-fc3b-4e20-925c-d3543ed5a312",
   "metadata": {},
   "outputs": [],
   "source": []
  }
 ],
 "metadata": {
  "kernelspec": {
   "display_name": "Python 3 (ipykernel)",
   "language": "python",
   "name": "python3"
  },
  "language_info": {
   "codemirror_mode": {
    "name": "ipython",
    "version": 3
   },
   "file_extension": ".py",
   "mimetype": "text/x-python",
   "name": "python",
   "nbconvert_exporter": "python",
   "pygments_lexer": "ipython3",
   "version": "3.10.9"
  }
 },
 "nbformat": 4,
 "nbformat_minor": 5
}
