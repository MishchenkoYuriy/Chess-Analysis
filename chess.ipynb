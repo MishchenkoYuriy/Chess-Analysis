{
 "cells": [
  {
   "cell_type": "code",
   "execution_count": 1,
   "id": "6a016a19-d763-451d-94ff-d7f6c2ca9100",
   "metadata": {},
   "outputs": [],
   "source": [
    "import re\n",
    "import numpy as np\n",
    "import pandas as pd\n",
    "\n",
    "pd.set_option('display.max_columns', None)"
   ]
  },
  {
   "cell_type": "markdown",
   "id": "1c347be5-0b0a-4cba-b2f6-c1ec90a2b2e1",
   "metadata": {},
   "source": [
    "## Extracting data"
   ]
  },
  {
   "cell_type": "code",
   "execution_count": 7,
   "id": "3a68ce7e-659e-40c5-8481-e05e74685739",
   "metadata": {},
   "outputs": [
    {
     "name": "stdout",
     "output_type": "stream",
     "text": [
      "1000000 rows was extracted\n",
      "CPU times: total: 11 s\n",
      "Wall time: 14.5 s\n"
     ]
    }
   ],
   "source": [
    "%%time\n",
    "df = pd.read_csv('chess_games.csv', nrows=1000000,\n",
    "                usecols=['Event', 'Result', 'UTCDate', 'Opening', 'Termination', 'AN']) # chunksize=100000, index_col=''\n",
    "print(f\"{len(df)} rows was extracted\")"
   ]
  },
  {
   "cell_type": "code",
   "execution_count": 8,
   "id": "2b9fa643-8e2e-4ac0-9eab-e447e00869ef",
   "metadata": {},
   "outputs": [
    {
     "data": {
      "text/html": [
       "<div>\n",
       "<style scoped>\n",
       "    .dataframe tbody tr th:only-of-type {\n",
       "        vertical-align: middle;\n",
       "    }\n",
       "\n",
       "    .dataframe tbody tr th {\n",
       "        vertical-align: top;\n",
       "    }\n",
       "\n",
       "    .dataframe thead th {\n",
       "        text-align: right;\n",
       "    }\n",
       "</style>\n",
       "<table border=\"1\" class=\"dataframe\">\n",
       "  <thead>\n",
       "    <tr style=\"text-align: right;\">\n",
       "      <th></th>\n",
       "      <th>Event</th>\n",
       "      <th>Result</th>\n",
       "      <th>UTCDate</th>\n",
       "      <th>Opening</th>\n",
       "      <th>Termination</th>\n",
       "      <th>AN</th>\n",
       "    </tr>\n",
       "  </thead>\n",
       "  <tbody>\n",
       "    <tr>\n",
       "      <th>0</th>\n",
       "      <td>Classical</td>\n",
       "      <td>1-0</td>\n",
       "      <td>2016.06.30</td>\n",
       "      <td>Slav Defense</td>\n",
       "      <td>Time forfeit</td>\n",
       "      <td>1. d4 d5 2. c4 c6 3. e3 a6 4. Nf3 e5 5. cxd5 e...</td>\n",
       "    </tr>\n",
       "    <tr>\n",
       "      <th>1</th>\n",
       "      <td>Blitz</td>\n",
       "      <td>0-1</td>\n",
       "      <td>2016.06.30</td>\n",
       "      <td>King's Pawn Opening: 2.b3</td>\n",
       "      <td>Normal</td>\n",
       "      <td>1. e4 e5 2. b3 Nf6 3. Bb2 Nc6 4. Nf3 d6 5. d3 ...</td>\n",
       "    </tr>\n",
       "    <tr>\n",
       "      <th>2</th>\n",
       "      <td>Blitz tournament</td>\n",
       "      <td>1-0</td>\n",
       "      <td>2016.06.30</td>\n",
       "      <td>Scandinavian Defense: Mieses-Kotroc Variation</td>\n",
       "      <td>Time forfeit</td>\n",
       "      <td>1. e4 d5 2. exd5 Qxd5 3. Nf3 Bg4 4. Be2 Nf6 5....</td>\n",
       "    </tr>\n",
       "  </tbody>\n",
       "</table>\n",
       "</div>"
      ],
      "text/plain": [
       "                Event Result     UTCDate  \\\n",
       "0          Classical     1-0  2016.06.30   \n",
       "1              Blitz     0-1  2016.06.30   \n",
       "2   Blitz tournament     1-0  2016.06.30   \n",
       "\n",
       "                                         Opening   Termination  \\\n",
       "0                                   Slav Defense  Time forfeit   \n",
       "1                      King's Pawn Opening: 2.b3        Normal   \n",
       "2  Scandinavian Defense: Mieses-Kotroc Variation  Time forfeit   \n",
       "\n",
       "                                                  AN  \n",
       "0  1. d4 d5 2. c4 c6 3. e3 a6 4. Nf3 e5 5. cxd5 e...  \n",
       "1  1. e4 e5 2. b3 Nf6 3. Bb2 Nc6 4. Nf3 d6 5. d3 ...  \n",
       "2  1. e4 d5 2. exd5 Qxd5 3. Nf3 Bg4 4. Be2 Nf6 5....  "
      ]
     },
     "execution_count": 8,
     "metadata": {},
     "output_type": "execute_result"
    }
   ],
   "source": [
    "df.head(3)"
   ]
  },
  {
   "cell_type": "markdown",
   "id": "b10aa184-d4fd-458c-b282-9b2979ceef1b",
   "metadata": {},
   "source": [
    "## Transform data"
   ]
  },
  {
   "cell_type": "markdown",
   "id": "60bcbb56-a743-48b0-bfa1-8c106f1875db",
   "metadata": {},
   "source": [
    "### Filter dataframe"
   ]
  },
  {
   "cell_type": "markdown",
   "id": "7990bafa-f482-40d3-a7fa-b09bb619f622",
   "metadata": {},
   "source": [
    "#### Get rid of ambiguous match results and matches that was abandoned or have rules infractions"
   ]
  },
  {
   "cell_type": "code",
   "execution_count": 9,
   "id": "7951eec3-dce9-4987-93f5-0502c3630911",
   "metadata": {},
   "outputs": [
    {
     "name": "stdout",
     "output_type": "stream",
     "text": [
      "2389 rows was removed\n",
      "997611 rows left\n"
     ]
    }
   ],
   "source": [
    "filt = (df['Result'] != '*') & (df['Termination'] != 'Abandoned') & (df['Termination'] != 'Rules infraction')\n",
    "print(f\"{len(df)-len(df[filt])} rows was removed\")\n",
    "df = df[filt]\n",
    "print(f\"{len(df)} rows left\")"
   ]
  },
  {
   "cell_type": "markdown",
   "id": "684dc4ff-1172-411f-b5a2-7df2bec14b1e",
   "metadata": {},
   "source": [
    "#### Remove short matches (~less than 10 moves)"
   ]
  },
  {
   "cell_type": "code",
   "execution_count": 10,
   "id": "59ff7d59-5b32-4f47-bd34-51c32ce7da52",
   "metadata": {},
   "outputs": [
    {
     "name": "stdout",
     "output_type": "stream",
     "text": [
      "11218 rows was removed\n",
      "986393 rows left\n"
     ]
    }
   ],
   "source": [
    "filt = df[\"AN\"].apply(len) > 50\n",
    "print(f\"{len(df)-len(df[filt])} rows was removed\")\n",
    "df = df[filt]\n",
    "print(f\"{len(df)} rows left\")"
   ]
  },
  {
   "cell_type": "markdown",
   "id": "bb845c90-b9cb-4f8f-8995-74d648744813",
   "metadata": {
    "tags": []
   },
   "source": [
    "#### Get rid of unstructured string values in \"AN\" column"
   ]
  },
  {
   "cell_type": "code",
   "execution_count": 11,
   "id": "148f5d5a-0b1e-45b7-97ed-6708b7c59d48",
   "metadata": {},
   "outputs": [
    {
     "name": "stdout",
     "output_type": "stream",
     "text": [
      "127159 rows was removed\n",
      "859234 rows left\n"
     ]
    }
   ],
   "source": [
    "filt = ~df['AN'].str.contains('\\[%eval')\n",
    "print(f\"{len(df)-len(df[filt])} rows was removed\")\n",
    "df = df[filt]\n",
    "print(f\"{len(df)} rows left\")"
   ]
  },
  {
   "cell_type": "markdown",
   "id": "51fb0d0e-d74f-4b02-a84e-b2efa37589bc",
   "metadata": {
    "tags": []
   },
   "source": [
    "#### Remove unpopular openings (less than 1500 matches)"
   ]
  },
  {
   "cell_type": "code",
   "execution_count": 12,
   "id": "e6ee7549-4d11-4f50-aa69-9e2f26347775",
   "metadata": {},
   "outputs": [],
   "source": [
    "# value_counts = df.stack().value_counts() # Entire DataFrame \n",
    "# to_remove = value_counts[value_counts <= 1500].index\n",
    "# df.replace(to_remove, np.nan, inplace=True)"
   ]
  },
  {
   "cell_type": "code",
   "execution_count": 13,
   "id": "af1b2ddd-f276-45a2-bfcf-41e155d4540d",
   "metadata": {},
   "outputs": [
    {
     "name": "stdout",
     "output_type": "stream",
     "text": [
      "353753 rows was removed\n",
      "505481 rows left\n"
     ]
    }
   ],
   "source": [
    "vc = df['Opening'].value_counts()\n",
    "vals_to_remove = vc[vc < 1500].index.values\n",
    "df['Opening'].loc[df['Opening'].isin(vals_to_remove)] = '111'\n",
    "filt = df['Opening'] != '111'\n",
    "print(f\"{len(df)-len(df[filt])} rows was removed\")\n",
    "df = df[filt]\n",
    "print(f\"{len(df)} rows left\")"
   ]
  },
  {
   "cell_type": "markdown",
   "id": "ecc9eeab-d8af-4901-b80b-920aeefcb9c5",
   "metadata": {},
   "source": [
    "### Expand and rearrange dataframe"
   ]
  },
  {
   "cell_type": "markdown",
   "id": "99614a67-2353-48b5-9e8d-94b3e6f392ce",
   "metadata": {},
   "source": [
    "#### Reset index"
   ]
  },
  {
   "cell_type": "code",
   "execution_count": 14,
   "id": "7a73c2f2-ac6f-4608-81c8-19d0a7c51a05",
   "metadata": {},
   "outputs": [],
   "source": [
    "df = df.reset_index(drop=True)"
   ]
  },
  {
   "cell_type": "markdown",
   "id": "b3f312c3-698a-4e9d-870a-780ef2d842c0",
   "metadata": {},
   "source": [
    "#### Create column \"Tournament\""
   ]
  },
  {
   "cell_type": "code",
   "execution_count": 15,
   "id": "f951271b-4bd6-4759-be4b-8e5fd9eea5b3",
   "metadata": {},
   "outputs": [],
   "source": [
    "df['Tournament'] = df['Event'].str.contains('tournament')"
   ]
  },
  {
   "cell_type": "markdown",
   "id": "83fbda1b-9120-414c-8abf-ba4db51b354c",
   "metadata": {},
   "source": [
    "#### Rearrange column \"Event\""
   ]
  },
  {
   "cell_type": "code",
   "execution_count": 16,
   "id": "ac06dddb-3f9a-434b-bc37-bf1ca8117e87",
   "metadata": {},
   "outputs": [],
   "source": [
    "df['Event'] = df['Event'].map({' Classical ': 'Classical',\n",
    "                               ' Blitz ': 'Blitz',\n",
    "                               ' Blitz tournament ': 'Blitz',\n",
    "                               ' Correspondence ': 'Classical',\n",
    "                               ' Classical tournament ': 'Classical',\n",
    "                               ' Bullet tournament ': 'Bullet',\n",
    "                               ' Bullet ': 'Bullet',\n",
    "                               'Blitz tournament ': 'Blitz',\n",
    "                               'Bullet ': 'Bullet',\n",
    "                               'Classical ': 'Classical',\n",
    "                               'Blitz ': 'Blitz'\n",
    "                               })"
   ]
  },
  {
   "cell_type": "markdown",
   "id": "e33de9c5-16d0-4c67-bb52-f0a99df72c58",
   "metadata": {},
   "source": [
    "#### Change columns datatype"
   ]
  },
  {
   "cell_type": "code",
   "execution_count": 27,
   "id": "539c009b-475f-4f6c-b451-746d47c5e85e",
   "metadata": {},
   "outputs": [],
   "source": [
    "df['Event'] = df['Event'].astype('category')\n",
    "df['Result'] = df['Result'].astype('category')\n",
    "df['Termination'] = df['Termination'].astype('category')\n",
    "df['UTCDate'] = pd.to_datetime(df['UTCDate'])"
   ]
  },
  {
   "cell_type": "code",
   "execution_count": 29,
   "id": "3aa77f91-0824-4523-96a0-c56dbe1449c5",
   "metadata": {},
   "outputs": [
    {
     "data": {
      "text/html": [
       "<div>\n",
       "<style scoped>\n",
       "    .dataframe tbody tr th:only-of-type {\n",
       "        vertical-align: middle;\n",
       "    }\n",
       "\n",
       "    .dataframe tbody tr th {\n",
       "        vertical-align: top;\n",
       "    }\n",
       "\n",
       "    .dataframe thead th {\n",
       "        text-align: right;\n",
       "    }\n",
       "</style>\n",
       "<table border=\"1\" class=\"dataframe\">\n",
       "  <thead>\n",
       "    <tr style=\"text-align: right;\">\n",
       "      <th></th>\n",
       "      <th>Event</th>\n",
       "      <th>Result</th>\n",
       "      <th>UTCDate</th>\n",
       "      <th>Opening</th>\n",
       "      <th>Termination</th>\n",
       "      <th>AN</th>\n",
       "      <th>Tournament</th>\n",
       "    </tr>\n",
       "  </thead>\n",
       "  <tbody>\n",
       "    <tr>\n",
       "      <th>0</th>\n",
       "      <td>Classical</td>\n",
       "      <td>1-0</td>\n",
       "      <td>2016-06-30</td>\n",
       "      <td>Slav Defense</td>\n",
       "      <td>Time forfeit</td>\n",
       "      <td>1. d4 d5 2. c4 c6 3. e3 a6 4. Nf3 e5 5. cxd5 e...</td>\n",
       "      <td>False</td>\n",
       "    </tr>\n",
       "    <tr>\n",
       "      <th>1</th>\n",
       "      <td>Blitz</td>\n",
       "      <td>1-0</td>\n",
       "      <td>2016-06-30</td>\n",
       "      <td>Scandinavian Defense: Mieses-Kotroc Variation</td>\n",
       "      <td>Time forfeit</td>\n",
       "      <td>1. e4 d5 2. exd5 Qxd5 3. Nf3 Bg4 4. Be2 Nf6 5....</td>\n",
       "      <td>True</td>\n",
       "    </tr>\n",
       "    <tr>\n",
       "      <th>2</th>\n",
       "      <td>Classical</td>\n",
       "      <td>1-0</td>\n",
       "      <td>2016-06-30</td>\n",
       "      <td>Van't Kruijs Opening</td>\n",
       "      <td>Normal</td>\n",
       "      <td>1. e3 Nf6 2. Bc4 d6 3. e4 e6 4. Nf3 Nxe4 5. Nd...</td>\n",
       "      <td>False</td>\n",
       "    </tr>\n",
       "    <tr>\n",
       "      <th>3</th>\n",
       "      <td>Blitz</td>\n",
       "      <td>0-1</td>\n",
       "      <td>2016-06-30</td>\n",
       "      <td>Vienna Game</td>\n",
       "      <td>Normal</td>\n",
       "      <td>1. e4 e5 2. Nc3 d6 3. Nf3 h6 4. Bc4 c6 5. b3 Q...</td>\n",
       "      <td>True</td>\n",
       "    </tr>\n",
       "    <tr>\n",
       "      <th>4</th>\n",
       "      <td>Blitz</td>\n",
       "      <td>1-0</td>\n",
       "      <td>2016-06-30</td>\n",
       "      <td>Queen's Pawn Game: London System</td>\n",
       "      <td>Normal</td>\n",
       "      <td>1. d4 d5 2. Nf3 Nf6 3. Bf4 c6 4. e3 Bg4 5. Be2...</td>\n",
       "      <td>True</td>\n",
       "    </tr>\n",
       "  </tbody>\n",
       "</table>\n",
       "</div>"
      ],
      "text/plain": [
       "       Event Result    UTCDate                                        Opening  \\\n",
       "0  Classical    1-0 2016-06-30                                   Slav Defense   \n",
       "1      Blitz    1-0 2016-06-30  Scandinavian Defense: Mieses-Kotroc Variation   \n",
       "2  Classical    1-0 2016-06-30                           Van't Kruijs Opening   \n",
       "3      Blitz    0-1 2016-06-30                                    Vienna Game   \n",
       "4      Blitz    1-0 2016-06-30               Queen's Pawn Game: London System   \n",
       "\n",
       "    Termination                                                 AN  Tournament  \n",
       "0  Time forfeit  1. d4 d5 2. c4 c6 3. e3 a6 4. Nf3 e5 5. cxd5 e...       False  \n",
       "1  Time forfeit  1. e4 d5 2. exd5 Qxd5 3. Nf3 Bg4 4. Be2 Nf6 5....        True  \n",
       "2        Normal  1. e3 Nf6 2. Bc4 d6 3. e4 e6 4. Nf3 Nxe4 5. Nd...       False  \n",
       "3        Normal  1. e4 e5 2. Nc3 d6 3. Nf3 h6 4. Bc4 c6 5. b3 Q...        True  \n",
       "4        Normal  1. d4 d5 2. Nf3 Nf6 3. Bf4 c6 4. e3 Bg4 5. Be2...        True  "
      ]
     },
     "execution_count": 29,
     "metadata": {},
     "output_type": "execute_result"
    }
   ],
   "source": [
    "df.head()"
   ]
  },
  {
   "cell_type": "markdown",
   "id": "377fee54-8cc5-4bbd-858a-b114aaca9cde",
   "metadata": {},
   "source": [
    "#### Parse column \"AN\". Transform the string of moves to list"
   ]
  },
  {
   "cell_type": "code",
   "execution_count": 30,
   "id": "1d1e4a69-eebe-45a3-b20e-362029eee08f",
   "metadata": {},
   "outputs": [],
   "source": [
    "def get_raw_list(row: str) -> list:\n",
    "    '''Parse a string to list of moves.\n",
    "       List elements are strings.'''\n",
    "    raw_list = []\n",
    "    raw_list.append(row)\n",
    "    sep_num = 2\n",
    "    while True:  # parse as many moves as possible\n",
    "        separator = str(sep_num)+'.'\n",
    "        if separator in raw_list[-1]:  # if the next move is found\n",
    "            raw_list = raw_list[0:-1] + raw_list[-1].split(' '+separator) # concatenate all previous moves and remainder\n",
    "            raw_list[-1] = str(sep_num) + raw_list[-1]\n",
    "            sep_num+=1\n",
    "        else:  # if the next move is not found\n",
    "            raw_list[-1] = re.sub(' 1-0',     '', raw_list[-1])\n",
    "            raw_list[-1] = re.sub(' 0-1',     '', raw_list[-1])\n",
    "            raw_list[-1] = re.sub(' 1/2-1/2', '', raw_list[-1])\n",
    "            raw_list[-1] = re.sub(' \\*',      '', raw_list[-1])\n",
    "            raw_list[0] = re.sub('1.', '1', raw_list[0])\n",
    "            break\n",
    "    return raw_list"
   ]
  },
  {
   "cell_type": "code",
   "execution_count": 31,
   "id": "62915db8-1c28-47b7-904a-62a63a598123",
   "metadata": {},
   "outputs": [
    {
     "name": "stdout",
     "output_type": "stream",
     "text": [
      "CPU times: total: 47.1 s\n",
      "Wall time: 48.2 s\n"
     ]
    }
   ],
   "source": [
    "%%time\n",
    "df[\"AN\"] = df[\"AN\"].apply(get_raw_list)"
   ]
  },
  {
   "cell_type": "markdown",
   "id": "188daa49-e959-4464-810d-46ec7075a59a",
   "metadata": {},
   "source": [
    "#### NEW: apply"
   ]
  },
  {
   "cell_type": "code",
   "execution_count": 32,
   "id": "bbe418e8-4846-4773-8a5f-e3913039f597",
   "metadata": {},
   "outputs": [],
   "source": [
    "def populate_list_moves_total(row: list):\n",
    "    for move in row:\n",
    "        tuple_move = tuple([0] + move.split(' '))\n",
    "\n",
    "        if len(tuple_move) == 3:\n",
    "            tuple_move = tuple_move + (None, ) # ('0', '38', 'Rfd1', None)\n",
    "        elif len(tuple_move) < 3 or len(tuple_move) > 4:\n",
    "            print(f'Unexpected number of elements after split: {len(tuple_move)} elements in {tuple_move} in {row} row')\n",
    "\n",
    "        list_moves_total.append(tuple_move)"
   ]
  },
  {
   "cell_type": "code",
   "execution_count": 33,
   "id": "6121fe0c-fbb2-4801-be9b-f4f672993466",
   "metadata": {},
   "outputs": [
    {
     "name": "stdout",
     "output_type": "stream",
     "text": [
      "CPU times: total: 28.6 s\n",
      "Wall time: 51.8 s\n"
     ]
    }
   ],
   "source": [
    "%%time\n",
    "%%capture\n",
    "list_moves_total: list[tuple] = []\n",
    "df[\"AN\"].apply(populate_list_moves_total)"
   ]
  },
  {
   "cell_type": "code",
   "execution_count": 34,
   "id": "562d6f96-6188-47cb-aed4-ba4362fa47a3",
   "metadata": {},
   "outputs": [
    {
     "data": {
      "text/plain": [
       "17541335"
      ]
     },
     "execution_count": 34,
     "metadata": {},
     "output_type": "execute_result"
    }
   ],
   "source": [
    "len(list_moves_total)"
   ]
  },
  {
   "cell_type": "markdown",
   "id": "68e920c5-2437-40c0-9c8e-6de9fd43d621",
   "metadata": {},
   "source": [
    "#### list_moves_total -> df_moves_total"
   ]
  },
  {
   "cell_type": "code",
   "execution_count": 35,
   "id": "baf9f903-e400-4a72-9bcc-76300aa09325",
   "metadata": {},
   "outputs": [
    {
     "name": "stdout",
     "output_type": "stream",
     "text": [
      "CPU times: total: 29.3 s\n",
      "Wall time: 2min 9s\n"
     ]
    }
   ],
   "source": [
    "%%time\n",
    "%%capture\n",
    "df_moves_total = pd.DataFrame(list_moves_total, columns=['match_id', 'move_num', 'white_move', 'black_move'])"
   ]
  },
  {
   "cell_type": "code",
   "execution_count": 40,
   "id": "a9d95fb5-bb6d-4001-80bb-d3cfc297ee72",
   "metadata": {},
   "outputs": [
    {
     "name": "stdout",
     "output_type": "stream",
     "text": [
      "<class 'pandas.core.frame.DataFrame'>\n",
      "RangeIndex: 17541335 entries, 0 to 17541334\n",
      "Data columns (total 4 columns):\n",
      " #   Column      Dtype \n",
      "---  ------      ----- \n",
      " 0   match_id    int64 \n",
      " 1   move_num    object\n",
      " 2   white_move  object\n",
      " 3   black_move  object\n",
      "dtypes: int64(1), object(3)\n",
      "memory usage: 535.3+ MB\n"
     ]
    }
   ],
   "source": [
    "df_moves_total.info()"
   ]
  },
  {
   "cell_type": "markdown",
   "id": "712f3875-3947-4bdf-b20c-edeb88936326",
   "metadata": {},
   "source": [
    "#### OLD: Get second data frame with moves per match"
   ]
  },
  {
   "cell_type": "code",
   "execution_count": 48,
   "id": "21cc59d4-454a-4a83-8abd-9b05cb450b21",
   "metadata": {},
   "outputs": [],
   "source": [
    "def create_moves_table(df):\n",
    "    df_moves_total = pd.DataFrame()\n",
    "    \n",
    "    for row in range(len(df)):\n",
    "        df_moves = pd.DataFrame()\n",
    "        \n",
    "        for move in range(len(df['AN'][row])):\n",
    "            tuple_move = tuple([row] + df['AN'][row][move].split(' ')) # ('0','1','e4','b6')\n",
    "            \n",
    "            if len(tuple_move) == 3:\n",
    "                tuple_move = tuple_move + (None, ) # ('0', '38', 'Rfd1', None)\n",
    "            elif len(tuple_move) < 3 or len(tuple_move) > 4:\n",
    "                print(f'Unexpected number of elements after split: {len(tuple_move)} elements in {tuple_move} in {row} row')\n",
    "            \n",
    "            df_temp = pd.DataFrame([tuple_move], columns=['match_id', 'move_num', 'white_move', 'black_move']) # parse each list element\n",
    "            df_moves = pd.concat([df_moves, df_temp]) # add to df for this row (match)\n",
    "        \n",
    "        df_moves_total = pd.concat([df_moves_total, df_moves])\n",
    "    \n",
    "    print('Done')\n",
    "    return df_moves_total"
   ]
  },
  {
   "cell_type": "code",
   "execution_count": 49,
   "id": "6f73d1e3-72ac-488a-8db3-07cc9c262211",
   "metadata": {},
   "outputs": [
    {
     "name": "stdout",
     "output_type": "stream",
     "text": [
      "Done\n",
      "CPU times: total: 531 ms\n",
      "Wall time: 518 ms\n"
     ]
    }
   ],
   "source": [
    "%%time\n",
    "df_moves_total = create_moves_table(df)"
   ]
  },
  {
   "cell_type": "markdown",
   "id": "c1b7adf8-0900-440a-9e41-ee5bd8544902",
   "metadata": {},
   "source": [
    "#### NEW: bare"
   ]
  },
  {
   "cell_type": "code",
   "execution_count": 20,
   "id": "5f15073c-1efe-4f18-ae67-54569765e64b",
   "metadata": {},
   "outputs": [
    {
     "name": "stdout",
     "output_type": "stream",
     "text": [
      "CPU times: total: 0 ns\n",
      "Wall time: 1 ms\n"
     ]
    }
   ],
   "source": [
    "%%time\n",
    "list_moves_total: list[tuple] = [] # pd.DataFrame()\n",
    "\n",
    "for i, row in enumerate(df['AN'].values):\n",
    "    #df_moves: list[tuple] = [] # pd.DataFrame()\n",
    "    \n",
    "    for move in row:\n",
    "        tuple_move = tuple([i] + move.split(' '))\n",
    "\n",
    "        if len(tuple_move) == 3:\n",
    "            tuple_move = tuple_move + (None, ) # ('0', '38', 'Rfd1', None)\n",
    "        elif len(tuple_move) < 3 or len(tuple_move) > 4:\n",
    "            print(f'Unexpected number of elements after split: {len(tuple_move)} elements in {tuple_move} in {row} row')\n",
    "\n",
    "        #df_temp = pd.DataFrame([tuple_move], columns=['match_id', 'move_num', 'white_move', 'black_move'])\n",
    "        #df_moves.append(tuple_move)\n",
    "        #df_moves = pd.concat([df_moves, df_temp])\n",
    "    \n",
    "    #df_moves_total = pd.concat([df_moves_total, df_moves])\n",
    "        list_moves_total.append(tuple_move)"
   ]
  },
  {
   "cell_type": "markdown",
   "id": "741d1ce8-a8c1-44b0-9dd7-1bd331c11076",
   "metadata": {},
   "source": [
    "#### Draft"
   ]
  },
  {
   "cell_type": "code",
   "execution_count": 22,
   "id": "12931e5e-ac15-4c56-a830-88cb91fdc42e",
   "metadata": {},
   "outputs": [],
   "source": [
    "# %%time\n",
    "# for i, row in df.iterrows():\n",
    "#     df.at[i, 'Event'] = df.at[i, 'Event']"
   ]
  },
  {
   "cell_type": "code",
   "execution_count": 23,
   "id": "24978206-ce54-4350-9e83-da830f4f66ae",
   "metadata": {},
   "outputs": [],
   "source": [
    "# %%time\n",
    "# for i in df.index:\n",
    "#     df['Event'].iloc[i] = df['Event'].iloc[i]"
   ]
  },
  {
   "cell_type": "code",
   "execution_count": 24,
   "id": "e4b2a2ad-1eb0-4c1b-a44f-639246d869c7",
   "metadata": {},
   "outputs": [
    {
     "data": {
      "text/plain": [
       "'1 d4 d5'"
      ]
     },
     "execution_count": 24,
     "metadata": {},
     "output_type": "execute_result"
    }
   ],
   "source": [
    "df['AN'].values[0][0]"
   ]
  },
  {
   "cell_type": "code",
   "execution_count": null,
   "id": "99846ef5-9eee-4090-8af9-40887c161b32",
   "metadata": {},
   "outputs": [],
   "source": [
    "# %%time\n",
    "# df_moves_total = create_moves_table_no_fk_1(df['AN'].values)"
   ]
  },
  {
   "cell_type": "code",
   "execution_count": 71,
   "id": "0a5a11ae-5cd7-4f3b-885d-b86e2152c0a1",
   "metadata": {},
   "outputs": [],
   "source": [
    "# dfm = pd.DataFrame([df_moves_total], columns=['match_id', 'move_num', 'white_move', 'black_move'])#.head(3)\n",
    "# dfm"
   ]
  },
  {
   "cell_type": "code",
   "execution_count": 209,
   "id": "5a6e33f0-304c-43a6-aa63-fe1fc3d07159",
   "metadata": {},
   "outputs": [
    {
     "data": {
      "text/html": [
       "<div>\n",
       "<style scoped>\n",
       "    .dataframe tbody tr th:only-of-type {\n",
       "        vertical-align: middle;\n",
       "    }\n",
       "\n",
       "    .dataframe tbody tr th {\n",
       "        vertical-align: top;\n",
       "    }\n",
       "\n",
       "    .dataframe thead th {\n",
       "        text-align: right;\n",
       "    }\n",
       "</style>\n",
       "<table border=\"1\" class=\"dataframe\">\n",
       "  <thead>\n",
       "    <tr style=\"text-align: right;\">\n",
       "      <th></th>\n",
       "      <th>match_id</th>\n",
       "      <th>move_num</th>\n",
       "      <th>white_move</th>\n",
       "      <th>black_move</th>\n",
       "    </tr>\n",
       "  </thead>\n",
       "  <tbody>\n",
       "    <tr>\n",
       "      <th>0</th>\n",
       "      <td>0</td>\n",
       "      <td>13</td>\n",
       "      <td>Rxd2</td>\n",
       "      <td>Be6</td>\n",
       "    </tr>\n",
       "    <tr>\n",
       "      <th>0</th>\n",
       "      <td>0</td>\n",
       "      <td>14</td>\n",
       "      <td>b3</td>\n",
       "      <td>Rfd8</td>\n",
       "    </tr>\n",
       "    <tr>\n",
       "      <th>0</th>\n",
       "      <td>0</td>\n",
       "      <td>15</td>\n",
       "      <td>Ba3</td>\n",
       "      <td>Rxd2</td>\n",
       "    </tr>\n",
       "  </tbody>\n",
       "</table>\n",
       "</div>"
      ],
      "text/plain": [
       "   match_id move_num white_move black_move\n",
       "0         0       13       Rxd2        Be6\n",
       "0         0       14         b3       Rfd8\n",
       "0         0       15        Ba3       Rxd2"
      ]
     },
     "execution_count": 209,
     "metadata": {},
     "output_type": "execute_result"
    }
   ],
   "source": [
    "df_moves_total.tail(3)"
   ]
  },
  {
   "cell_type": "code",
   "execution_count": 210,
   "id": "fa1c6889-015b-40e9-8c17-65733014324c",
   "metadata": {},
   "outputs": [
    {
     "data": {
      "text/plain": [
       "30793"
      ]
     },
     "execution_count": 210,
     "metadata": {},
     "output_type": "execute_result"
    }
   ],
   "source": [
    "length = 0\n",
    "for row in range(len(df)):\n",
    "    length = length + len(df['AN'][row])\n",
    "length"
   ]
  },
  {
   "cell_type": "code",
   "execution_count": 6,
   "id": "3161754f-7b92-4ae1-bdcc-881b88686447",
   "metadata": {},
   "outputs": [
    {
     "data": {
      "text/plain": [
       "453"
      ]
     },
     "execution_count": 6,
     "metadata": {},
     "output_type": "execute_result"
    }
   ],
   "source": [
    "len(df_moves_total)"
   ]
  },
  {
   "cell_type": "code",
   "execution_count": 22,
   "id": "696e9e8f-38cb-4d79-979f-833a5d57330e",
   "metadata": {},
   "outputs": [],
   "source": [
    "# v = pd.DataFrame([('0','38','Rfd1'),\n",
    "#                   ('0','2','d4','Bb7')\n",
    "#                  ],\n",
    "#                   columns=['match_id', 'move_num', 'white_move', 'black_move'])\n",
    "# v1 = pd.DataFrame([('1','1','e4','b6'),\n",
    "#                   ('1','2','d4','Bb7')\n",
    "#                  ],\n",
    "#                   columns=['match_id', 'move_num', 'white_move', 'black_move'])\n",
    "# v = pd.concat([v, v1])\n",
    "# v"
   ]
  },
  {
   "cell_type": "code",
   "execution_count": null,
   "id": "e8cb1827-35da-4252-a724-be379b2fd3f3",
   "metadata": {},
   "outputs": [],
   "source": []
  }
 ],
 "metadata": {
  "kernelspec": {
   "display_name": "Python 3 (ipykernel)",
   "language": "python",
   "name": "python3"
  },
  "language_info": {
   "codemirror_mode": {
    "name": "ipython",
    "version": 3
   },
   "file_extension": ".py",
   "mimetype": "text/x-python",
   "name": "python",
   "nbconvert_exporter": "python",
   "pygments_lexer": "ipython3",
   "version": "3.10.9"
  }
 },
 "nbformat": 4,
 "nbformat_minor": 5
}
