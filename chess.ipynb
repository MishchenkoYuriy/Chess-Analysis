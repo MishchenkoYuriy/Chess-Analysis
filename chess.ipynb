{
 "cells": [
  {
   "cell_type": "code",
   "execution_count": 115,
   "id": "6a016a19-d763-451d-94ff-d7f6c2ca9100",
   "metadata": {},
   "outputs": [],
   "source": [
    "import re\n",
    "import pandas as pd\n",
    "\n",
    "pd.set_option('display.max_columns', None)"
   ]
  },
  {
   "cell_type": "code",
   "execution_count": 151,
   "id": "3a68ce7e-659e-40c5-8481-e05e74685739",
   "metadata": {},
   "outputs": [
    {
     "name": "stdout",
     "output_type": "stream",
     "text": [
      "CPU times: total: 10.2 s\n",
      "Wall time: 12 s\n"
     ]
    }
   ],
   "source": [
    "%%time\n",
    "df = pd.read_csv('chess_games.csv', nrows=1000000,\n",
    "                usecols=['Event', 'Result', 'UTCDate', 'Opening', 'Termination', 'AN']) # chunksize=100000, index_col=''"
   ]
  },
  {
   "cell_type": "code",
   "execution_count": 152,
   "id": "2b9fa643-8e2e-4ac0-9eab-e447e00869ef",
   "metadata": {},
   "outputs": [
    {
     "data": {
      "text/html": [
       "<div>\n",
       "<style scoped>\n",
       "    .dataframe tbody tr th:only-of-type {\n",
       "        vertical-align: middle;\n",
       "    }\n",
       "\n",
       "    .dataframe tbody tr th {\n",
       "        vertical-align: top;\n",
       "    }\n",
       "\n",
       "    .dataframe thead th {\n",
       "        text-align: right;\n",
       "    }\n",
       "</style>\n",
       "<table border=\"1\" class=\"dataframe\">\n",
       "  <thead>\n",
       "    <tr style=\"text-align: right;\">\n",
       "      <th></th>\n",
       "      <th>Event</th>\n",
       "      <th>Result</th>\n",
       "      <th>UTCDate</th>\n",
       "      <th>Opening</th>\n",
       "      <th>Termination</th>\n",
       "      <th>AN</th>\n",
       "    </tr>\n",
       "  </thead>\n",
       "  <tbody>\n",
       "    <tr>\n",
       "      <th>0</th>\n",
       "      <td>Classical</td>\n",
       "      <td>1-0</td>\n",
       "      <td>2016.06.30</td>\n",
       "      <td>Slav Defense</td>\n",
       "      <td>Time forfeit</td>\n",
       "      <td>1. d4 d5 2. c4 c6 3. e3 a6 4. Nf3 e5 5. cxd5 e...</td>\n",
       "    </tr>\n",
       "    <tr>\n",
       "      <th>1</th>\n",
       "      <td>Blitz</td>\n",
       "      <td>0-1</td>\n",
       "      <td>2016.06.30</td>\n",
       "      <td>King's Pawn Opening: 2.b3</td>\n",
       "      <td>Normal</td>\n",
       "      <td>1. e4 e5 2. b3 Nf6 3. Bb2 Nc6 4. Nf3 d6 5. d3 ...</td>\n",
       "    </tr>\n",
       "    <tr>\n",
       "      <th>2</th>\n",
       "      <td>Blitz tournament</td>\n",
       "      <td>1-0</td>\n",
       "      <td>2016.06.30</td>\n",
       "      <td>Scandinavian Defense: Mieses-Kotroc Variation</td>\n",
       "      <td>Time forfeit</td>\n",
       "      <td>1. e4 d5 2. exd5 Qxd5 3. Nf3 Bg4 4. Be2 Nf6 5....</td>\n",
       "    </tr>\n",
       "  </tbody>\n",
       "</table>\n",
       "</div>"
      ],
      "text/plain": [
       "                Event Result     UTCDate  \\\n",
       "0          Classical     1-0  2016.06.30   \n",
       "1              Blitz     0-1  2016.06.30   \n",
       "2   Blitz tournament     1-0  2016.06.30   \n",
       "\n",
       "                                         Opening   Termination  \\\n",
       "0                                   Slav Defense  Time forfeit   \n",
       "1                      King's Pawn Opening: 2.b3        Normal   \n",
       "2  Scandinavian Defense: Mieses-Kotroc Variation  Time forfeit   \n",
       "\n",
       "                                                  AN  \n",
       "0  1. d4 d5 2. c4 c6 3. e3 a6 4. Nf3 e5 5. cxd5 e...  \n",
       "1  1. e4 e5 2. b3 Nf6 3. Bb2 Nc6 4. Nf3 d6 5. d3 ...  \n",
       "2  1. e4 d5 2. exd5 Qxd5 3. Nf3 Bg4 4. Be2 Nf6 5....  "
      ]
     },
     "execution_count": 152,
     "metadata": {},
     "output_type": "execute_result"
    }
   ],
   "source": [
    "df.head(3)"
   ]
  },
  {
   "cell_type": "code",
   "execution_count": 153,
   "id": "7951eec3-dce9-4987-93f5-0502c3630911",
   "metadata": {},
   "outputs": [],
   "source": [
    "filt = (df['Result'] != '*') & (df['Termination'] != 'Abandoned') & (df['Termination'] != 'Rules infraction')\n",
    "df = df[filt]"
   ]
  },
  {
   "cell_type": "code",
   "execution_count": 154,
   "id": "539c009b-475f-4f6c-b451-746d47c5e85e",
   "metadata": {},
   "outputs": [],
   "source": [
    "df['UTCDate'] = pd.to_datetime(df['UTCDate'])"
   ]
  },
  {
   "cell_type": "code",
   "execution_count": 155,
   "id": "f951271b-4bd6-4759-be4b-8e5fd9eea5b3",
   "metadata": {},
   "outputs": [],
   "source": [
    "df['Tournament'] = df['Event'].str.contains('tournament')"
   ]
  },
  {
   "cell_type": "code",
   "execution_count": 156,
   "id": "0ededdb8-e198-43f5-b5d6-399d53bbc048",
   "metadata": {},
   "outputs": [
    {
     "data": {
      "text/plain": [
       "Event\n",
       " Blitz                    374663\n",
       " Classical                241289\n",
       " Bullet                   196192\n",
       " Bullet tournament         79983\n",
       " Blitz tournament          74760\n",
       " Classical tournament      26900\n",
       " Correspondence             3816\n",
       "Classical                      4\n",
       "Blitz                          2\n",
       "Blitz tournament               1\n",
       "Bullet                         1\n",
       "Name: count, dtype: int64"
      ]
     },
     "execution_count": 156,
     "metadata": {},
     "output_type": "execute_result"
    }
   ],
   "source": [
    "df['Event'].value_counts()"
   ]
  },
  {
   "cell_type": "code",
   "execution_count": 157,
   "id": "4665ec01-7ea7-48b3-a352-000e3469d2df",
   "metadata": {},
   "outputs": [
    {
     "data": {
      "text/plain": [
       "array([' Classical ', ' Blitz ', ' Blitz tournament ', ' Correspondence ',\n",
       "       ' Classical tournament ', ' Bullet tournament ', ' Bullet ',\n",
       "       'Blitz tournament ', 'Bullet ', 'Classical ', 'Blitz '],\n",
       "      dtype=object)"
      ]
     },
     "execution_count": 157,
     "metadata": {},
     "output_type": "execute_result"
    }
   ],
   "source": [
    "df['Event'].unique()"
   ]
  },
  {
   "cell_type": "code",
   "execution_count": 158,
   "id": "ac06dddb-3f9a-434b-bc37-bf1ca8117e87",
   "metadata": {},
   "outputs": [],
   "source": [
    "df['Event'] = df['Event'].map({' Classical ': 'Classical',\n",
    "                               ' Blitz ': 'Blitz',\n",
    "                               ' Blitz tournament ': 'Blitz',\n",
    "                               ' Correspondence ': 'Classical',\n",
    "                               ' Classical tournament ': 'Classical',\n",
    "                               ' Bullet tournament ': 'Bullet',\n",
    "                               ' Bullet ': 'Bullet',\n",
    "                               'Blitz tournament ': 'Blitz',\n",
    "                               'Bullet ': 'Bullet',\n",
    "                               'Classical ': 'Classical',\n",
    "                               'Blitz ': 'Blitz'\n",
    "                               })"
   ]
  },
  {
   "cell_type": "code",
   "execution_count": 159,
   "id": "57f021db-8a04-4ff1-8fbb-d7bfc91f1ede",
   "metadata": {},
   "outputs": [
    {
     "data": {
      "text/plain": [
       "Event\n",
       "Blitz        449426\n",
       "Bullet       276176\n",
       "Classical    272009\n",
       "Name: count, dtype: int64"
      ]
     },
     "execution_count": 159,
     "metadata": {},
     "output_type": "execute_result"
    }
   ],
   "source": [
    "df['Event'].value_counts()"
   ]
  },
  {
   "cell_type": "code",
   "execution_count": 160,
   "id": "3aa77f91-0824-4523-96a0-c56dbe1449c5",
   "metadata": {},
   "outputs": [
    {
     "data": {
      "text/html": [
       "<div>\n",
       "<style scoped>\n",
       "    .dataframe tbody tr th:only-of-type {\n",
       "        vertical-align: middle;\n",
       "    }\n",
       "\n",
       "    .dataframe tbody tr th {\n",
       "        vertical-align: top;\n",
       "    }\n",
       "\n",
       "    .dataframe thead th {\n",
       "        text-align: right;\n",
       "    }\n",
       "</style>\n",
       "<table border=\"1\" class=\"dataframe\">\n",
       "  <thead>\n",
       "    <tr style=\"text-align: right;\">\n",
       "      <th></th>\n",
       "      <th>Event</th>\n",
       "      <th>Result</th>\n",
       "      <th>UTCDate</th>\n",
       "      <th>Opening</th>\n",
       "      <th>Termination</th>\n",
       "      <th>AN</th>\n",
       "      <th>Tournament</th>\n",
       "    </tr>\n",
       "  </thead>\n",
       "  <tbody>\n",
       "    <tr>\n",
       "      <th>0</th>\n",
       "      <td>Classical</td>\n",
       "      <td>1-0</td>\n",
       "      <td>2016-06-30</td>\n",
       "      <td>Slav Defense</td>\n",
       "      <td>Time forfeit</td>\n",
       "      <td>1. d4 d5 2. c4 c6 3. e3 a6 4. Nf3 e5 5. cxd5 e...</td>\n",
       "      <td>False</td>\n",
       "    </tr>\n",
       "    <tr>\n",
       "      <th>1</th>\n",
       "      <td>Blitz</td>\n",
       "      <td>0-1</td>\n",
       "      <td>2016-06-30</td>\n",
       "      <td>King's Pawn Opening: 2.b3</td>\n",
       "      <td>Normal</td>\n",
       "      <td>1. e4 e5 2. b3 Nf6 3. Bb2 Nc6 4. Nf3 d6 5. d3 ...</td>\n",
       "      <td>False</td>\n",
       "    </tr>\n",
       "    <tr>\n",
       "      <th>2</th>\n",
       "      <td>Blitz</td>\n",
       "      <td>1-0</td>\n",
       "      <td>2016-06-30</td>\n",
       "      <td>Scandinavian Defense: Mieses-Kotroc Variation</td>\n",
       "      <td>Time forfeit</td>\n",
       "      <td>1. e4 d5 2. exd5 Qxd5 3. Nf3 Bg4 4. Be2 Nf6 5....</td>\n",
       "      <td>True</td>\n",
       "    </tr>\n",
       "    <tr>\n",
       "      <th>3</th>\n",
       "      <td>Classical</td>\n",
       "      <td>1-0</td>\n",
       "      <td>2016-06-30</td>\n",
       "      <td>Van't Kruijs Opening</td>\n",
       "      <td>Normal</td>\n",
       "      <td>1. e3 Nf6 2. Bc4 d6 3. e4 e6 4. Nf3 Nxe4 5. Nd...</td>\n",
       "      <td>False</td>\n",
       "    </tr>\n",
       "    <tr>\n",
       "      <th>4</th>\n",
       "      <td>Blitz</td>\n",
       "      <td>0-1</td>\n",
       "      <td>2016-06-30</td>\n",
       "      <td>Sicilian Defense: Najdorf, Lipnitsky Attack</td>\n",
       "      <td>Time forfeit</td>\n",
       "      <td>1. e4 c5 2. Nf3 d6 3. d4 cxd4 4. Nxd4 Nf6 5. N...</td>\n",
       "      <td>True</td>\n",
       "    </tr>\n",
       "  </tbody>\n",
       "</table>\n",
       "</div>"
      ],
      "text/plain": [
       "       Event Result    UTCDate                                        Opening  \\\n",
       "0  Classical    1-0 2016-06-30                                   Slav Defense   \n",
       "1      Blitz    0-1 2016-06-30                      King's Pawn Opening: 2.b3   \n",
       "2      Blitz    1-0 2016-06-30  Scandinavian Defense: Mieses-Kotroc Variation   \n",
       "3  Classical    1-0 2016-06-30                           Van't Kruijs Opening   \n",
       "4      Blitz    0-1 2016-06-30    Sicilian Defense: Najdorf, Lipnitsky Attack   \n",
       "\n",
       "    Termination                                                 AN  Tournament  \n",
       "0  Time forfeit  1. d4 d5 2. c4 c6 3. e3 a6 4. Nf3 e5 5. cxd5 e...       False  \n",
       "1        Normal  1. e4 e5 2. b3 Nf6 3. Bb2 Nc6 4. Nf3 d6 5. d3 ...       False  \n",
       "2  Time forfeit  1. e4 d5 2. exd5 Qxd5 3. Nf3 Bg4 4. Be2 Nf6 5....        True  \n",
       "3        Normal  1. e3 Nf6 2. Bc4 d6 3. e4 e6 4. Nf3 Nxe4 5. Nd...       False  \n",
       "4  Time forfeit  1. e4 c5 2. Nf3 d6 3. d4 cxd4 4. Nxd4 Nf6 5. N...        True  "
      ]
     },
     "execution_count": 160,
     "metadata": {},
     "output_type": "execute_result"
    }
   ],
   "source": [
    "df.head()"
   ]
  },
  {
   "cell_type": "code",
   "execution_count": 161,
   "id": "c25c1d05-8bc4-476c-bb44-86b72a657e6e",
   "metadata": {},
   "outputs": [
    {
     "data": {
      "text/plain": [
       "Opening\n",
       "Van't Kruijs Opening                                              21159\n",
       "Scandinavian Defense: Mieses-Kotroc Variation                     18487\n",
       "Modern Defense                                                    16940\n",
       "Horwitz Defense                                                   15408\n",
       "Sicilian Defense                                                  14136\n",
       "                                                                  ...  \n",
       "Queen's Indian, Averbakh Variation                                    1\n",
       "Russian Game: Modern Attack, Murrey Variation                         1\n",
       "Four Knights Game: Spanish Variation, Symmetrical Variation #2        1\n",
       "Ruy Lopez: Classical Defense: Zaitsev Variation                       1\n",
       "Vienna Game: Mieses Variation, Erben Gambit                           1\n",
       "Name: count, Length: 2707, dtype: int64"
      ]
     },
     "execution_count": 161,
     "metadata": {},
     "output_type": "execute_result"
    }
   ],
   "source": [
    "df['Opening'].value_counts()"
   ]
  },
  {
   "cell_type": "code",
   "execution_count": 162,
   "id": "e61e66e1-8859-4603-a644-ebaf196c2d8f",
   "metadata": {},
   "outputs": [],
   "source": [
    "df_open = df['Opening'].value_counts().rename_axis('unique_values').reset_index(name='counts')"
   ]
  },
  {
   "cell_type": "code",
   "execution_count": 163,
   "id": "388b7591-570e-42ca-893d-cb6879f33c56",
   "metadata": {},
   "outputs": [
    {
     "data": {
      "text/html": [
       "<div>\n",
       "<style scoped>\n",
       "    .dataframe tbody tr th:only-of-type {\n",
       "        vertical-align: middle;\n",
       "    }\n",
       "\n",
       "    .dataframe tbody tr th {\n",
       "        vertical-align: top;\n",
       "    }\n",
       "\n",
       "    .dataframe thead th {\n",
       "        text-align: right;\n",
       "    }\n",
       "</style>\n",
       "<table border=\"1\" class=\"dataframe\">\n",
       "  <thead>\n",
       "    <tr style=\"text-align: right;\">\n",
       "      <th></th>\n",
       "      <th>unique_values</th>\n",
       "      <th>counts</th>\n",
       "    </tr>\n",
       "  </thead>\n",
       "  <tbody>\n",
       "    <tr>\n",
       "      <th>0</th>\n",
       "      <td>Van't Kruijs Opening</td>\n",
       "      <td>21159</td>\n",
       "    </tr>\n",
       "    <tr>\n",
       "      <th>1</th>\n",
       "      <td>Scandinavian Defense: Mieses-Kotroc Variation</td>\n",
       "      <td>18487</td>\n",
       "    </tr>\n",
       "    <tr>\n",
       "      <th>2</th>\n",
       "      <td>Modern Defense</td>\n",
       "      <td>16940</td>\n",
       "    </tr>\n",
       "    <tr>\n",
       "      <th>3</th>\n",
       "      <td>Horwitz Defense</td>\n",
       "      <td>15408</td>\n",
       "    </tr>\n",
       "    <tr>\n",
       "      <th>4</th>\n",
       "      <td>Sicilian Defense</td>\n",
       "      <td>14136</td>\n",
       "    </tr>\n",
       "    <tr>\n",
       "      <th>...</th>\n",
       "      <td>...</td>\n",
       "      <td>...</td>\n",
       "    </tr>\n",
       "    <tr>\n",
       "      <th>146</th>\n",
       "      <td>Slav Defense: Three Knights Variation</td>\n",
       "      <td>1557</td>\n",
       "    </tr>\n",
       "    <tr>\n",
       "      <th>147</th>\n",
       "      <td>Ruy Lopez: Classical Variation</td>\n",
       "      <td>1544</td>\n",
       "    </tr>\n",
       "    <tr>\n",
       "      <th>148</th>\n",
       "      <td>Nimzowitsch Defense: Scandinavian Variation, A...</td>\n",
       "      <td>1526</td>\n",
       "    </tr>\n",
       "    <tr>\n",
       "      <th>149</th>\n",
       "      <td>Petrov's Defense</td>\n",
       "      <td>1519</td>\n",
       "    </tr>\n",
       "    <tr>\n",
       "      <th>150</th>\n",
       "      <td>Nimzo-Larsen Attack: Modern Variation #2</td>\n",
       "      <td>1519</td>\n",
       "    </tr>\n",
       "  </tbody>\n",
       "</table>\n",
       "<p>151 rows × 2 columns</p>\n",
       "</div>"
      ],
      "text/plain": [
       "                                         unique_values  counts\n",
       "0                                 Van't Kruijs Opening   21159\n",
       "1        Scandinavian Defense: Mieses-Kotroc Variation   18487\n",
       "2                                       Modern Defense   16940\n",
       "3                                      Horwitz Defense   15408\n",
       "4                                     Sicilian Defense   14136\n",
       "..                                                 ...     ...\n",
       "146              Slav Defense: Three Knights Variation    1557\n",
       "147                     Ruy Lopez: Classical Variation    1544\n",
       "148  Nimzowitsch Defense: Scandinavian Variation, A...    1526\n",
       "149                                   Petrov's Defense    1519\n",
       "150           Nimzo-Larsen Attack: Modern Variation #2    1519\n",
       "\n",
       "[151 rows x 2 columns]"
      ]
     },
     "execution_count": 163,
     "metadata": {},
     "output_type": "execute_result"
    }
   ],
   "source": [
    "df_open[df_open['counts']>1500]\n",
    "#df_open.head(100)"
   ]
  },
  {
   "cell_type": "code",
   "execution_count": 164,
   "id": "e6ee7549-4d11-4f50-aa69-9e2f26347775",
   "metadata": {},
   "outputs": [],
   "source": [
    "# value_counts = df.stack().value_counts() # Entire DataFrame \n",
    "# to_remove = value_counts[value_counts <= 1500].index\n",
    "# df.replace(to_remove, np.nan, inplace=True)"
   ]
  },
  {
   "cell_type": "code",
   "execution_count": 165,
   "id": "af1b2ddd-f276-45a2-bfcf-41e155d4540d",
   "metadata": {},
   "outputs": [
    {
     "name": "stderr",
     "output_type": "stream",
     "text": [
      "C:\\Users\\PFIQ3000\\AppData\\Local\\Temp\\ipykernel_4004\\304048592.py:3: SettingWithCopyWarning: \n",
      "A value is trying to be set on a copy of a slice from a DataFrame\n",
      "\n",
      "See the caveats in the documentation: https://pandas.pydata.org/pandas-docs/stable/user_guide/indexing.html#returning-a-view-versus-a-copy\n",
      "  df['Opening'].loc[df['Opening'].isin(vals_to_remove)] = '111'\n"
     ]
    }
   ],
   "source": [
    "vc = df['Opening'].value_counts()\n",
    "vals_to_remove = vc[vc <= 1500].index.values\n",
    "df['Opening'].loc[df['Opening'].isin(vals_to_remove)] = '111'"
   ]
  },
  {
   "cell_type": "code",
   "execution_count": 166,
   "id": "e9be1037-b7f3-415c-8780-295eb75f7085",
   "metadata": {},
   "outputs": [],
   "source": [
    "filt = df['Opening'] != '111'\n",
    "df = df[filt]"
   ]
  },
  {
   "cell_type": "code",
   "execution_count": 167,
   "id": "7a73c2f2-ac6f-4608-81c8-19d0a7c51a05",
   "metadata": {},
   "outputs": [],
   "source": [
    "df = df.reset_index(drop=True)"
   ]
  },
  {
   "cell_type": "code",
   "execution_count": 168,
   "id": "1d1e4a69-eebe-45a3-b20e-362029eee08f",
   "metadata": {},
   "outputs": [],
   "source": [
    "def get_moves_as_list(row) -> list:\n",
    "    ori_list = []\n",
    "    # ori_list.append(df.loc[row, 'AN'])\n",
    "    ori_list.append(row)\n",
    "    sep_num = 2\n",
    "    while True:\n",
    "        separator = str(sep_num)+'.'\n",
    "        if separator in ori_list[-1]:\n",
    "            ori_list = ori_list[0:-1] + ori_list[-1].split(' '+separator) # concatenate all previous moves and remainder\n",
    "            ori_list[-1] = separator + ori_list[-1]\n",
    "            sep_num+=1\n",
    "        else:\n",
    "            ori_list[-1] = re.sub(' 1-0', '', ori_list[-1])\n",
    "            ori_list[-1] = re.sub(' 0-1', '', ori_list[-1])\n",
    "            ori_list[-1] = re.sub(' 1/2-1/2', '', ori_list[-1])\n",
    "            break\n",
    "    return ori_list"
   ]
  },
  {
   "cell_type": "code",
   "execution_count": 169,
   "id": "62915db8-1c28-47b7-904a-62a63a598123",
   "metadata": {},
   "outputs": [
    {
     "name": "stdout",
     "output_type": "stream",
     "text": [
      "CPU times: total: 1min 3s\n",
      "Wall time: 2min 33s\n"
     ]
    }
   ],
   "source": [
    "%%time\n",
    "df[\"AN\"] = df[\"AN\"].apply(get_moves_as_list)\n",
    "# df.loc[0, 'AN']"
   ]
  },
  {
   "cell_type": "code",
   "execution_count": null,
   "id": "0c21e6a2-e87c-44bf-abf7-814babca4b0d",
   "metadata": {},
   "outputs": [],
   "source": [
    "# for row in range(df.shape[0]):\n",
    "#     cell = df.loc[row, 'AN']\n",
    "#     if type(cell) == str:\n",
    "#         cell = get_moves_as_list(row)\n",
    "#     else:\n",
    "#         print(f'In row {row} value is a {type(cell)}')"
   ]
  },
  {
   "cell_type": "code",
   "execution_count": null,
   "id": "0adc0025-ba40-46f4-9197-dbc2da161001",
   "metadata": {},
   "outputs": [],
   "source": [
    "df[\"AN\"].str.len().hist()"
   ]
  },
  {
   "cell_type": "code",
   "execution_count": null,
   "id": "696e9e8f-38cb-4d79-979f-833a5d57330e",
   "metadata": {},
   "outputs": [],
   "source": [
    "filt = df[\"AN\"].str.len() == 6119\n",
    "df.loc[52412, 'AN']"
   ]
  },
  {
   "cell_type": "code",
   "execution_count": null,
   "id": "0941d38a-e595-4767-a87e-0e2fdd60bf5b",
   "metadata": {},
   "outputs": [],
   "source": [
    "df.head()"
   ]
  },
  {
   "cell_type": "code",
   "execution_count": null,
   "id": "3c069963-25f9-4ea6-bbf3-aec610c70a37",
   "metadata": {},
   "outputs": [],
   "source": [
    "filt = df[\"AN\"].apply(len) < 50\n",
    "df[filt] # Time forfeit but an is short"
   ]
  },
  {
   "cell_type": "code",
   "execution_count": 170,
   "id": "03f2481c-ac24-4b57-8b91-d988cf977813",
   "metadata": {},
   "outputs": [
    {
     "data": {
      "text/plain": [
       "0         [1. d4 d5, 2. c4 c6, 3. e3 a6, 4. Nf3 e5, 5. c...\n",
       "1         [1. e4 d5, 2. exd5 Qxd5, 3. Nf3 Bg4, 4. Be2 Nf...\n",
       "2         [1. e3 Nf6, 2. Bc4 d6, 3. e4 e6, 4. Nf3 Nxe4, ...\n",
       "3         [1. e4 e5, 2. Nc3 d6, 3. Nf3 h6, 4. Bc4 c6, 5....\n",
       "4         [1. d4 d5, 2. Nf3 Nf6, 3. Bf4 c6, 4. e3 Bg4, 5...\n",
       "                                ...                        \n",
       "618862    [1. c4 e5, 2. Nc3 Bc5, 3. Nf3 d6, 4. d3 Nc6, 5...\n",
       "618863    [1. e4 e5, 2. Nf3 d6, 3. Bc4 h6, 4. c3 Ne7, 5....\n",
       "618864    [1. d4 d5, 2. Nf3 Nc6, 3. Ng5 e5, 4. h4 e4, 5....\n",
       "618865    [1. e4 { [%eval 0.18] } 1... e6 { [%eval 0.21]...\n",
       "618866    [1. e4 e6, 2. f4 d5, 3. f5 c5, 4. fxe6 fxe6, 5...\n",
       "Name: AN, Length: 618867, dtype: object"
      ]
     },
     "execution_count": 170,
     "metadata": {},
     "output_type": "execute_result"
    }
   ],
   "source": [
    "df[\"AN\"]"
   ]
  },
  {
   "cell_type": "code",
   "execution_count": null,
   "id": "50acadf1-ad0b-4d6a-8930-e5a65f53f278",
   "metadata": {},
   "outputs": [],
   "source": []
  }
 ],
 "metadata": {
  "kernelspec": {
   "display_name": "Python 3 (ipykernel)",
   "language": "python",
   "name": "python3"
  },
  "language_info": {
   "codemirror_mode": {
    "name": "ipython",
    "version": 3
   },
   "file_extension": ".py",
   "mimetype": "text/x-python",
   "name": "python",
   "nbconvert_exporter": "python",
   "pygments_lexer": "ipython3",
   "version": "3.10.9"
  }
 },
 "nbformat": 4,
 "nbformat_minor": 5
}
