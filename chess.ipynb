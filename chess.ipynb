{
 "cells": [
  {
   "cell_type": "code",
   "execution_count": 5,
   "id": "6a016a19-d763-451d-94ff-d7f6c2ca9100",
   "metadata": {},
   "outputs": [],
   "source": [
    "import re\n",
    "import pandas as pd\n",
    "\n",
    "pd.set_option('display.max_columns', None)"
   ]
  },
  {
   "cell_type": "markdown",
   "id": "1c347be5-0b0a-4cba-b2f6-c1ec90a2b2e1",
   "metadata": {},
   "source": [
    "### Extracting data"
   ]
  },
  {
   "cell_type": "code",
   "execution_count": 6,
   "id": "3a68ce7e-659e-40c5-8481-e05e74685739",
   "metadata": {},
   "outputs": [
    {
     "name": "stdout",
     "output_type": "stream",
     "text": [
      "CPU times: total: 1.05 s\n",
      "Wall time: 1.06 s\n"
     ]
    }
   ],
   "source": [
    "%%time\n",
    "df = pd.read_csv('chess_games.csv', nrows=100000,\n",
    "                usecols=['Event', 'Result', 'UTCDate', 'Opening', 'Termination', 'AN']) # chunksize=100000, index_col=''"
   ]
  },
  {
   "cell_type": "code",
   "execution_count": 118,
   "id": "2b9fa643-8e2e-4ac0-9eab-e447e00869ef",
   "metadata": {},
   "outputs": [
    {
     "data": {
      "text/html": [
       "<div>\n",
       "<style scoped>\n",
       "    .dataframe tbody tr th:only-of-type {\n",
       "        vertical-align: middle;\n",
       "    }\n",
       "\n",
       "    .dataframe tbody tr th {\n",
       "        vertical-align: top;\n",
       "    }\n",
       "\n",
       "    .dataframe thead th {\n",
       "        text-align: right;\n",
       "    }\n",
       "</style>\n",
       "<table border=\"1\" class=\"dataframe\">\n",
       "  <thead>\n",
       "    <tr style=\"text-align: right;\">\n",
       "      <th></th>\n",
       "      <th>Event</th>\n",
       "      <th>Result</th>\n",
       "      <th>UTCDate</th>\n",
       "      <th>Opening</th>\n",
       "      <th>Termination</th>\n",
       "      <th>AN</th>\n",
       "    </tr>\n",
       "  </thead>\n",
       "  <tbody>\n",
       "    <tr>\n",
       "      <th>0</th>\n",
       "      <td>Classical</td>\n",
       "      <td>1-0</td>\n",
       "      <td>2016.06.30</td>\n",
       "      <td>Slav Defense</td>\n",
       "      <td>Time forfeit</td>\n",
       "      <td>1. d4 d5 2. c4 c6 3. e3 a6 4. Nf3 e5 5. cxd5 e...</td>\n",
       "    </tr>\n",
       "    <tr>\n",
       "      <th>1</th>\n",
       "      <td>Blitz</td>\n",
       "      <td>0-1</td>\n",
       "      <td>2016.06.30</td>\n",
       "      <td>King's Pawn Opening: 2.b3</td>\n",
       "      <td>Normal</td>\n",
       "      <td>1. e4 e5 2. b3 Nf6 3. Bb2 Nc6 4. Nf3 d6 5. d3 ...</td>\n",
       "    </tr>\n",
       "    <tr>\n",
       "      <th>2</th>\n",
       "      <td>Blitz tournament</td>\n",
       "      <td>1-0</td>\n",
       "      <td>2016.06.30</td>\n",
       "      <td>Scandinavian Defense: Mieses-Kotroc Variation</td>\n",
       "      <td>Time forfeit</td>\n",
       "      <td>1. e4 d5 2. exd5 Qxd5 3. Nf3 Bg4 4. Be2 Nf6 5....</td>\n",
       "    </tr>\n",
       "  </tbody>\n",
       "</table>\n",
       "</div>"
      ],
      "text/plain": [
       "                Event Result     UTCDate  \\\n",
       "0          Classical     1-0  2016.06.30   \n",
       "1              Blitz     0-1  2016.06.30   \n",
       "2   Blitz tournament     1-0  2016.06.30   \n",
       "\n",
       "                                         Opening   Termination  \\\n",
       "0                                   Slav Defense  Time forfeit   \n",
       "1                      King's Pawn Opening: 2.b3        Normal   \n",
       "2  Scandinavian Defense: Mieses-Kotroc Variation  Time forfeit   \n",
       "\n",
       "                                                  AN  \n",
       "0  1. d4 d5 2. c4 c6 3. e3 a6 4. Nf3 e5 5. cxd5 e...  \n",
       "1  1. e4 e5 2. b3 Nf6 3. Bb2 Nc6 4. Nf3 d6 5. d3 ...  \n",
       "2  1. e4 d5 2. exd5 Qxd5 3. Nf3 Bg4 4. Be2 Nf6 5....  "
      ]
     },
     "execution_count": 118,
     "metadata": {},
     "output_type": "execute_result"
    }
   ],
   "source": [
    "df.head(3)"
   ]
  },
  {
   "cell_type": "markdown",
   "id": "b10aa184-d4fd-458c-b282-9b2979ceef1b",
   "metadata": {},
   "source": [
    "### Transform data"
   ]
  },
  {
   "cell_type": "markdown",
   "id": "7990bafa-f482-40d3-a7fa-b09bb619f622",
   "metadata": {},
   "source": [
    "#### Get rid of ambiguous match results and matches that was abandoned or have rules infractions"
   ]
  },
  {
   "cell_type": "code",
   "execution_count": 119,
   "id": "7951eec3-dce9-4987-93f5-0502c3630911",
   "metadata": {},
   "outputs": [],
   "source": [
    "filt = (df['Result'] != '*') & (df['Termination'] != 'Abandoned') & (df['Termination'] != 'Rules infraction')\n",
    "df = df[filt]"
   ]
  },
  {
   "cell_type": "markdown",
   "id": "e33de9c5-16d0-4c67-bb52-f0a99df72c58",
   "metadata": {},
   "source": [
    "#### Change column datatype"
   ]
  },
  {
   "cell_type": "code",
   "execution_count": 120,
   "id": "539c009b-475f-4f6c-b451-746d47c5e85e",
   "metadata": {},
   "outputs": [],
   "source": [
    "df['UTCDate'] = pd.to_datetime(df['UTCDate'])"
   ]
  },
  {
   "cell_type": "markdown",
   "id": "b3f312c3-698a-4e9d-870a-780ef2d842c0",
   "metadata": {},
   "source": [
    "#### Create column \"Tournament\""
   ]
  },
  {
   "cell_type": "code",
   "execution_count": 121,
   "id": "f951271b-4bd6-4759-be4b-8e5fd9eea5b3",
   "metadata": {},
   "outputs": [],
   "source": [
    "df['Tournament'] = df['Event'].str.contains('tournament')"
   ]
  },
  {
   "cell_type": "markdown",
   "id": "83fbda1b-9120-414c-8abf-ba4db51b354c",
   "metadata": {},
   "source": [
    "#### Rearrange column \"Event\""
   ]
  },
  {
   "cell_type": "code",
   "execution_count": 122,
   "id": "ac06dddb-3f9a-434b-bc37-bf1ca8117e87",
   "metadata": {},
   "outputs": [],
   "source": [
    "df['Event'] = df['Event'].map({' Classical ': 'Classical',\n",
    "                               ' Blitz ': 'Blitz',\n",
    "                               ' Blitz tournament ': 'Blitz',\n",
    "                               ' Correspondence ': 'Classical',\n",
    "                               ' Classical tournament ': 'Classical',\n",
    "                               ' Bullet tournament ': 'Bullet',\n",
    "                               ' Bullet ': 'Bullet',\n",
    "                               'Blitz tournament ': 'Blitz',\n",
    "                               'Bullet ': 'Bullet',\n",
    "                               'Classical ': 'Classical',\n",
    "                               'Blitz ': 'Blitz'\n",
    "                               })"
   ]
  },
  {
   "cell_type": "code",
   "execution_count": 123,
   "id": "3aa77f91-0824-4523-96a0-c56dbe1449c5",
   "metadata": {},
   "outputs": [
    {
     "data": {
      "text/html": [
       "<div>\n",
       "<style scoped>\n",
       "    .dataframe tbody tr th:only-of-type {\n",
       "        vertical-align: middle;\n",
       "    }\n",
       "\n",
       "    .dataframe tbody tr th {\n",
       "        vertical-align: top;\n",
       "    }\n",
       "\n",
       "    .dataframe thead th {\n",
       "        text-align: right;\n",
       "    }\n",
       "</style>\n",
       "<table border=\"1\" class=\"dataframe\">\n",
       "  <thead>\n",
       "    <tr style=\"text-align: right;\">\n",
       "      <th></th>\n",
       "      <th>Event</th>\n",
       "      <th>Result</th>\n",
       "      <th>UTCDate</th>\n",
       "      <th>Opening</th>\n",
       "      <th>Termination</th>\n",
       "      <th>AN</th>\n",
       "      <th>Tournament</th>\n",
       "    </tr>\n",
       "  </thead>\n",
       "  <tbody>\n",
       "    <tr>\n",
       "      <th>0</th>\n",
       "      <td>Classical</td>\n",
       "      <td>1-0</td>\n",
       "      <td>2016-06-30</td>\n",
       "      <td>Slav Defense</td>\n",
       "      <td>Time forfeit</td>\n",
       "      <td>1. d4 d5 2. c4 c6 3. e3 a6 4. Nf3 e5 5. cxd5 e...</td>\n",
       "      <td>False</td>\n",
       "    </tr>\n",
       "    <tr>\n",
       "      <th>1</th>\n",
       "      <td>Blitz</td>\n",
       "      <td>0-1</td>\n",
       "      <td>2016-06-30</td>\n",
       "      <td>King's Pawn Opening: 2.b3</td>\n",
       "      <td>Normal</td>\n",
       "      <td>1. e4 e5 2. b3 Nf6 3. Bb2 Nc6 4. Nf3 d6 5. d3 ...</td>\n",
       "      <td>False</td>\n",
       "    </tr>\n",
       "    <tr>\n",
       "      <th>2</th>\n",
       "      <td>Blitz</td>\n",
       "      <td>1-0</td>\n",
       "      <td>2016-06-30</td>\n",
       "      <td>Scandinavian Defense: Mieses-Kotroc Variation</td>\n",
       "      <td>Time forfeit</td>\n",
       "      <td>1. e4 d5 2. exd5 Qxd5 3. Nf3 Bg4 4. Be2 Nf6 5....</td>\n",
       "      <td>True</td>\n",
       "    </tr>\n",
       "    <tr>\n",
       "      <th>3</th>\n",
       "      <td>Classical</td>\n",
       "      <td>1-0</td>\n",
       "      <td>2016-06-30</td>\n",
       "      <td>Van't Kruijs Opening</td>\n",
       "      <td>Normal</td>\n",
       "      <td>1. e3 Nf6 2. Bc4 d6 3. e4 e6 4. Nf3 Nxe4 5. Nd...</td>\n",
       "      <td>False</td>\n",
       "    </tr>\n",
       "    <tr>\n",
       "      <th>4</th>\n",
       "      <td>Blitz</td>\n",
       "      <td>0-1</td>\n",
       "      <td>2016-06-30</td>\n",
       "      <td>Sicilian Defense: Najdorf, Lipnitsky Attack</td>\n",
       "      <td>Time forfeit</td>\n",
       "      <td>1. e4 c5 2. Nf3 d6 3. d4 cxd4 4. Nxd4 Nf6 5. N...</td>\n",
       "      <td>True</td>\n",
       "    </tr>\n",
       "  </tbody>\n",
       "</table>\n",
       "</div>"
      ],
      "text/plain": [
       "       Event Result    UTCDate                                        Opening  \\\n",
       "0  Classical    1-0 2016-06-30                                   Slav Defense   \n",
       "1      Blitz    0-1 2016-06-30                      King's Pawn Opening: 2.b3   \n",
       "2      Blitz    1-0 2016-06-30  Scandinavian Defense: Mieses-Kotroc Variation   \n",
       "3  Classical    1-0 2016-06-30                           Van't Kruijs Opening   \n",
       "4      Blitz    0-1 2016-06-30    Sicilian Defense: Najdorf, Lipnitsky Attack   \n",
       "\n",
       "    Termination                                                 AN  Tournament  \n",
       "0  Time forfeit  1. d4 d5 2. c4 c6 3. e3 a6 4. Nf3 e5 5. cxd5 e...       False  \n",
       "1        Normal  1. e4 e5 2. b3 Nf6 3. Bb2 Nc6 4. Nf3 d6 5. d3 ...       False  \n",
       "2  Time forfeit  1. e4 d5 2. exd5 Qxd5 3. Nf3 Bg4 4. Be2 Nf6 5....        True  \n",
       "3        Normal  1. e3 Nf6 2. Bc4 d6 3. e4 e6 4. Nf3 Nxe4 5. Nd...       False  \n",
       "4  Time forfeit  1. e4 c5 2. Nf3 d6 3. d4 cxd4 4. Nxd4 Nf6 5. N...        True  "
      ]
     },
     "execution_count": 123,
     "metadata": {},
     "output_type": "execute_result"
    }
   ],
   "source": [
    "df.head()"
   ]
  },
  {
   "cell_type": "markdown",
   "id": "684dc4ff-1172-411f-b5a2-7df2bec14b1e",
   "metadata": {},
   "source": [
    "#### Remove short matches (~less than 10 moves)"
   ]
  },
  {
   "cell_type": "code",
   "execution_count": 124,
   "id": "59ff7d59-5b32-4f47-bd34-51c32ce7da52",
   "metadata": {},
   "outputs": [
    {
     "name": "stdout",
     "output_type": "stream",
     "text": [
      "1161 rows was removed\n"
     ]
    }
   ],
   "source": [
    "filt = df[\"AN\"].apply(len) > 50\n",
    "print(f\"{len(df)-len(df[filt])} rows was removed\")\n",
    "df = df[filt]"
   ]
  },
  {
   "cell_type": "markdown",
   "id": "bb845c90-b9cb-4f8f-8995-74d648744813",
   "metadata": {},
   "source": [
    "#### Get rid of unstructured string values in \"AN\" column"
   ]
  },
  {
   "cell_type": "code",
   "execution_count": 125,
   "id": "148f5d5a-0b1e-45b7-97ed-6708b7c59d48",
   "metadata": {},
   "outputs": [
    {
     "name": "stdout",
     "output_type": "stream",
     "text": [
      "12795 rows was removed\n"
     ]
    }
   ],
   "source": [
    "filt = ~df['AN'].str.contains('\\[%eval')\n",
    "print(f\"{len(df)-len(df[filt])} rows was removed\")\n",
    "df = df[filt]"
   ]
  },
  {
   "cell_type": "code",
   "execution_count": 73,
   "id": "4945c83d-f995-4951-977f-2fc0b506276e",
   "metadata": {},
   "outputs": [],
   "source": [
    "# if '[%eval' in df['AN'][998]:\n",
    "#     print('ERR')"
   ]
  },
  {
   "cell_type": "code",
   "execution_count": 126,
   "id": "bbc2c078-af82-42da-924a-f09ff29355e9",
   "metadata": {},
   "outputs": [],
   "source": [
    "# for x in range(len(df['AN'][33])):\n",
    "#     print(df['AN'][33][x])\n",
    "#     print('===')\n",
    "#     if '[%eval' in df['AN'][33]:\n",
    "#         print('Err')"
   ]
  },
  {
   "cell_type": "markdown",
   "id": "51fb0d0e-d74f-4b02-a84e-b2efa37589bc",
   "metadata": {},
   "source": [
    "#### Remove unpopular openings (less than 1500 matches)"
   ]
  },
  {
   "cell_type": "code",
   "execution_count": 127,
   "id": "e6ee7549-4d11-4f50-aa69-9e2f26347775",
   "metadata": {},
   "outputs": [],
   "source": [
    "# value_counts = df.stack().value_counts() # Entire DataFrame \n",
    "# to_remove = value_counts[value_counts <= 1500].index\n",
    "# df.replace(to_remove, np.nan, inplace=True)"
   ]
  },
  {
   "cell_type": "code",
   "execution_count": 128,
   "id": "af1b2ddd-f276-45a2-bfcf-41e155d4540d",
   "metadata": {},
   "outputs": [],
   "source": [
    "vc = df['Opening'].value_counts()\n",
    "vals_to_remove = vc[vc < 1500].index.values\n",
    "df['Opening'].loc[df['Opening'].isin(vals_to_remove)] = '111'\n",
    "filt = df['Opening'] != '111'\n",
    "df = df[filt]"
   ]
  },
  {
   "cell_type": "markdown",
   "id": "99614a67-2353-48b5-9e8d-94b3e6f392ce",
   "metadata": {},
   "source": [
    "#### Reset index"
   ]
  },
  {
   "cell_type": "code",
   "execution_count": 129,
   "id": "7a73c2f2-ac6f-4608-81c8-19d0a7c51a05",
   "metadata": {},
   "outputs": [],
   "source": [
    "df = df.reset_index(drop=True)"
   ]
  },
  {
   "cell_type": "markdown",
   "id": "377fee54-8cc5-4bbd-858a-b114aaca9cde",
   "metadata": {},
   "source": [
    "#### Parse column \"AN\". Transform the string of moves to list"
   ]
  },
  {
   "cell_type": "code",
   "execution_count": 130,
   "id": "1d1e4a69-eebe-45a3-b20e-362029eee08f",
   "metadata": {},
   "outputs": [],
   "source": [
    "def get_raw_list(row: str) -> list:\n",
    "    '''Parse a string to list of moves.\n",
    "       List elements are strings.'''\n",
    "    raw_list = []\n",
    "    raw_list.append(row)\n",
    "    sep_num = 2\n",
    "    while True:\n",
    "        separator = str(sep_num)+'.'\n",
    "        if separator in raw_list[-1]:\n",
    "            raw_list = raw_list[0:-1] + raw_list[-1].split(' '+separator) # concatenate all previous moves and remainder\n",
    "            raw_list[-1] = str(sep_num) + raw_list[-1]\n",
    "            sep_num+=1\n",
    "        else:\n",
    "            raw_list[-1] = re.sub(' 1-0', '', raw_list[-1])\n",
    "            raw_list[-1] = re.sub(' 0-1', '', raw_list[-1])\n",
    "            raw_list[-1] = re.sub(' 1/2-1/2', '', raw_list[-1])\n",
    "            raw_list[0] = re.sub('1.', '1', raw_list[0])\n",
    "            break\n",
    "    return raw_list"
   ]
  },
  {
   "cell_type": "code",
   "execution_count": 131,
   "id": "262a6816-9f5c-45fc-9c9a-c4b2878fafd3",
   "metadata": {},
   "outputs": [],
   "source": [
    "# def get_tuples_list(raw_list: list, fk_id) -> list:\n",
    "#     '''Parse each element of the raw_list to tuple.'''\n",
    "#     tuples_list = []\n",
    "#     for elem in raw_list:\n",
    "#         tuple_elem = tuple(list(fk_id) + elem.split(' '))\n",
    "#         tuples_list.append(tuple_elem)\n",
    "#     return tuples_list"
   ]
  },
  {
   "cell_type": "code",
   "execution_count": 132,
   "id": "97e0b19f-7923-46c2-9e06-b7b6e33c86c2",
   "metadata": {},
   "outputs": [],
   "source": [
    "# def get_moves_as_list(row: str) -> list:\n",
    "#     raw_list = get_raw_list(row)\n",
    "#     #tuples_list = get_tuples_list(raw_list, '_') \n",
    "#     return raw_list"
   ]
  },
  {
   "cell_type": "code",
   "execution_count": 133,
   "id": "62915db8-1c28-47b7-904a-62a63a598123",
   "metadata": {},
   "outputs": [
    {
     "name": "stdout",
     "output_type": "stream",
     "text": [
      "CPU times: total: 328 ms\n",
      "Wall time: 320 ms\n"
     ]
    }
   ],
   "source": [
    "%%time\n",
    "df[\"AN\"] = df[\"AN\"].apply(get_raw_list)"
   ]
  },
  {
   "cell_type": "markdown",
   "id": "712f3875-3947-4bdf-b20c-edeb88936326",
   "metadata": {},
   "source": [
    "#### Get second data frame with moves per match"
   ]
  },
  {
   "cell_type": "code",
   "execution_count": 134,
   "id": "21cc59d4-454a-4a83-8abd-9b05cb450b21",
   "metadata": {},
   "outputs": [],
   "source": [
    "def create_moves_table(df):\n",
    "    df_moves_total = pd.DataFrame()\n",
    "    \n",
    "    for row in range(len(df)):\n",
    "        df_moves = pd.DataFrame()\n",
    "        \n",
    "        for move in range(len(df['AN'][row])):\n",
    "            tuple_move = tuple([row] + df['AN'][row][move].split(' ')) # ('0','1','e4','b6') or ('0', '38', 'Rfd1', None)\n",
    "            \n",
    "            if len(tuple_move) == 3:\n",
    "                tuple_move = tuple_move + (None, ) # last move\n",
    "            elif len(tuple_move) < 3 or len(tuple_move) > 4:\n",
    "                print(f'Unexpected number of elements after split: {len(tuple_move)} elements in {tuple_move} in {row} row')\n",
    "            \n",
    "            df_temp = pd.DataFrame([tuple_move], columns=['match_id', 'move_num', 'white_move', 'black_move']) # parse each list element\n",
    "            df_moves = pd.concat([df_moves, df_temp]) # add to df for this row (match) # add %time for this row\n",
    "        \n",
    "        df_moves_total = pd.concat([df_moves_total, df_moves]) # add %time for this row\n",
    "    \n",
    "    print('Done')\n",
    "    return df_moves_total"
   ]
  },
  {
   "cell_type": "code",
   "execution_count": 135,
   "id": "6f73d1e3-72ac-488a-8db3-07cc9c262211",
   "metadata": {},
   "outputs": [
    {
     "name": "stdout",
     "output_type": "stream",
     "text": [
      "Done\n",
      "CPU times: total: 2min 6s\n",
      "Wall time: 2min 11s\n"
     ]
    }
   ],
   "source": [
    "%%time\n",
    "df_moves_total = create_moves_table(df)"
   ]
  },
  {
   "cell_type": "code",
   "execution_count": 136,
   "id": "0a5a11ae-5cd7-4f3b-885d-b86e2152c0a1",
   "metadata": {},
   "outputs": [
    {
     "data": {
      "text/html": [
       "<div>\n",
       "<style scoped>\n",
       "    .dataframe tbody tr th:only-of-type {\n",
       "        vertical-align: middle;\n",
       "    }\n",
       "\n",
       "    .dataframe tbody tr th {\n",
       "        vertical-align: top;\n",
       "    }\n",
       "\n",
       "    .dataframe thead th {\n",
       "        text-align: right;\n",
       "    }\n",
       "</style>\n",
       "<table border=\"1\" class=\"dataframe\">\n",
       "  <thead>\n",
       "    <tr style=\"text-align: right;\">\n",
       "      <th></th>\n",
       "      <th>match_id</th>\n",
       "      <th>move_num</th>\n",
       "      <th>white_move</th>\n",
       "      <th>black_move</th>\n",
       "    </tr>\n",
       "  </thead>\n",
       "  <tbody>\n",
       "    <tr>\n",
       "      <th>0</th>\n",
       "      <td>0</td>\n",
       "      <td>1</td>\n",
       "      <td>e4</td>\n",
       "      <td>d5</td>\n",
       "    </tr>\n",
       "    <tr>\n",
       "      <th>0</th>\n",
       "      <td>0</td>\n",
       "      <td>2</td>\n",
       "      <td>exd5</td>\n",
       "      <td>Qxd5</td>\n",
       "    </tr>\n",
       "    <tr>\n",
       "      <th>0</th>\n",
       "      <td>0</td>\n",
       "      <td>3</td>\n",
       "      <td>Nf3</td>\n",
       "      <td>Bg4</td>\n",
       "    </tr>\n",
       "  </tbody>\n",
       "</table>\n",
       "</div>"
      ],
      "text/plain": [
       "   match_id move_num white_move black_move\n",
       "0         0        1         e4         d5\n",
       "0         0        2       exd5       Qxd5\n",
       "0         0        3        Nf3        Bg4"
      ]
     },
     "execution_count": 136,
     "metadata": {},
     "output_type": "execute_result"
    }
   ],
   "source": [
    "df_moves_total.head(3)"
   ]
  },
  {
   "cell_type": "code",
   "execution_count": 137,
   "id": "5a6e33f0-304c-43a6-aa63-fe1fc3d07159",
   "metadata": {},
   "outputs": [
    {
     "data": {
      "text/html": [
       "<div>\n",
       "<style scoped>\n",
       "    .dataframe tbody tr th:only-of-type {\n",
       "        vertical-align: middle;\n",
       "    }\n",
       "\n",
       "    .dataframe tbody tr th {\n",
       "        vertical-align: top;\n",
       "    }\n",
       "\n",
       "    .dataframe thead th {\n",
       "        text-align: right;\n",
       "    }\n",
       "</style>\n",
       "<table border=\"1\" class=\"dataframe\">\n",
       "  <thead>\n",
       "    <tr style=\"text-align: right;\">\n",
       "      <th></th>\n",
       "      <th>match_id</th>\n",
       "      <th>move_num</th>\n",
       "      <th>white_move</th>\n",
       "      <th>black_move</th>\n",
       "    </tr>\n",
       "  </thead>\n",
       "  <tbody>\n",
       "    <tr>\n",
       "      <th>0</th>\n",
       "      <td>3391</td>\n",
       "      <td>40</td>\n",
       "      <td>Kxh5</td>\n",
       "      <td>Nxf4+</td>\n",
       "    </tr>\n",
       "    <tr>\n",
       "      <th>0</th>\n",
       "      <td>3391</td>\n",
       "      <td>41</td>\n",
       "      <td>Bxf4</td>\n",
       "      <td>Rxf4</td>\n",
       "    </tr>\n",
       "    <tr>\n",
       "      <th>0</th>\n",
       "      <td>3391</td>\n",
       "      <td>42</td>\n",
       "      <td>d5</td>\n",
       "      <td>Rh4#</td>\n",
       "    </tr>\n",
       "  </tbody>\n",
       "</table>\n",
       "</div>"
      ],
      "text/plain": [
       "   match_id move_num white_move black_move\n",
       "0      3391       40       Kxh5      Nxf4+\n",
       "0      3391       41       Bxf4       Rxf4\n",
       "0      3391       42         d5       Rh4#"
      ]
     },
     "execution_count": 137,
     "metadata": {},
     "output_type": "execute_result"
    }
   ],
   "source": [
    "df_moves_total.tail(3)"
   ]
  },
  {
   "cell_type": "code",
   "execution_count": 141,
   "id": "fa1c6889-015b-40e9-8c17-65733014324c",
   "metadata": {},
   "outputs": [
    {
     "data": {
      "text/plain": [
       "116130"
      ]
     },
     "execution_count": 141,
     "metadata": {},
     "output_type": "execute_result"
    }
   ],
   "source": [
    "length = 0\n",
    "for row in range(len(df)):\n",
    "    length = length + len(df['AN'][row])\n",
    "length"
   ]
  },
  {
   "cell_type": "code",
   "execution_count": 143,
   "id": "3161754f-7b92-4ae1-bdcc-881b88686447",
   "metadata": {},
   "outputs": [
    {
     "data": {
      "text/plain": [
       "116130"
      ]
     },
     "execution_count": 143,
     "metadata": {},
     "output_type": "execute_result"
    }
   ],
   "source": [
    "len(df_moves_total)"
   ]
  },
  {
   "cell_type": "code",
   "execution_count": 21,
   "id": "0c21e6a2-e87c-44bf-abf7-814babca4b0d",
   "metadata": {},
   "outputs": [],
   "source": [
    "# for row in range(df.shape[0]):\n",
    "#     cell = df.loc[row, 'AN']\n",
    "#     if type(cell) == str:\n",
    "#         cell = get_moves_as_list(row)\n",
    "#     else:\n",
    "#         print(f'In row {row} value is a {type(cell)}')"
   ]
  },
  {
   "cell_type": "code",
   "execution_count": 22,
   "id": "696e9e8f-38cb-4d79-979f-833a5d57330e",
   "metadata": {},
   "outputs": [],
   "source": [
    "# v = pd.DataFrame([('0','38','Rfd1'),\n",
    "#                   ('0','2','d4','Bb7')\n",
    "#                  ],\n",
    "#                   columns=['match_id', 'move_num', 'white_move', 'black_move'])\n",
    "# v1 = pd.DataFrame([('1','1','e4','b6'),\n",
    "#                   ('1','2','d4','Bb7')\n",
    "#                  ],\n",
    "#                   columns=['match_id', 'move_num', 'white_move', 'black_move'])\n",
    "# v = pd.concat([v, v1])\n",
    "# v"
   ]
  },
  {
   "cell_type": "code",
   "execution_count": null,
   "id": "5ba22e93-b37f-4c65-a8ff-10eec090d28a",
   "metadata": {},
   "outputs": [],
   "source": []
  }
 ],
 "metadata": {
  "kernelspec": {
   "display_name": "Python 3 (ipykernel)",
   "language": "python",
   "name": "python3"
  },
  "language_info": {
   "codemirror_mode": {
    "name": "ipython",
    "version": 3
   },
   "file_extension": ".py",
   "mimetype": "text/x-python",
   "name": "python",
   "nbconvert_exporter": "python",
   "pygments_lexer": "ipython3",
   "version": "3.10.9"
  }
 },
 "nbformat": 4,
 "nbformat_minor": 5
}
