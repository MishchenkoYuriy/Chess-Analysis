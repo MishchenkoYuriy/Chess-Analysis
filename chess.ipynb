{
 "cells": [
  {
   "cell_type": "code",
   "execution_count": 1,
   "id": "6a016a19-d763-451d-94ff-d7f6c2ca9100",
   "metadata": {},
   "outputs": [],
   "source": [
    "import re\n",
    "import numpy as np\n",
    "import pandas as pd\n",
    "\n",
    "pd.set_option('display.max_columns', None)"
   ]
  },
  {
   "cell_type": "markdown",
   "id": "1c347be5-0b0a-4cba-b2f6-c1ec90a2b2e1",
   "metadata": {
    "tags": []
   },
   "source": [
    "## Extracting data"
   ]
  },
  {
   "cell_type": "code",
   "execution_count": 81,
   "id": "3a68ce7e-659e-40c5-8481-e05e74685739",
   "metadata": {},
   "outputs": [
    {
     "name": "stdout",
     "output_type": "stream",
     "text": [
      "500000 rows was extracted\n",
      "CPU times: total: 5 s\n",
      "Wall time: 5.32 s\n"
     ]
    }
   ],
   "source": [
    "%%time\n",
    "df = pd.read_csv('chess_games.csv', nrows=500000,\n",
    "                usecols=['Event', 'Result', 'UTCDate', 'Opening', 'Termination', 'AN']) # chunksize=100000, index_col=''\n",
    "print(f\"{len(df)} rows was extracted\")"
   ]
  },
  {
   "cell_type": "code",
   "execution_count": 82,
   "id": "2b9fa643-8e2e-4ac0-9eab-e447e00869ef",
   "metadata": {},
   "outputs": [
    {
     "data": {
      "text/html": [
       "<div>\n",
       "<style scoped>\n",
       "    .dataframe tbody tr th:only-of-type {\n",
       "        vertical-align: middle;\n",
       "    }\n",
       "\n",
       "    .dataframe tbody tr th {\n",
       "        vertical-align: top;\n",
       "    }\n",
       "\n",
       "    .dataframe thead th {\n",
       "        text-align: right;\n",
       "    }\n",
       "</style>\n",
       "<table border=\"1\" class=\"dataframe\">\n",
       "  <thead>\n",
       "    <tr style=\"text-align: right;\">\n",
       "      <th></th>\n",
       "      <th>Event</th>\n",
       "      <th>Result</th>\n",
       "      <th>UTCDate</th>\n",
       "      <th>Opening</th>\n",
       "      <th>Termination</th>\n",
       "      <th>AN</th>\n",
       "    </tr>\n",
       "  </thead>\n",
       "  <tbody>\n",
       "    <tr>\n",
       "      <th>0</th>\n",
       "      <td>Classical</td>\n",
       "      <td>1-0</td>\n",
       "      <td>2016.06.30</td>\n",
       "      <td>Slav Defense</td>\n",
       "      <td>Time forfeit</td>\n",
       "      <td>1. d4 d5 2. c4 c6 3. e3 a6 4. Nf3 e5 5. cxd5 e...</td>\n",
       "    </tr>\n",
       "    <tr>\n",
       "      <th>1</th>\n",
       "      <td>Blitz</td>\n",
       "      <td>0-1</td>\n",
       "      <td>2016.06.30</td>\n",
       "      <td>King's Pawn Opening: 2.b3</td>\n",
       "      <td>Normal</td>\n",
       "      <td>1. e4 e5 2. b3 Nf6 3. Bb2 Nc6 4. Nf3 d6 5. d3 ...</td>\n",
       "    </tr>\n",
       "    <tr>\n",
       "      <th>2</th>\n",
       "      <td>Blitz tournament</td>\n",
       "      <td>1-0</td>\n",
       "      <td>2016.06.30</td>\n",
       "      <td>Scandinavian Defense: Mieses-Kotroc Variation</td>\n",
       "      <td>Time forfeit</td>\n",
       "      <td>1. e4 d5 2. exd5 Qxd5 3. Nf3 Bg4 4. Be2 Nf6 5....</td>\n",
       "    </tr>\n",
       "  </tbody>\n",
       "</table>\n",
       "</div>"
      ],
      "text/plain": [
       "                Event Result     UTCDate  \\\n",
       "0          Classical     1-0  2016.06.30   \n",
       "1              Blitz     0-1  2016.06.30   \n",
       "2   Blitz tournament     1-0  2016.06.30   \n",
       "\n",
       "                                         Opening   Termination  \\\n",
       "0                                   Slav Defense  Time forfeit   \n",
       "1                      King's Pawn Opening: 2.b3        Normal   \n",
       "2  Scandinavian Defense: Mieses-Kotroc Variation  Time forfeit   \n",
       "\n",
       "                                                  AN  \n",
       "0  1. d4 d5 2. c4 c6 3. e3 a6 4. Nf3 e5 5. cxd5 e...  \n",
       "1  1. e4 e5 2. b3 Nf6 3. Bb2 Nc6 4. Nf3 d6 5. d3 ...  \n",
       "2  1. e4 d5 2. exd5 Qxd5 3. Nf3 Bg4 4. Be2 Nf6 5....  "
      ]
     },
     "execution_count": 82,
     "metadata": {},
     "output_type": "execute_result"
    }
   ],
   "source": [
    "df.head(3)"
   ]
  },
  {
   "cell_type": "markdown",
   "id": "b10aa184-d4fd-458c-b282-9b2979ceef1b",
   "metadata": {
    "tags": []
   },
   "source": [
    "## Transform data"
   ]
  },
  {
   "cell_type": "markdown",
   "id": "60bcbb56-a743-48b0-bfa1-8c106f1875db",
   "metadata": {
    "tags": []
   },
   "source": [
    "### Filter dataframe"
   ]
  },
  {
   "cell_type": "markdown",
   "id": "7990bafa-f482-40d3-a7fa-b09bb619f622",
   "metadata": {},
   "source": [
    "#### Get rid of ambiguous match results and matches that was abandoned or have rules infractions"
   ]
  },
  {
   "cell_type": "code",
   "execution_count": 83,
   "id": "7951eec3-dce9-4987-93f5-0502c3630911",
   "metadata": {},
   "outputs": [
    {
     "name": "stdout",
     "output_type": "stream",
     "text": [
      "1057 rows was removed\n",
      "498943 rows left\n"
     ]
    }
   ],
   "source": [
    "filt = (df['Result'] != '*') & (df['Termination'] != 'Abandoned') & (df['Termination'] != 'Rules infraction')\n",
    "print(f\"{len(df)-len(df[filt])} rows was removed\")\n",
    "df = df[filt]\n",
    "print(f\"{len(df)} rows left\")"
   ]
  },
  {
   "cell_type": "markdown",
   "id": "684dc4ff-1172-411f-b5a2-7df2bec14b1e",
   "metadata": {},
   "source": [
    "#### Remove short matches (~less than 10 moves)"
   ]
  },
  {
   "cell_type": "code",
   "execution_count": 84,
   "id": "59ff7d59-5b32-4f47-bd34-51c32ce7da52",
   "metadata": {},
   "outputs": [
    {
     "name": "stdout",
     "output_type": "stream",
     "text": [
      "5689 rows was removed\n",
      "493254 rows left\n"
     ]
    }
   ],
   "source": [
    "filt = df[\"AN\"].apply(len) > 50\n",
    "print(f\"{len(df)-len(df[filt])} rows was removed\")\n",
    "df = df[filt]\n",
    "print(f\"{len(df)} rows left\")"
   ]
  },
  {
   "cell_type": "markdown",
   "id": "bb845c90-b9cb-4f8f-8995-74d648744813",
   "metadata": {
    "tags": []
   },
   "source": [
    "#### Get rid of unstructured string values in \"AN\" column"
   ]
  },
  {
   "cell_type": "code",
   "execution_count": 85,
   "id": "148f5d5a-0b1e-45b7-97ed-6708b7c59d48",
   "metadata": {},
   "outputs": [
    {
     "name": "stdout",
     "output_type": "stream",
     "text": [
      "63866 rows was removed\n",
      "429388 rows left\n"
     ]
    }
   ],
   "source": [
    "filt = ~df['AN'].str.contains('\\[%eval')\n",
    "print(f\"{len(df)-len(df[filt])} rows was removed\")\n",
    "df = df[filt]\n",
    "print(f\"{len(df)} rows left\")"
   ]
  },
  {
   "cell_type": "markdown",
   "id": "51fb0d0e-d74f-4b02-a84e-b2efa37589bc",
   "metadata": {
    "tags": []
   },
   "source": [
    "#### Remove unpopular openings (less than 1500 matches)"
   ]
  },
  {
   "cell_type": "code",
   "execution_count": 86,
   "id": "e6ee7549-4d11-4f50-aa69-9e2f26347775",
   "metadata": {},
   "outputs": [],
   "source": [
    "# value_counts = df.stack().value_counts() # Entire DataFrame \n",
    "# to_remove = value_counts[value_counts <= 1500].index\n",
    "# df.replace(to_remove, np.nan, inplace=True)"
   ]
  },
  {
   "cell_type": "code",
   "execution_count": 87,
   "id": "af1b2ddd-f276-45a2-bfcf-41e155d4540d",
   "metadata": {},
   "outputs": [
    {
     "name": "stdout",
     "output_type": "stream",
     "text": [
      "255831 rows was removed\n",
      "173557 rows left\n"
     ]
    }
   ],
   "source": [
    "vc = df['Opening'].value_counts()\n",
    "vals_to_remove = vc[vc < 1500].index.values\n",
    "df['Opening'].loc[df['Opening'].isin(vals_to_remove)] = '111'\n",
    "filt = df['Opening'] != '111'\n",
    "print(f\"{len(df)-len(df[filt])} rows was removed\")\n",
    "df = df[filt]\n",
    "print(f\"{len(df)} rows left\")"
   ]
  },
  {
   "cell_type": "markdown",
   "id": "ecc9eeab-d8af-4901-b80b-920aeefcb9c5",
   "metadata": {
    "tags": []
   },
   "source": [
    "### Expand and rearrange dataframe"
   ]
  },
  {
   "cell_type": "markdown",
   "id": "99614a67-2353-48b5-9e8d-94b3e6f392ce",
   "metadata": {},
   "source": [
    "#### Reset index"
   ]
  },
  {
   "cell_type": "code",
   "execution_count": 88,
   "id": "7a73c2f2-ac6f-4608-81c8-19d0a7c51a05",
   "metadata": {},
   "outputs": [],
   "source": [
    "df = df.reset_index(drop=True)"
   ]
  },
  {
   "cell_type": "markdown",
   "id": "b3f312c3-698a-4e9d-870a-780ef2d842c0",
   "metadata": {},
   "source": [
    "#### Create column \"Tournament\""
   ]
  },
  {
   "cell_type": "code",
   "execution_count": 89,
   "id": "f951271b-4bd6-4759-be4b-8e5fd9eea5b3",
   "metadata": {},
   "outputs": [],
   "source": [
    "df['Tournament'] = df['Event'].str.contains('tournament')"
   ]
  },
  {
   "cell_type": "markdown",
   "id": "83fbda1b-9120-414c-8abf-ba4db51b354c",
   "metadata": {},
   "source": [
    "#### Rearrange column \"Event\""
   ]
  },
  {
   "cell_type": "code",
   "execution_count": 90,
   "id": "ac06dddb-3f9a-434b-bc37-bf1ca8117e87",
   "metadata": {},
   "outputs": [],
   "source": [
    "df['Event'] = df['Event'].map({' Classical ': 'Classical',\n",
    "                               ' Blitz ': 'Blitz',\n",
    "                               ' Blitz tournament ': 'Blitz',\n",
    "                               ' Correspondence ': 'Classical',\n",
    "                               ' Classical tournament ': 'Classical',\n",
    "                               ' Bullet tournament ': 'Bullet',\n",
    "                               ' Bullet ': 'Bullet',\n",
    "                               'Blitz tournament ': 'Blitz',\n",
    "                               'Bullet ': 'Bullet',\n",
    "                               'Classical ': 'Classical',\n",
    "                               'Blitz ': 'Blitz'\n",
    "                               })"
   ]
  },
  {
   "cell_type": "markdown",
   "id": "e33de9c5-16d0-4c67-bb52-f0a99df72c58",
   "metadata": {},
   "source": [
    "#### Change columns datatype"
   ]
  },
  {
   "cell_type": "code",
   "execution_count": 91,
   "id": "539c009b-475f-4f6c-b451-746d47c5e85e",
   "metadata": {},
   "outputs": [],
   "source": [
    "df['Event'] = df['Event'].astype('category')\n",
    "df['Result'] = df['Result'].astype('category')\n",
    "df['Termination'] = df['Termination'].astype('category')\n",
    "df['UTCDate'] = pd.to_datetime(df['UTCDate'])"
   ]
  },
  {
   "cell_type": "code",
   "execution_count": 92,
   "id": "3aa77f91-0824-4523-96a0-c56dbe1449c5",
   "metadata": {},
   "outputs": [
    {
     "name": "stdout",
     "output_type": "stream",
     "text": [
      "<class 'pandas.core.frame.DataFrame'>\n",
      "RangeIndex: 173557 entries, 0 to 173556\n",
      "Data columns (total 7 columns):\n",
      " #   Column       Non-Null Count   Dtype         \n",
      "---  ------       --------------   -----         \n",
      " 0   Event        173557 non-null  category      \n",
      " 1   Result       173557 non-null  category      \n",
      " 2   UTCDate      173557 non-null  datetime64[ns]\n",
      " 3   Opening      173557 non-null  object        \n",
      " 4   Termination  173557 non-null  category      \n",
      " 5   AN           173557 non-null  object        \n",
      " 6   Tournament   173557 non-null  bool          \n",
      "dtypes: bool(1), category(3), datetime64[ns](1), object(2)\n",
      "memory usage: 4.6+ MB\n"
     ]
    }
   ],
   "source": [
    "df.info()"
   ]
  },
  {
   "cell_type": "markdown",
   "id": "1e008da0-1fcc-49f9-a25d-80b18e5d3eca",
   "metadata": {},
   "source": [
    "#### Create moves_total from AN column"
   ]
  },
  {
   "cell_type": "code",
   "execution_count": 93,
   "id": "f915d65b-b940-4523-b4b4-72bc5ab6842a",
   "metadata": {},
   "outputs": [
    {
     "data": {
      "text/plain": [
       "'1. e4 d5 2. exd5 Qxd5 3. Nc3 Qa5 4. Nf3 c6 5. Be2 Bg4 6. O-O e6 7. Ne4 Nd7 8. d4 Ngf6 9. Neg5 h6 10. Nh3 O-O-O 11. Nf4 Bd6 12. Nd3 Qc7 13. c4 h5 14. h3 Bxf3 15. Bxf3 Ng4 16. c5 Bxc5 17. Nxc5 Qh2# 0-1'"
      ]
     },
     "execution_count": 93,
     "metadata": {},
     "output_type": "execute_result"
    }
   ],
   "source": [
    "df.iloc[6]['AN']"
   ]
  },
  {
   "cell_type": "code",
   "execution_count": 94,
   "id": "932309d2-f5ba-4dcb-a4db-455a92ec06c1",
   "metadata": {},
   "outputs": [
    {
     "data": {
      "text/plain": [
       "'e4 d5 exd5 Qxd5 Nc3 Qa5 Nf3 c6 Be2 Bg4 O-O e6 Ne4 Nd7 d4 Ngf6 Neg5 h6 Nh3 O-O-O Nf4 Bd6 Nd3 Qc7 c4 h5 h3 Bxf3 Bxf3 Ng4 c5 Bxc5 Nxc5 Qh2#'"
      ]
     },
     "execution_count": 94,
     "metadata": {},
     "output_type": "execute_result"
    }
   ],
   "source": [
    "s = df.iloc[6]['AN']\n",
    "sep_num = 1\n",
    "while True:\n",
    "    # separator = str(sep_num)+'. '\n",
    "    if str(sep_num)+'. ' in s:\n",
    "        s = re.sub(str(sep_num)+'\\. ', '', s, 1) # replace the first occurrence\n",
    "        sep_num+=1\n",
    "    else:\n",
    "        s = delete_result_from_an(s)\n",
    "        break\n",
    "s"
   ]
  },
  {
   "cell_type": "code",
   "execution_count": 96,
   "id": "0b42dc3e-dfc5-43ad-93c5-2bfd812e83c7",
   "metadata": {},
   "outputs": [],
   "source": [
    "def delete_result_from_an(move: str) -> str:\n",
    "    '''Delete result mark in the last move.'''\n",
    "    move = re.sub(' 1-0',     '', move)\n",
    "    move = re.sub(' 0-1',     '', move)\n",
    "    move = re.sub(' 1/2-1/2', '', move)\n",
    "    move = re.sub(' \\*',      '', move)\n",
    "    return move"
   ]
  },
  {
   "cell_type": "code",
   "execution_count": 97,
   "id": "7ad222d6-7cfe-4801-a5d5-77f850e7dec7",
   "metadata": {},
   "outputs": [],
   "source": [
    "def populate_moves_total2(s: str, ind: int) -> None:\n",
    "    '''\n",
    "    Split each move (string) into a tuple.\n",
    "    Tuple format: (match_id, move_num, player, move)\n",
    "    Match_id is foreign key of the main dataframe (index column).\n",
    "    Player is categorical column with values 'white' or 'black'.\n",
    "    '''\n",
    "    player_cnt = 0\n",
    "    moves_list = s.split(' ')\n",
    "    for i, move in enumerate(moves_list, start=1):\n",
    "        player = 'black' if i % 2 == 0 else 'white'\n",
    "        tuple_move = tuple([ind] + [i] + [player] + [move])\n",
    "        moves_total_test.append(tuple_move)"
   ]
  },
  {
   "cell_type": "code",
   "execution_count": 98,
   "id": "e568d13f-193b-4d31-9c78-2fe1ac8edd88",
   "metadata": {},
   "outputs": [],
   "source": [
    "def create_moves_total2(row) -> None:\n",
    "    s = row[\"AN\"]\n",
    "    sep_num = 1\n",
    "    while True:\n",
    "        if str(sep_num)+'. ' in s:\n",
    "            s = re.sub(str(sep_num)+'\\. ', '', s, 1) # replace the first occurrence\n",
    "            sep_num+=1\n",
    "        else:\n",
    "            s = delete_result_from_an(s)\n",
    "            break\n",
    "\n",
    "    populate_moves_total2(s, row.name)"
   ]
  },
  {
   "cell_type": "code",
   "execution_count": 99,
   "id": "1e8f5688-6848-4c50-b5de-c87ca19b08b4",
   "metadata": {},
   "outputs": [
    {
     "name": "stdout",
     "output_type": "stream",
     "text": [
      "CPU times: total: 33.7 s\n",
      "Wall time: 35.4 s\n"
     ]
    }
   ],
   "source": [
    "%%time\n",
    "%%capture\n",
    "moves_total_test: list[tuple] = [] # template for data frame\n",
    "df.apply(create_moves_total2, axis = 1)"
   ]
  },
  {
   "cell_type": "code",
   "execution_count": 100,
   "id": "87fae4d0-aa20-4f6b-a083-8c01630c3724",
   "metadata": {},
   "outputs": [
    {
     "data": {
      "text/plain": [
       "11971290"
      ]
     },
     "execution_count": 100,
     "metadata": {},
     "output_type": "execute_result"
    }
   ],
   "source": [
    "len(moves_total_test)"
   ]
  },
  {
   "cell_type": "markdown",
   "id": "7d5a61fe-38c9-452d-9a84-2763ef592d69",
   "metadata": {},
   "source": [
    "### OLD"
   ]
  },
  {
   "cell_type": "code",
   "execution_count": 35,
   "id": "7de72ba7-e75c-4c38-9eee-10ece9135a7b",
   "metadata": {},
   "outputs": [],
   "source": [
    "def populate_moves_total(row: list[str], ind: int) -> None:\n",
    "    '''\n",
    "    Split each move (string) into a tuple.\n",
    "    Tuple format: (match_id, move_num, player, move)\n",
    "    Match_id is foreign key of the main dataframe (index column).\n",
    "    Player is categorical column with values 'white' or 'black'.\n",
    "    '''\n",
    "    for move in row:\n",
    "        split_list = move.split(' ')\n",
    "        tuple_move = tuple([ind] + [int(split_list[0])] + split_list[1:])\n",
    "\n",
    "        if len(tuple_move) == 3:\n",
    "            tuple_move = tuple_move + (None, ) # in case of last move ('0', '38', 'Rfd1', None)\n",
    "\n",
    "        moves_total.append(tuple_move)"
   ]
  },
  {
   "cell_type": "code",
   "execution_count": 36,
   "id": "18ab5faa-4427-4b98-8997-45c898c12d15",
   "metadata": {},
   "outputs": [],
   "source": [
    "def create_moves_total(row) -> None:\n",
    "    '''Separate each move.'''\n",
    "    match_moves = []\n",
    "    match_moves.append(row[\"AN\"])\n",
    "    sep_num = 2\n",
    "    while True:  # parse as many moves as possible\n",
    "        separator = str(sep_num)+'.'\n",
    "        if separator in match_moves[-1]:  # if the next move is found\n",
    "            match_moves = match_moves[0:-1] + match_moves[-1].split(' '+separator) # concatenate all previous moves and remainder\n",
    "            match_moves[-1] = str(sep_num) + match_moves[-1]\n",
    "            sep_num+=1\n",
    "        else:  # if the next move is not found\n",
    "            match_moves[-1] = delete_result_from_an(match_moves[-1])\n",
    "            match_moves[0] =  re.sub('1.', '1', match_moves[0])\n",
    "            break\n",
    "    \n",
    "    populate_moves_total(match_moves, row.name)"
   ]
  },
  {
   "cell_type": "code",
   "execution_count": 38,
   "id": "13d6fd1d-f20e-4d6e-a8bd-6184e340d81c",
   "metadata": {},
   "outputs": [
    {
     "name": "stdout",
     "output_type": "stream",
     "text": [
      "CPU times: total: 1min 23s\n",
      "Wall time: 1min 43s\n"
     ]
    }
   ],
   "source": [
    "%%time\n",
    "%%capture\n",
    "moves_total: list[tuple] = [] # template for data frame\n",
    "df.apply(create_moves_total, axis = 1)\n",
    "# 429388 rows = 1min 1s ± 1.74 s per loop (mean ± std. dev. of 7 runs, 1 loop each)"
   ]
  },
  {
   "cell_type": "markdown",
   "id": "68e920c5-2437-40c0-9c8e-6de9fd43d621",
   "metadata": {},
   "source": [
    "#### Convert moves_total to df_moves"
   ]
  },
  {
   "cell_type": "code",
   "execution_count": 101,
   "id": "c785b163-ea7b-425b-98fa-9c7c68b9a502",
   "metadata": {},
   "outputs": [
    {
     "name": "stdout",
     "output_type": "stream",
     "text": [
      "CPU times: total: 7.31 s\n",
      "Wall time: 7.32 s\n"
     ]
    }
   ],
   "source": [
    "%%time\n",
    "df_moves = pd.DataFrame(moves_total_test, columns=['match_id', 'move_num', 'player', 'move'])"
   ]
  },
  {
   "cell_type": "code",
   "execution_count": 102,
   "id": "36d4c79a-accb-445f-9bdd-87a6c9043ffd",
   "metadata": {},
   "outputs": [
    {
     "name": "stdout",
     "output_type": "stream",
     "text": [
      "<class 'pandas.core.frame.DataFrame'>\n",
      "RangeIndex: 11971290 entries, 0 to 11971289\n",
      "Data columns (total 4 columns):\n",
      " #   Column    Dtype \n",
      "---  ------    ----- \n",
      " 0   match_id  int64 \n",
      " 1   move_num  int64 \n",
      " 2   player    object\n",
      " 3   move      object\n",
      "dtypes: int64(2), object(2)\n",
      "memory usage: 365.3+ MB\n"
     ]
    }
   ],
   "source": [
    "df_moves.info()"
   ]
  },
  {
   "cell_type": "code",
   "execution_count": 103,
   "id": "245e1843-332a-475b-a022-27f0e8a0a930",
   "metadata": {},
   "outputs": [
    {
     "name": "stdout",
     "output_type": "stream",
     "text": [
      "<class 'pandas.core.frame.DataFrame'>\n",
      "RangeIndex: 11971290 entries, 0 to 11971289\n",
      "Data columns (total 4 columns):\n",
      " #   Column    Dtype   \n",
      "---  ------    -----   \n",
      " 0   match_id  int64   \n",
      " 1   move_num  int64   \n",
      " 2   player    category\n",
      " 3   move      object  \n",
      "dtypes: category(1), int64(2), object(1)\n",
      "memory usage: 285.4+ MB\n"
     ]
    }
   ],
   "source": [
    "df_moves['player'] = df_moves['player'].astype('category')\n",
    "df_moves.info()"
   ]
  },
  {
   "cell_type": "code",
   "execution_count": 104,
   "id": "963894e4-cabf-4655-93ab-505dee19743b",
   "metadata": {},
   "outputs": [
    {
     "data": {
      "text/html": [
       "<div>\n",
       "<style scoped>\n",
       "    .dataframe tbody tr th:only-of-type {\n",
       "        vertical-align: middle;\n",
       "    }\n",
       "\n",
       "    .dataframe tbody tr th {\n",
       "        vertical-align: top;\n",
       "    }\n",
       "\n",
       "    .dataframe thead th {\n",
       "        text-align: right;\n",
       "    }\n",
       "</style>\n",
       "<table border=\"1\" class=\"dataframe\">\n",
       "  <thead>\n",
       "    <tr style=\"text-align: right;\">\n",
       "      <th></th>\n",
       "      <th>match_id</th>\n",
       "      <th>move_num</th>\n",
       "      <th>player</th>\n",
       "      <th>move</th>\n",
       "    </tr>\n",
       "  </thead>\n",
       "  <tbody>\n",
       "    <tr>\n",
       "      <th>1000</th>\n",
       "      <td>13</td>\n",
       "      <td>11</td>\n",
       "      <td>white</td>\n",
       "      <td>Qg4</td>\n",
       "    </tr>\n",
       "    <tr>\n",
       "      <th>1001</th>\n",
       "      <td>13</td>\n",
       "      <td>12</td>\n",
       "      <td>black</td>\n",
       "      <td>g6</td>\n",
       "    </tr>\n",
       "    <tr>\n",
       "      <th>1002</th>\n",
       "      <td>13</td>\n",
       "      <td>13</td>\n",
       "      <td>white</td>\n",
       "      <td>Nf3</td>\n",
       "    </tr>\n",
       "    <tr>\n",
       "      <th>1003</th>\n",
       "      <td>13</td>\n",
       "      <td>14</td>\n",
       "      <td>black</td>\n",
       "      <td>h5</td>\n",
       "    </tr>\n",
       "    <tr>\n",
       "      <th>1004</th>\n",
       "      <td>13</td>\n",
       "      <td>15</td>\n",
       "      <td>white</td>\n",
       "      <td>Qf4</td>\n",
       "    </tr>\n",
       "  </tbody>\n",
       "</table>\n",
       "</div>"
      ],
      "text/plain": [
       "      match_id  move_num player move\n",
       "1000        13        11  white  Qg4\n",
       "1001        13        12  black   g6\n",
       "1002        13        13  white  Nf3\n",
       "1003        13        14  black   h5\n",
       "1004        13        15  white  Qf4"
      ]
     },
     "execution_count": 104,
     "metadata": {},
     "output_type": "execute_result"
    }
   ],
   "source": [
    "df_moves[1000:1005]"
   ]
  },
  {
   "cell_type": "markdown",
   "id": "84aa51f2-d28a-4a21-99e1-15b6afd5023a",
   "metadata": {},
   "source": [
    "#### OLD"
   ]
  },
  {
   "cell_type": "code",
   "execution_count": 49,
   "id": "baf9f903-e400-4a72-9bcc-76300aa09325",
   "metadata": {},
   "outputs": [
    {
     "ename": "NameError",
     "evalue": "name 'moves_total' is not defined",
     "output_type": "error",
     "traceback": [
      "\u001b[1;31m---------------------------------------------------------------------------\u001b[0m",
      "\u001b[1;31mNameError\u001b[0m                                 Traceback (most recent call last)",
      "File \u001b[1;32m<timed exec>:1\u001b[0m\n",
      "\u001b[1;31mNameError\u001b[0m: name 'moves_total' is not defined"
     ]
    }
   ],
   "source": [
    "%%time\n",
    "df_moves = pd.DataFrame(moves_total, columns=['match_id', 'move_num', 'white_move', 'black_move'])"
   ]
  },
  {
   "cell_type": "code",
   "execution_count": 43,
   "id": "e1d3a525-b9a2-4903-9165-3f5687f333fd",
   "metadata": {},
   "outputs": [
    {
     "name": "stdout",
     "output_type": "stream",
     "text": [
      "<class 'pandas.core.frame.DataFrame'>\n",
      "RangeIndex: 14822951 entries, 0 to 14822950\n",
      "Data columns (total 4 columns):\n",
      " #   Column      Dtype \n",
      "---  ------      ----- \n",
      " 0   match_id    int64 \n",
      " 1   move_num    int64 \n",
      " 2   white_move  object\n",
      " 3   black_move  object\n",
      "dtypes: int64(2), object(2)\n",
      "memory usage: 452.4+ MB\n"
     ]
    }
   ],
   "source": [
    "df_moves.info()"
   ]
  },
  {
   "cell_type": "markdown",
   "id": "d94260d0-046b-4053-92ab-076068594993",
   "metadata": {},
   "source": [
    "#### Drop AN column"
   ]
  },
  {
   "cell_type": "code",
   "execution_count": 238,
   "id": "7538b3a4-5e5e-452f-94f5-45a9e3fb5d59",
   "metadata": {},
   "outputs": [
    {
     "name": "stdout",
     "output_type": "stream",
     "text": [
      "<class 'pandas.core.frame.DataFrame'>\n",
      "RangeIndex: 429388 entries, 0 to 429387\n",
      "Data columns (total 6 columns):\n",
      " #   Column       Non-Null Count   Dtype         \n",
      "---  ------       --------------   -----         \n",
      " 0   Event        429388 non-null  category      \n",
      " 1   Result       429388 non-null  category      \n",
      " 2   UTCDate      429388 non-null  datetime64[ns]\n",
      " 3   Opening      429388 non-null  object        \n",
      " 4   Termination  429388 non-null  category      \n",
      " 5   Tournament   429388 non-null  bool          \n",
      "dtypes: bool(1), category(3), datetime64[ns](1), object(1)\n",
      "memory usage: 8.2+ MB\n"
     ]
    }
   ],
   "source": [
    "df = df.drop('AN', axis=1)\n",
    "df.info()"
   ]
  },
  {
   "cell_type": "markdown",
   "id": "741d1ce8-a8c1-44b0-9dd7-1bd331c11076",
   "metadata": {
    "tags": []
   },
   "source": [
    "## Draft"
   ]
  },
  {
   "cell_type": "code",
   "execution_count": 44,
   "id": "ef2bade1-9f83-49bd-a731-8e9095f8d6ed",
   "metadata": {},
   "outputs": [
    {
     "data": {
      "text/html": [
       "<div>\n",
       "<style scoped>\n",
       "    .dataframe tbody tr th:only-of-type {\n",
       "        vertical-align: middle;\n",
       "    }\n",
       "\n",
       "    .dataframe tbody tr th {\n",
       "        vertical-align: top;\n",
       "    }\n",
       "\n",
       "    .dataframe thead th {\n",
       "        text-align: right;\n",
       "    }\n",
       "</style>\n",
       "<table border=\"1\" class=\"dataframe\">\n",
       "  <thead>\n",
       "    <tr style=\"text-align: right;\">\n",
       "      <th></th>\n",
       "      <th>match_id</th>\n",
       "      <th>move_num</th>\n",
       "      <th>white_move</th>\n",
       "      <th>black_move</th>\n",
       "    </tr>\n",
       "  </thead>\n",
       "  <tbody>\n",
       "    <tr>\n",
       "      <th>0</th>\n",
       "      <td>0</td>\n",
       "      <td>1</td>\n",
       "      <td>d4</td>\n",
       "      <td>d5</td>\n",
       "    </tr>\n",
       "    <tr>\n",
       "      <th>1</th>\n",
       "      <td>0</td>\n",
       "      <td>2</td>\n",
       "      <td>c4</td>\n",
       "      <td>c6</td>\n",
       "    </tr>\n",
       "    <tr>\n",
       "      <th>2</th>\n",
       "      <td>0</td>\n",
       "      <td>3</td>\n",
       "      <td>e3</td>\n",
       "      <td>a6</td>\n",
       "    </tr>\n",
       "    <tr>\n",
       "      <th>3</th>\n",
       "      <td>0</td>\n",
       "      <td>4</td>\n",
       "      <td>Nf3</td>\n",
       "      <td>e5</td>\n",
       "    </tr>\n",
       "    <tr>\n",
       "      <th>4</th>\n",
       "      <td>0</td>\n",
       "      <td>5</td>\n",
       "      <td>cxd5</td>\n",
       "      <td>e4</td>\n",
       "    </tr>\n",
       "    <tr>\n",
       "      <th>...</th>\n",
       "      <td>...</td>\n",
       "      <td>...</td>\n",
       "      <td>...</td>\n",
       "      <td>...</td>\n",
       "    </tr>\n",
       "    <tr>\n",
       "      <th>14822946</th>\n",
       "      <td>429387</td>\n",
       "      <td>43</td>\n",
       "      <td>bxc5</td>\n",
       "      <td>Kg4</td>\n",
       "    </tr>\n",
       "    <tr>\n",
       "      <th>14822947</th>\n",
       "      <td>429387</td>\n",
       "      <td>44</td>\n",
       "      <td>Be5</td>\n",
       "      <td>Kf5</td>\n",
       "    </tr>\n",
       "    <tr>\n",
       "      <th>14822948</th>\n",
       "      <td>429387</td>\n",
       "      <td>45</td>\n",
       "      <td>Bg3</td>\n",
       "      <td>Kxe6</td>\n",
       "    </tr>\n",
       "    <tr>\n",
       "      <th>14822949</th>\n",
       "      <td>429387</td>\n",
       "      <td>46</td>\n",
       "      <td>Kc3</td>\n",
       "      <td>Kd5</td>\n",
       "    </tr>\n",
       "    <tr>\n",
       "      <th>14822950</th>\n",
       "      <td>429387</td>\n",
       "      <td>47</td>\n",
       "      <td>Kb4</td>\n",
       "      <td>None</td>\n",
       "    </tr>\n",
       "  </tbody>\n",
       "</table>\n",
       "<p>14822951 rows × 4 columns</p>\n",
       "</div>"
      ],
      "text/plain": [
       "          match_id  move_num white_move black_move\n",
       "0                0         1         d4         d5\n",
       "1                0         2         c4         c6\n",
       "2                0         3         e3         a6\n",
       "3                0         4        Nf3         e5\n",
       "4                0         5       cxd5         e4\n",
       "...            ...       ...        ...        ...\n",
       "14822946    429387        43       bxc5        Kg4\n",
       "14822947    429387        44        Be5        Kf5\n",
       "14822948    429387        45        Bg3       Kxe6\n",
       "14822949    429387        46        Kc3        Kd5\n",
       "14822950    429387        47        Kb4       None\n",
       "\n",
       "[14822951 rows x 4 columns]"
      ]
     },
     "execution_count": 44,
     "metadata": {},
     "output_type": "execute_result"
    }
   ],
   "source": [
    "df_moves"
   ]
  },
  {
   "cell_type": "code",
   "execution_count": 105,
   "id": "5a6e33f0-304c-43a6-aa63-fe1fc3d07159",
   "metadata": {},
   "outputs": [
    {
     "data": {
      "text/plain": [
       "295"
      ]
     },
     "execution_count": 105,
     "metadata": {},
     "output_type": "execute_result"
    }
   ],
   "source": [
    "df_moves['move_num'].max()"
   ]
  },
  {
   "cell_type": "markdown",
   "id": "003da6c3-7ce5-4c62-aa24-7f6fc6fabdad",
   "metadata": {},
   "source": [
    "### Make sure that all move have correct [Algebraic notation](https://en.wikipedia.org/wiki/Algebraic_notation_(chess))"
   ]
  },
  {
   "cell_type": "markdown",
   "id": "e16046b4-4797-405d-be9b-4b372a3afba8",
   "metadata": {},
   "source": [
    "#### Format\n",
    "piece_name, disambiguating (optional), capture (optional), square_name, pawn_promotion (optional), check or checkmate (optional) \\\n",
    "kingside or queenside castling, check or checkmate (optional)"
   ]
  },
  {
   "cell_type": "code",
   "execution_count": 106,
   "id": "dcd4b1f3-9739-4f13-8d56-c763ca3835f1",
   "metadata": {},
   "outputs": [
    {
     "data": {
      "text/html": [
       "<div>\n",
       "<style scoped>\n",
       "    .dataframe tbody tr th:only-of-type {\n",
       "        vertical-align: middle;\n",
       "    }\n",
       "\n",
       "    .dataframe tbody tr th {\n",
       "        vertical-align: top;\n",
       "    }\n",
       "\n",
       "    .dataframe thead th {\n",
       "        text-align: right;\n",
       "    }\n",
       "</style>\n",
       "<table border=\"1\" class=\"dataframe\">\n",
       "  <thead>\n",
       "    <tr style=\"text-align: right;\">\n",
       "      <th></th>\n",
       "      <th>match_id</th>\n",
       "      <th>move_num</th>\n",
       "      <th>player</th>\n",
       "      <th>move</th>\n",
       "    </tr>\n",
       "  </thead>\n",
       "  <tbody>\n",
       "  </tbody>\n",
       "</table>\n",
       "</div>"
      ],
      "text/plain": [
       "Empty DataFrame\n",
       "Columns: [match_id, move_num, player, move]\n",
       "Index: []"
      ]
     },
     "execution_count": 106,
     "metadata": {},
     "output_type": "execute_result"
    }
   ],
   "source": [
    "filt = ~(df_moves['move'].str.match(r'(^|[KQRBN])[a-h]?[1-8]?([a-h]?x)?[a-h][1-8](=[QRBN])?[\\+#]?$') == True) \\\n",
    "     & ~(df_moves['move'].str.match(r'^(O-O|O-O-O)[\\+#]?$')== True)\n",
    "df_moves[filt]"
   ]
  },
  {
   "cell_type": "markdown",
   "id": "3adf41dc-5349-4c0d-999d-8c3e4f27d3be",
   "metadata": {
    "tags": []
   },
   "source": [
    "#### OLD"
   ]
  },
  {
   "cell_type": "code",
   "execution_count": 132,
   "id": "92c5ba8e-14d7-40f4-a096-4f3faa39a1f9",
   "metadata": {},
   "outputs": [
    {
     "data": {
      "text/html": [
       "<div>\n",
       "<style scoped>\n",
       "    .dataframe tbody tr th:only-of-type {\n",
       "        vertical-align: middle;\n",
       "    }\n",
       "\n",
       "    .dataframe tbody tr th {\n",
       "        vertical-align: top;\n",
       "    }\n",
       "\n",
       "    .dataframe thead th {\n",
       "        text-align: right;\n",
       "    }\n",
       "</style>\n",
       "<table border=\"1\" class=\"dataframe\">\n",
       "  <thead>\n",
       "    <tr style=\"text-align: right;\">\n",
       "      <th></th>\n",
       "      <th>match_id</th>\n",
       "      <th>move_num</th>\n",
       "      <th>white_move</th>\n",
       "      <th>black_move</th>\n",
       "    </tr>\n",
       "  </thead>\n",
       "  <tbody>\n",
       "  </tbody>\n",
       "</table>\n",
       "</div>"
      ],
      "text/plain": [
       "Empty DataFrame\n",
       "Columns: [match_id, move_num, white_move, black_move]\n",
       "Index: []"
      ]
     },
     "execution_count": 132,
     "metadata": {},
     "output_type": "execute_result"
    }
   ],
   "source": [
    "filt = ~(df_moves['white_move'].str.match(r'(^|[KQRBN])[a-h]?[1-8]?([a-h]?x)?[a-h][1-8](=[QRBN])?[\\+#]?$') == True) \\\n",
    "     & ~(df_moves['white_move'].str.match(r'^(O-O|O-O-O)[\\+#]?$')== True)\n",
    "# & ~(df_moves['white_move'].isin(['O-O', 'O-O+', 'O-O-O', 'O-O-O+']))\n",
    "df_moves[filt]"
   ]
  },
  {
   "cell_type": "code",
   "execution_count": 123,
   "id": "247e7127-0cd0-49e3-80d2-cb9fe5095451",
   "metadata": {},
   "outputs": [
    {
     "data": {
      "text/html": [
       "<div>\n",
       "<style scoped>\n",
       "    .dataframe tbody tr th:only-of-type {\n",
       "        vertical-align: middle;\n",
       "    }\n",
       "\n",
       "    .dataframe tbody tr th {\n",
       "        vertical-align: top;\n",
       "    }\n",
       "\n",
       "    .dataframe thead th {\n",
       "        text-align: right;\n",
       "    }\n",
       "</style>\n",
       "<table border=\"1\" class=\"dataframe\">\n",
       "  <thead>\n",
       "    <tr style=\"text-align: right;\">\n",
       "      <th></th>\n",
       "      <th>match_id</th>\n",
       "      <th>move_num</th>\n",
       "      <th>white_move</th>\n",
       "      <th>black_move</th>\n",
       "    </tr>\n",
       "  </thead>\n",
       "  <tbody>\n",
       "  </tbody>\n",
       "</table>\n",
       "</div>"
      ],
      "text/plain": [
       "Empty DataFrame\n",
       "Columns: [match_id, move_num, white_move, black_move]\n",
       "Index: []"
      ]
     },
     "execution_count": 123,
     "metadata": {},
     "output_type": "execute_result"
    }
   ],
   "source": [
    "filt = ~(df_moves['black_move'].str.match(r'(^|[KQRBN])[a-h]?[1-8]?([a-h]?x)?[a-h][1-8](=[QRBN])?[\\+#]?$') == True) \\\n",
    "     & ~(df_moves['black_move'].str.match(r'^(O-O|O-O-O)[\\+#]?$')== True) & ~df_moves['black_move'].isnull()\n",
    "# & ~(df_moves['white_move'].isin(['O-O', 'O-O+', 'O-O-O', 'O-O-O+']))\n",
    "df_moves[filt]"
   ]
  },
  {
   "cell_type": "code",
   "execution_count": 135,
   "id": "7885809f-aff9-4ae2-9e7c-7d987de70ffc",
   "metadata": {},
   "outputs": [
    {
     "data": {
      "text/plain": [
       "{'piece_name': 'Q', 'capture': 'x', 'promotion': None, 'position': '+'}"
      ]
     },
     "execution_count": 135,
     "metadata": {},
     "output_type": "execute_result"
    }
   ],
   "source": [
    "m = re.match(r'(?P<piece_name>^|[KQRBN])[a-h]?[1-8]?(?P<capture>[a-h]?x)?[a-h][1-8](?P<promotion>=[QRBN])?(?P<position>[\\+#])?$', 'Qh4xe1+')\n",
    "m.groupdict()"
   ]
  },
  {
   "cell_type": "code",
   "execution_count": null,
   "id": "fa9d945a-0da9-4c57-9619-ee55e8eb92a9",
   "metadata": {},
   "outputs": [],
   "source": []
  },
  {
   "cell_type": "code",
   "execution_count": null,
   "id": "12931e5e-ac15-4c56-a830-88cb91fdc42e",
   "metadata": {},
   "outputs": [],
   "source": [
    "# %%time\n",
    "# for i, row in df.iterrows():\n",
    "#     df.at[i, 'Event'] = df.at[i, 'Event']"
   ]
  },
  {
   "cell_type": "code",
   "execution_count": null,
   "id": "24978206-ce54-4350-9e83-da830f4f66ae",
   "metadata": {},
   "outputs": [],
   "source": [
    "# %%time\n",
    "# for i in df.index:\n",
    "#     df['Event'].iloc[i] = df['Event'].iloc[i]"
   ]
  },
  {
   "cell_type": "code",
   "execution_count": null,
   "id": "cb75344f-0ba0-4e74-8976-547585a31653",
   "metadata": {},
   "outputs": [],
   "source": []
  }
 ],
 "metadata": {
  "kernelspec": {
   "display_name": "Python 3 (ipykernel)",
   "language": "python",
   "name": "python3"
  },
  "language_info": {
   "codemirror_mode": {
    "name": "ipython",
    "version": 3
   },
   "file_extension": ".py",
   "mimetype": "text/x-python",
   "name": "python",
   "nbconvert_exporter": "python",
   "pygments_lexer": "ipython3",
   "version": "3.10.9"
  }
 },
 "nbformat": 4,
 "nbformat_minor": 5
}
