{
 "cells": [
  {
   "cell_type": "code",
   "execution_count": 23,
   "id": "6a016a19-d763-451d-94ff-d7f6c2ca9100",
   "metadata": {},
   "outputs": [],
   "source": [
    "import re\n",
    "import numpy as np\n",
    "import pandas as pd\n",
    "\n",
    "pd.set_option('display.max_columns', None)"
   ]
  },
  {
   "cell_type": "markdown",
   "id": "1c347be5-0b0a-4cba-b2f6-c1ec90a2b2e1",
   "metadata": {},
   "source": [
    "## Extracting data"
   ]
  },
  {
   "cell_type": "code",
   "execution_count": 24,
   "id": "3a68ce7e-659e-40c5-8481-e05e74685739",
   "metadata": {},
   "outputs": [
    {
     "name": "stdout",
     "output_type": "stream",
     "text": [
      "500000 rows was extracted\n",
      "CPU times: total: 5.48 s\n",
      "Wall time: 6.84 s\n"
     ]
    }
   ],
   "source": [
    "%%time\n",
    "df = pd.read_csv('chess_games.csv', nrows=500000,\n",
    "                usecols=['Event', 'Result', 'UTCDate', 'Opening', 'Termination', 'AN']) # chunksize=100000, index_col=''\n",
    "print(f\"{len(df)} rows was extracted\")"
   ]
  },
  {
   "cell_type": "code",
   "execution_count": 25,
   "id": "2b9fa643-8e2e-4ac0-9eab-e447e00869ef",
   "metadata": {},
   "outputs": [
    {
     "data": {
      "text/html": [
       "<div>\n",
       "<style scoped>\n",
       "    .dataframe tbody tr th:only-of-type {\n",
       "        vertical-align: middle;\n",
       "    }\n",
       "\n",
       "    .dataframe tbody tr th {\n",
       "        vertical-align: top;\n",
       "    }\n",
       "\n",
       "    .dataframe thead th {\n",
       "        text-align: right;\n",
       "    }\n",
       "</style>\n",
       "<table border=\"1\" class=\"dataframe\">\n",
       "  <thead>\n",
       "    <tr style=\"text-align: right;\">\n",
       "      <th></th>\n",
       "      <th>Event</th>\n",
       "      <th>Result</th>\n",
       "      <th>UTCDate</th>\n",
       "      <th>Opening</th>\n",
       "      <th>Termination</th>\n",
       "      <th>AN</th>\n",
       "    </tr>\n",
       "  </thead>\n",
       "  <tbody>\n",
       "    <tr>\n",
       "      <th>0</th>\n",
       "      <td>Classical</td>\n",
       "      <td>1-0</td>\n",
       "      <td>2016.06.30</td>\n",
       "      <td>Slav Defense</td>\n",
       "      <td>Time forfeit</td>\n",
       "      <td>1. d4 d5 2. c4 c6 3. e3 a6 4. Nf3 e5 5. cxd5 e...</td>\n",
       "    </tr>\n",
       "    <tr>\n",
       "      <th>1</th>\n",
       "      <td>Blitz</td>\n",
       "      <td>0-1</td>\n",
       "      <td>2016.06.30</td>\n",
       "      <td>King's Pawn Opening: 2.b3</td>\n",
       "      <td>Normal</td>\n",
       "      <td>1. e4 e5 2. b3 Nf6 3. Bb2 Nc6 4. Nf3 d6 5. d3 ...</td>\n",
       "    </tr>\n",
       "    <tr>\n",
       "      <th>2</th>\n",
       "      <td>Blitz tournament</td>\n",
       "      <td>1-0</td>\n",
       "      <td>2016.06.30</td>\n",
       "      <td>Scandinavian Defense: Mieses-Kotroc Variation</td>\n",
       "      <td>Time forfeit</td>\n",
       "      <td>1. e4 d5 2. exd5 Qxd5 3. Nf3 Bg4 4. Be2 Nf6 5....</td>\n",
       "    </tr>\n",
       "  </tbody>\n",
       "</table>\n",
       "</div>"
      ],
      "text/plain": [
       "                Event Result     UTCDate  \\\n",
       "0          Classical     1-0  2016.06.30   \n",
       "1              Blitz     0-1  2016.06.30   \n",
       "2   Blitz tournament     1-0  2016.06.30   \n",
       "\n",
       "                                         Opening   Termination  \\\n",
       "0                                   Slav Defense  Time forfeit   \n",
       "1                      King's Pawn Opening: 2.b3        Normal   \n",
       "2  Scandinavian Defense: Mieses-Kotroc Variation  Time forfeit   \n",
       "\n",
       "                                                  AN  \n",
       "0  1. d4 d5 2. c4 c6 3. e3 a6 4. Nf3 e5 5. cxd5 e...  \n",
       "1  1. e4 e5 2. b3 Nf6 3. Bb2 Nc6 4. Nf3 d6 5. d3 ...  \n",
       "2  1. e4 d5 2. exd5 Qxd5 3. Nf3 Bg4 4. Be2 Nf6 5....  "
      ]
     },
     "execution_count": 25,
     "metadata": {},
     "output_type": "execute_result"
    }
   ],
   "source": [
    "df.head(3)"
   ]
  },
  {
   "cell_type": "markdown",
   "id": "b10aa184-d4fd-458c-b282-9b2979ceef1b",
   "metadata": {},
   "source": [
    "## Transform data"
   ]
  },
  {
   "cell_type": "markdown",
   "id": "60bcbb56-a743-48b0-bfa1-8c106f1875db",
   "metadata": {},
   "source": [
    "### Filter dataframe"
   ]
  },
  {
   "cell_type": "markdown",
   "id": "7990bafa-f482-40d3-a7fa-b09bb619f622",
   "metadata": {},
   "source": [
    "#### Get rid of ambiguous match results and matches that was abandoned or have rules infractions"
   ]
  },
  {
   "cell_type": "code",
   "execution_count": 26,
   "id": "7951eec3-dce9-4987-93f5-0502c3630911",
   "metadata": {},
   "outputs": [
    {
     "name": "stdout",
     "output_type": "stream",
     "text": [
      "1057 rows was removed\n",
      "498943 rows left\n"
     ]
    }
   ],
   "source": [
    "filt = (df['Result'] != '*') & (df['Termination'] != 'Abandoned') & (df['Termination'] != 'Rules infraction')\n",
    "print(f\"{len(df)-len(df[filt])} rows was removed\")\n",
    "df = df[filt]\n",
    "print(f\"{len(df)} rows left\")"
   ]
  },
  {
   "cell_type": "markdown",
   "id": "684dc4ff-1172-411f-b5a2-7df2bec14b1e",
   "metadata": {},
   "source": [
    "#### Remove short matches (~less than 10 moves)"
   ]
  },
  {
   "cell_type": "code",
   "execution_count": 27,
   "id": "59ff7d59-5b32-4f47-bd34-51c32ce7da52",
   "metadata": {},
   "outputs": [
    {
     "name": "stdout",
     "output_type": "stream",
     "text": [
      "5689 rows was removed\n",
      "493254 rows left\n"
     ]
    }
   ],
   "source": [
    "filt = df[\"AN\"].apply(len) > 50\n",
    "print(f\"{len(df)-len(df[filt])} rows was removed\")\n",
    "df = df[filt]\n",
    "print(f\"{len(df)} rows left\")"
   ]
  },
  {
   "cell_type": "markdown",
   "id": "bb845c90-b9cb-4f8f-8995-74d648744813",
   "metadata": {
    "tags": []
   },
   "source": [
    "#### Get rid of unstructured string values in \"AN\" column"
   ]
  },
  {
   "cell_type": "code",
   "execution_count": 28,
   "id": "148f5d5a-0b1e-45b7-97ed-6708b7c59d48",
   "metadata": {},
   "outputs": [
    {
     "name": "stdout",
     "output_type": "stream",
     "text": [
      "63866 rows was removed\n",
      "429388 rows left\n"
     ]
    }
   ],
   "source": [
    "filt = ~df['AN'].str.contains('\\[%eval')\n",
    "print(f\"{len(df)-len(df[filt])} rows was removed\")\n",
    "df = df[filt]\n",
    "print(f\"{len(df)} rows left\")"
   ]
  },
  {
   "cell_type": "markdown",
   "id": "51fb0d0e-d74f-4b02-a84e-b2efa37589bc",
   "metadata": {
    "tags": []
   },
   "source": [
    "#### Remove unpopular openings (less than 1500 matches)"
   ]
  },
  {
   "cell_type": "code",
   "execution_count": 7,
   "id": "e6ee7549-4d11-4f50-aa69-9e2f26347775",
   "metadata": {},
   "outputs": [],
   "source": [
    "# value_counts = df.stack().value_counts() # Entire DataFrame \n",
    "# to_remove = value_counts[value_counts <= 1500].index\n",
    "# df.replace(to_remove, np.nan, inplace=True)"
   ]
  },
  {
   "cell_type": "code",
   "execution_count": 11,
   "id": "af1b2ddd-f276-45a2-bfcf-41e155d4540d",
   "metadata": {},
   "outputs": [
    {
     "name": "stdout",
     "output_type": "stream",
     "text": [
      "255831 rows was removed\n",
      "173557 rows left\n"
     ]
    }
   ],
   "source": [
    "vc = df['Opening'].value_counts()\n",
    "vals_to_remove = vc[vc < 1500].index.values\n",
    "df['Opening'].loc[df['Opening'].isin(vals_to_remove)] = '111'\n",
    "filt = df['Opening'] != '111'\n",
    "print(f\"{len(df)-len(df[filt])} rows was removed\")\n",
    "df = df[filt]\n",
    "print(f\"{len(df)} rows left\")"
   ]
  },
  {
   "cell_type": "markdown",
   "id": "ecc9eeab-d8af-4901-b80b-920aeefcb9c5",
   "metadata": {},
   "source": [
    "### Expand and rearrange dataframe"
   ]
  },
  {
   "cell_type": "markdown",
   "id": "99614a67-2353-48b5-9e8d-94b3e6f392ce",
   "metadata": {},
   "source": [
    "#### Reset index"
   ]
  },
  {
   "cell_type": "code",
   "execution_count": 29,
   "id": "7a73c2f2-ac6f-4608-81c8-19d0a7c51a05",
   "metadata": {},
   "outputs": [],
   "source": [
    "df = df.reset_index(drop=True)"
   ]
  },
  {
   "cell_type": "markdown",
   "id": "b3f312c3-698a-4e9d-870a-780ef2d842c0",
   "metadata": {},
   "source": [
    "#### Create column \"Tournament\""
   ]
  },
  {
   "cell_type": "code",
   "execution_count": 30,
   "id": "f951271b-4bd6-4759-be4b-8e5fd9eea5b3",
   "metadata": {},
   "outputs": [],
   "source": [
    "df['Tournament'] = df['Event'].str.contains('tournament')"
   ]
  },
  {
   "cell_type": "markdown",
   "id": "83fbda1b-9120-414c-8abf-ba4db51b354c",
   "metadata": {},
   "source": [
    "#### Rearrange column \"Event\""
   ]
  },
  {
   "cell_type": "code",
   "execution_count": 31,
   "id": "ac06dddb-3f9a-434b-bc37-bf1ca8117e87",
   "metadata": {},
   "outputs": [],
   "source": [
    "df['Event'] = df['Event'].map({' Classical ': 'Classical',\n",
    "                               ' Blitz ': 'Blitz',\n",
    "                               ' Blitz tournament ': 'Blitz',\n",
    "                               ' Correspondence ': 'Classical',\n",
    "                               ' Classical tournament ': 'Classical',\n",
    "                               ' Bullet tournament ': 'Bullet',\n",
    "                               ' Bullet ': 'Bullet',\n",
    "                               'Blitz tournament ': 'Blitz',\n",
    "                               'Bullet ': 'Bullet',\n",
    "                               'Classical ': 'Classical',\n",
    "                               'Blitz ': 'Blitz'\n",
    "                               })"
   ]
  },
  {
   "cell_type": "markdown",
   "id": "e33de9c5-16d0-4c67-bb52-f0a99df72c58",
   "metadata": {},
   "source": [
    "#### Change columns datatype"
   ]
  },
  {
   "cell_type": "code",
   "execution_count": 32,
   "id": "539c009b-475f-4f6c-b451-746d47c5e85e",
   "metadata": {},
   "outputs": [],
   "source": [
    "df['Event'] = df['Event'].astype('category')\n",
    "df['Result'] = df['Result'].astype('category')\n",
    "df['Termination'] = df['Termination'].astype('category')\n",
    "df['UTCDate'] = pd.to_datetime(df['UTCDate'])"
   ]
  },
  {
   "cell_type": "code",
   "execution_count": 33,
   "id": "3aa77f91-0824-4523-96a0-c56dbe1449c5",
   "metadata": {},
   "outputs": [
    {
     "name": "stdout",
     "output_type": "stream",
     "text": [
      "<class 'pandas.core.frame.DataFrame'>\n",
      "RangeIndex: 429388 entries, 0 to 429387\n",
      "Data columns (total 7 columns):\n",
      " #   Column       Non-Null Count   Dtype         \n",
      "---  ------       --------------   -----         \n",
      " 0   Event        429388 non-null  category      \n",
      " 1   Result       429388 non-null  category      \n",
      " 2   UTCDate      429388 non-null  datetime64[ns]\n",
      " 3   Opening      429388 non-null  object        \n",
      " 4   Termination  429388 non-null  category      \n",
      " 5   AN           429388 non-null  object        \n",
      " 6   Tournament   429388 non-null  bool          \n",
      "dtypes: bool(1), category(3), datetime64[ns](1), object(2)\n",
      "memory usage: 11.5+ MB\n"
     ]
    }
   ],
   "source": [
    "df.info()"
   ]
  },
  {
   "cell_type": "markdown",
   "id": "1e008da0-1fcc-49f9-a25d-80b18e5d3eca",
   "metadata": {},
   "source": [
    "#### Create moves_total from AN column"
   ]
  },
  {
   "cell_type": "code",
   "execution_count": 34,
   "id": "0b42dc3e-dfc5-43ad-93c5-2bfd812e83c7",
   "metadata": {},
   "outputs": [],
   "source": [
    "def delete_result_from_an(move: str) -> str:\n",
    "    '''Delete result mark in the last move.'''\n",
    "    move = re.sub(' 1-0',     '', move)\n",
    "    move = re.sub(' 0-1',     '', move)\n",
    "    move = re.sub(' 1/2-1/2', '', move)\n",
    "    move = re.sub(' \\*',      '', move)\n",
    "    return move"
   ]
  },
  {
   "cell_type": "code",
   "execution_count": 14,
   "id": "bbe418e8-4846-4773-8a5f-e3913039f597",
   "metadata": {},
   "outputs": [],
   "source": [
    "def populate_moves_total(row: list[str]) -> None:\n",
    "    '''\n",
    "    Split each move (string) into a tuple.\n",
    "    Tuple format: (match_id, move_num, white_move, black_move)\n",
    "    Match_id is foreign key of the main dataframe (index column).\n",
    "    '''\n",
    "    for move in row:\n",
    "        split_list = move.split(' ')\n",
    "        tuple_move = tuple([0] + [int(split_list[0])] + split_list[1:])\n",
    "\n",
    "        if len(tuple_move) == 3:\n",
    "            tuple_move = tuple_move + (None, ) # in case of last move ('0', '38', 'Rfd1', None)\n",
    "\n",
    "        moves_total.append(tuple_move)"
   ]
  },
  {
   "cell_type": "code",
   "execution_count": 15,
   "id": "2fe9ae50-3e55-4eb0-85f7-cc1944b3bdd6",
   "metadata": {},
   "outputs": [],
   "source": [
    "def create_moves_total(row: str) -> None:\n",
    "    '''Separate each move.'''\n",
    "    match_moves = []\n",
    "    match_moves.append(row)\n",
    "    sep_num = 2\n",
    "    while True:  # parse as many moves as possible\n",
    "        separator = str(sep_num)+'.'\n",
    "        if separator in match_moves[-1]:  # if the next move is found\n",
    "            match_moves = match_moves[0:-1] + match_moves[-1].split(' '+separator) # concatenate all previous moves and remainder\n",
    "            match_moves[-1] = str(sep_num) + match_moves[-1]\n",
    "            sep_num+=1\n",
    "        else:  # if the next move is not found\n",
    "            match_moves[-1] = delete_result_from_an(match_moves[-1])\n",
    "            match_moves[0] =  re.sub('1.', '1', match_moves[0])\n",
    "            break\n",
    "    \n",
    "    populate_moves_total(match_moves)"
   ]
  },
  {
   "cell_type": "code",
   "execution_count": 16,
   "id": "849bbf28-855b-455b-8a95-94eb3550d51f",
   "metadata": {},
   "outputs": [
    {
     "name": "stdout",
     "output_type": "stream",
     "text": [
      "CPU times: total: 1min 10s\n",
      "Wall time: 1min 16s\n"
     ]
    }
   ],
   "source": [
    "%%time\n",
    "%%capture\n",
    "moves_total: list[tuple] = [] # template for data frame\n",
    "df[\"AN\"].apply(create_moves_total)\n",
    "\n",
    "# 429388 rows = \n",
    "# CPU times: total: 1min 1s\n",
    "# Wall time: 1min 7s\n",
    "# 59.8 s ± 3 s per loop (mean ± std. dev. of 7 runs, 1 loop each)"
   ]
  },
  {
   "cell_type": "code",
   "execution_count": 17,
   "id": "559011b2-0b3e-418b-bef7-f7ef31f76b85",
   "metadata": {},
   "outputs": [
    {
     "data": {
      "text/plain": [
       "14822951"
      ]
     },
     "execution_count": 17,
     "metadata": {},
     "output_type": "execute_result"
    }
   ],
   "source": [
    "len(moves_total)"
   ]
  },
  {
   "cell_type": "markdown",
   "id": "a52cc2f8-7b68-4b0e-86af-076eba21c765",
   "metadata": {},
   "source": [
    "### moves_total1"
   ]
  },
  {
   "cell_type": "code",
   "execution_count": 35,
   "id": "7de72ba7-e75c-4c38-9eee-10ece9135a7b",
   "metadata": {},
   "outputs": [],
   "source": [
    "def populate_moves_total1(row: list[str], ind: int) -> None:\n",
    "    '''\n",
    "    Split each move (string) into a tuple.\n",
    "    Tuple format: (match_id, move_num, white_move, black_move)\n",
    "    Match_id is foreign key of the main dataframe (index column).\n",
    "    '''\n",
    "    for move in row:\n",
    "        split_list = move.split(' ')\n",
    "        tuple_move = tuple([ind] + [int(split_list[0])] + split_list[1:])\n",
    "\n",
    "        if len(tuple_move) == 3:\n",
    "            tuple_move = tuple_move + (None, ) # in case of last move ('0', '38', 'Rfd1', None)\n",
    "\n",
    "        moves_total1.append(tuple_move)"
   ]
  },
  {
   "cell_type": "code",
   "execution_count": 36,
   "id": "18ab5faa-4427-4b98-8997-45c898c12d15",
   "metadata": {},
   "outputs": [],
   "source": [
    "def create_moves_total1(row) -> None:\n",
    "    '''Separate each move.'''\n",
    "    match_moves = []\n",
    "    match_moves.append(row[\"AN\"])\n",
    "    sep_num = 2\n",
    "    while True:  # parse as many moves as possible\n",
    "        separator = str(sep_num)+'.'\n",
    "        if separator in match_moves[-1]:  # if the next move is found\n",
    "            match_moves = match_moves[0:-1] + match_moves[-1].split(' '+separator) # concatenate all previous moves and remainder\n",
    "            match_moves[-1] = str(sep_num) + match_moves[-1]\n",
    "            sep_num+=1\n",
    "        else:  # if the next move is not found\n",
    "            match_moves[-1] = delete_result_from_an(match_moves[-1])\n",
    "            match_moves[0] =  re.sub('1.', '1', match_moves[0])\n",
    "            break\n",
    "    \n",
    "    populate_moves_total1(match_moves, row.name)"
   ]
  },
  {
   "cell_type": "code",
   "execution_count": 37,
   "id": "6e251940-1aed-4b72-a00f-220ab9a2b3a5",
   "metadata": {},
   "outputs": [],
   "source": [
    "# df_an = df[\"AN\"].copy()\n",
    "# df_an = pd.DataFrame(df_an)"
   ]
  },
  {
   "cell_type": "code",
   "execution_count": 38,
   "id": "13d6fd1d-f20e-4d6e-a8bd-6184e340d81c",
   "metadata": {},
   "outputs": [
    {
     "name": "stdout",
     "output_type": "stream",
     "text": [
      "CPU times: total: 1min 23s\n",
      "Wall time: 1min 43s\n"
     ]
    }
   ],
   "source": [
    "%%time\n",
    "%%capture\n",
    "moves_total1: list[tuple] = [] # template for data frame\n",
    "df.apply(create_moves_total1, axis = 1)\n",
    "# 429388 rows = 1min 1s ± 1.74 s per loop (mean ± std. dev. of 7 runs, 1 loop each)"
   ]
  },
  {
   "cell_type": "code",
   "execution_count": 75,
   "id": "893701ef-fac5-4256-83b9-f379b0f4b99f",
   "metadata": {},
   "outputs": [
    {
     "data": {
      "text/plain": [
       "True"
      ]
     },
     "execution_count": 75,
     "metadata": {},
     "output_type": "execute_result"
    }
   ],
   "source": [
    "# moves_total1 == moves_total"
   ]
  },
  {
   "cell_type": "markdown",
   "id": "68e920c5-2437-40c0-9c8e-6de9fd43d621",
   "metadata": {},
   "source": [
    "#### Convert moves_total to df_moves"
   ]
  },
  {
   "cell_type": "code",
   "execution_count": 41,
   "id": "baf9f903-e400-4a72-9bcc-76300aa09325",
   "metadata": {},
   "outputs": [
    {
     "name": "stdout",
     "output_type": "stream",
     "text": [
      "CPU times: total: 12.3 s\n",
      "Wall time: 12.6 s\n"
     ]
    }
   ],
   "source": [
    "%%time\n",
    "df_moves = pd.DataFrame(moves_total1, columns=['match_id', 'move_num', 'white_move', 'black_move'])"
   ]
  },
  {
   "cell_type": "code",
   "execution_count": 42,
   "id": "ef2bade1-9f83-49bd-a731-8e9095f8d6ed",
   "metadata": {},
   "outputs": [
    {
     "data": {
      "text/html": [
       "<div>\n",
       "<style scoped>\n",
       "    .dataframe tbody tr th:only-of-type {\n",
       "        vertical-align: middle;\n",
       "    }\n",
       "\n",
       "    .dataframe tbody tr th {\n",
       "        vertical-align: top;\n",
       "    }\n",
       "\n",
       "    .dataframe thead th {\n",
       "        text-align: right;\n",
       "    }\n",
       "</style>\n",
       "<table border=\"1\" class=\"dataframe\">\n",
       "  <thead>\n",
       "    <tr style=\"text-align: right;\">\n",
       "      <th></th>\n",
       "      <th>match_id</th>\n",
       "      <th>move_num</th>\n",
       "      <th>white_move</th>\n",
       "      <th>black_move</th>\n",
       "    </tr>\n",
       "  </thead>\n",
       "  <tbody>\n",
       "    <tr>\n",
       "      <th>0</th>\n",
       "      <td>0</td>\n",
       "      <td>1</td>\n",
       "      <td>d4</td>\n",
       "      <td>d5</td>\n",
       "    </tr>\n",
       "    <tr>\n",
       "      <th>1</th>\n",
       "      <td>0</td>\n",
       "      <td>2</td>\n",
       "      <td>c4</td>\n",
       "      <td>c6</td>\n",
       "    </tr>\n",
       "    <tr>\n",
       "      <th>2</th>\n",
       "      <td>0</td>\n",
       "      <td>3</td>\n",
       "      <td>e3</td>\n",
       "      <td>a6</td>\n",
       "    </tr>\n",
       "    <tr>\n",
       "      <th>3</th>\n",
       "      <td>0</td>\n",
       "      <td>4</td>\n",
       "      <td>Nf3</td>\n",
       "      <td>e5</td>\n",
       "    </tr>\n",
       "    <tr>\n",
       "      <th>4</th>\n",
       "      <td>0</td>\n",
       "      <td>5</td>\n",
       "      <td>cxd5</td>\n",
       "      <td>e4</td>\n",
       "    </tr>\n",
       "    <tr>\n",
       "      <th>...</th>\n",
       "      <td>...</td>\n",
       "      <td>...</td>\n",
       "      <td>...</td>\n",
       "      <td>...</td>\n",
       "    </tr>\n",
       "    <tr>\n",
       "      <th>14822946</th>\n",
       "      <td>429387</td>\n",
       "      <td>43</td>\n",
       "      <td>bxc5</td>\n",
       "      <td>Kg4</td>\n",
       "    </tr>\n",
       "    <tr>\n",
       "      <th>14822947</th>\n",
       "      <td>429387</td>\n",
       "      <td>44</td>\n",
       "      <td>Be5</td>\n",
       "      <td>Kf5</td>\n",
       "    </tr>\n",
       "    <tr>\n",
       "      <th>14822948</th>\n",
       "      <td>429387</td>\n",
       "      <td>45</td>\n",
       "      <td>Bg3</td>\n",
       "      <td>Kxe6</td>\n",
       "    </tr>\n",
       "    <tr>\n",
       "      <th>14822949</th>\n",
       "      <td>429387</td>\n",
       "      <td>46</td>\n",
       "      <td>Kc3</td>\n",
       "      <td>Kd5</td>\n",
       "    </tr>\n",
       "    <tr>\n",
       "      <th>14822950</th>\n",
       "      <td>429387</td>\n",
       "      <td>47</td>\n",
       "      <td>Kb4</td>\n",
       "      <td>None</td>\n",
       "    </tr>\n",
       "  </tbody>\n",
       "</table>\n",
       "<p>14822951 rows × 4 columns</p>\n",
       "</div>"
      ],
      "text/plain": [
       "          match_id  move_num white_move black_move\n",
       "0                0         1         d4         d5\n",
       "1                0         2         c4         c6\n",
       "2                0         3         e3         a6\n",
       "3                0         4        Nf3         e5\n",
       "4                0         5       cxd5         e4\n",
       "...            ...       ...        ...        ...\n",
       "14822946    429387        43       bxc5        Kg4\n",
       "14822947    429387        44        Be5        Kf5\n",
       "14822948    429387        45        Bg3       Kxe6\n",
       "14822949    429387        46        Kc3        Kd5\n",
       "14822950    429387        47        Kb4       None\n",
       "\n",
       "[14822951 rows x 4 columns]"
      ]
     },
     "execution_count": 42,
     "metadata": {},
     "output_type": "execute_result"
    }
   ],
   "source": [
    "df_moves"
   ]
  },
  {
   "cell_type": "code",
   "execution_count": 43,
   "id": "e1d3a525-b9a2-4903-9165-3f5687f333fd",
   "metadata": {},
   "outputs": [
    {
     "name": "stdout",
     "output_type": "stream",
     "text": [
      "<class 'pandas.core.frame.DataFrame'>\n",
      "RangeIndex: 14822951 entries, 0 to 14822950\n",
      "Data columns (total 4 columns):\n",
      " #   Column      Dtype \n",
      "---  ------      ----- \n",
      " 0   match_id    int64 \n",
      " 1   move_num    int64 \n",
      " 2   white_move  object\n",
      " 3   black_move  object\n",
      "dtypes: int64(2), object(2)\n",
      "memory usage: 452.4+ MB\n"
     ]
    }
   ],
   "source": [
    "df_moves.info()"
   ]
  },
  {
   "cell_type": "markdown",
   "id": "d94260d0-046b-4053-92ab-076068594993",
   "metadata": {},
   "source": [
    "#### Drop AN column"
   ]
  },
  {
   "cell_type": "code",
   "execution_count": 238,
   "id": "7538b3a4-5e5e-452f-94f5-45a9e3fb5d59",
   "metadata": {},
   "outputs": [
    {
     "name": "stdout",
     "output_type": "stream",
     "text": [
      "<class 'pandas.core.frame.DataFrame'>\n",
      "RangeIndex: 429388 entries, 0 to 429387\n",
      "Data columns (total 6 columns):\n",
      " #   Column       Non-Null Count   Dtype         \n",
      "---  ------       --------------   -----         \n",
      " 0   Event        429388 non-null  category      \n",
      " 1   Result       429388 non-null  category      \n",
      " 2   UTCDate      429388 non-null  datetime64[ns]\n",
      " 3   Opening      429388 non-null  object        \n",
      " 4   Termination  429388 non-null  category      \n",
      " 5   Tournament   429388 non-null  bool          \n",
      "dtypes: bool(1), category(3), datetime64[ns](1), object(1)\n",
      "memory usage: 8.2+ MB\n"
     ]
    }
   ],
   "source": [
    "df = df.drop('AN', axis=1)\n",
    "df.info()"
   ]
  },
  {
   "cell_type": "markdown",
   "id": "741d1ce8-a8c1-44b0-9dd7-1bd331c11076",
   "metadata": {},
   "source": [
    "## Draft"
   ]
  },
  {
   "cell_type": "code",
   "execution_count": 125,
   "id": "5a6e33f0-304c-43a6-aa63-fe1fc3d07159",
   "metadata": {},
   "outputs": [
    {
     "data": {
      "text/plain": [
       "290"
      ]
     },
     "execution_count": 125,
     "metadata": {},
     "output_type": "execute_result"
    }
   ],
   "source": [
    "df_moves['move_num'].max()"
   ]
  },
  {
   "cell_type": "code",
   "execution_count": 129,
   "id": "a9d95fb5-bb6d-4001-80bb-d3cfc297ee72",
   "metadata": {},
   "outputs": [
    {
     "data": {
      "text/html": [
       "<div>\n",
       "<style scoped>\n",
       "    .dataframe tbody tr th:only-of-type {\n",
       "        vertical-align: middle;\n",
       "    }\n",
       "\n",
       "    .dataframe tbody tr th {\n",
       "        vertical-align: top;\n",
       "    }\n",
       "\n",
       "    .dataframe thead th {\n",
       "        text-align: right;\n",
       "    }\n",
       "</style>\n",
       "<table border=\"1\" class=\"dataframe\">\n",
       "  <thead>\n",
       "    <tr style=\"text-align: right;\">\n",
       "      <th></th>\n",
       "      <th>match_id</th>\n",
       "      <th>move_num</th>\n",
       "      <th>white_move</th>\n",
       "      <th>black_move</th>\n",
       "    </tr>\n",
       "  </thead>\n",
       "  <tbody>\n",
       "    <tr>\n",
       "      <th>13634638</th>\n",
       "      <td>0</td>\n",
       "      <td>290</td>\n",
       "      <td>Kf2</td>\n",
       "      <td>None</td>\n",
       "    </tr>\n",
       "  </tbody>\n",
       "</table>\n",
       "</div>"
      ],
      "text/plain": [
       "          match_id  move_num white_move black_move\n",
       "13634638         0       290        Kf2       None"
      ]
     },
     "execution_count": 129,
     "metadata": {},
     "output_type": "execute_result"
    }
   ],
   "source": [
    "df_moves.query('move_num >= 290')"
   ]
  },
  {
   "cell_type": "code",
   "execution_count": null,
   "id": "12931e5e-ac15-4c56-a830-88cb91fdc42e",
   "metadata": {},
   "outputs": [],
   "source": [
    "# %%time\n",
    "# for i, row in df.iterrows():\n",
    "#     df.at[i, 'Event'] = df.at[i, 'Event']"
   ]
  },
  {
   "cell_type": "code",
   "execution_count": null,
   "id": "24978206-ce54-4350-9e83-da830f4f66ae",
   "metadata": {},
   "outputs": [],
   "source": [
    "# %%time\n",
    "# for i in df.index:\n",
    "#     df['Event'].iloc[i] = df['Event'].iloc[i]"
   ]
  },
  {
   "cell_type": "code",
   "execution_count": 188,
   "id": "fa1c6889-015b-40e9-8c17-65733014324c",
   "metadata": {},
   "outputs": [
    {
     "data": {
      "text/plain": [
       "35474522"
      ]
     },
     "execution_count": 188,
     "metadata": {},
     "output_type": "execute_result"
    }
   ],
   "source": [
    "length = 0\n",
    "for row in range(len(df)):\n",
    "    length = length + len(df['AN'][row])\n",
    "length"
   ]
  },
  {
   "cell_type": "code",
   "execution_count": 125,
   "id": "997ab695-b270-4d07-8744-bee698b621a7",
   "metadata": {},
   "outputs": [],
   "source": [
    "# df_moves = pd.DataFrame({'match_id': pd.Series(dtype='int16'),\n",
    "#                          'move_num': pd.Series(dtype='int16'),\n",
    "#                          'white_move': pd.Series(dtype='str'),\n",
    "#                          'black_move': pd.Series(dtype='str')})"
   ]
  },
  {
   "cell_type": "code",
   "execution_count": null,
   "id": "cb75344f-0ba0-4e74-8976-547585a31653",
   "metadata": {},
   "outputs": [],
   "source": []
  }
 ],
 "metadata": {
  "kernelspec": {
   "display_name": "Python 3 (ipykernel)",
   "language": "python",
   "name": "python3"
  },
  "language_info": {
   "codemirror_mode": {
    "name": "ipython",
    "version": 3
   },
   "file_extension": ".py",
   "mimetype": "text/x-python",
   "name": "python",
   "nbconvert_exporter": "python",
   "pygments_lexer": "ipython3",
   "version": "3.10.9"
  }
 },
 "nbformat": 4,
 "nbformat_minor": 5
}
