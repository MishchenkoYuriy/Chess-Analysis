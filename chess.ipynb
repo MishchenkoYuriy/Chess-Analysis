{
 "cells": [
  {
   "cell_type": "code",
   "execution_count": 316,
   "id": "6a016a19-d763-451d-94ff-d7f6c2ca9100",
   "metadata": {},
   "outputs": [],
   "source": [
    "import re\n",
    "import pandas as pd\n",
    "\n",
    "pd.set_option('display.max_columns', None)"
   ]
  },
  {
   "cell_type": "code",
   "execution_count": 183,
   "id": "3a68ce7e-659e-40c5-8481-e05e74685739",
   "metadata": {},
   "outputs": [],
   "source": [
    "df = pd.read_csv('chess_games.csv', nrows=1000000,\n",
    "                usecols=['Event', 'Result', 'UTCDate', 'Opening', 'Termination', 'AN']) # chunksize=100000, index_col=''"
   ]
  },
  {
   "cell_type": "code",
   "execution_count": 184,
   "id": "2b9fa643-8e2e-4ac0-9eab-e447e00869ef",
   "metadata": {},
   "outputs": [
    {
     "data": {
      "text/html": [
       "<div>\n",
       "<style scoped>\n",
       "    .dataframe tbody tr th:only-of-type {\n",
       "        vertical-align: middle;\n",
       "    }\n",
       "\n",
       "    .dataframe tbody tr th {\n",
       "        vertical-align: top;\n",
       "    }\n",
       "\n",
       "    .dataframe thead th {\n",
       "        text-align: right;\n",
       "    }\n",
       "</style>\n",
       "<table border=\"1\" class=\"dataframe\">\n",
       "  <thead>\n",
       "    <tr style=\"text-align: right;\">\n",
       "      <th></th>\n",
       "      <th>Event</th>\n",
       "      <th>Result</th>\n",
       "      <th>UTCDate</th>\n",
       "      <th>Opening</th>\n",
       "      <th>Termination</th>\n",
       "      <th>AN</th>\n",
       "    </tr>\n",
       "  </thead>\n",
       "  <tbody>\n",
       "    <tr>\n",
       "      <th>0</th>\n",
       "      <td>Classical</td>\n",
       "      <td>1-0</td>\n",
       "      <td>2016.06.30</td>\n",
       "      <td>Slav Defense</td>\n",
       "      <td>Time forfeit</td>\n",
       "      <td>1. d4 d5 2. c4 c6 3. e3 a6 4. Nf3 e5 5. cxd5 e...</td>\n",
       "    </tr>\n",
       "    <tr>\n",
       "      <th>1</th>\n",
       "      <td>Blitz</td>\n",
       "      <td>0-1</td>\n",
       "      <td>2016.06.30</td>\n",
       "      <td>King's Pawn Opening: 2.b3</td>\n",
       "      <td>Normal</td>\n",
       "      <td>1. e4 e5 2. b3 Nf6 3. Bb2 Nc6 4. Nf3 d6 5. d3 ...</td>\n",
       "    </tr>\n",
       "    <tr>\n",
       "      <th>2</th>\n",
       "      <td>Blitz tournament</td>\n",
       "      <td>1-0</td>\n",
       "      <td>2016.06.30</td>\n",
       "      <td>Scandinavian Defense: Mieses-Kotroc Variation</td>\n",
       "      <td>Time forfeit</td>\n",
       "      <td>1. e4 d5 2. exd5 Qxd5 3. Nf3 Bg4 4. Be2 Nf6 5....</td>\n",
       "    </tr>\n",
       "  </tbody>\n",
       "</table>\n",
       "</div>"
      ],
      "text/plain": [
       "                Event Result     UTCDate  \\\n",
       "0          Classical     1-0  2016.06.30   \n",
       "1              Blitz     0-1  2016.06.30   \n",
       "2   Blitz tournament     1-0  2016.06.30   \n",
       "\n",
       "                                         Opening   Termination  \\\n",
       "0                                   Slav Defense  Time forfeit   \n",
       "1                      King's Pawn Opening: 2.b3        Normal   \n",
       "2  Scandinavian Defense: Mieses-Kotroc Variation  Time forfeit   \n",
       "\n",
       "                                                  AN  \n",
       "0  1. d4 d5 2. c4 c6 3. e3 a6 4. Nf3 e5 5. cxd5 e...  \n",
       "1  1. e4 e5 2. b3 Nf6 3. Bb2 Nc6 4. Nf3 d6 5. d3 ...  \n",
       "2  1. e4 d5 2. exd5 Qxd5 3. Nf3 Bg4 4. Be2 Nf6 5....  "
      ]
     },
     "execution_count": 184,
     "metadata": {},
     "output_type": "execute_result"
    }
   ],
   "source": [
    "df.head(3)"
   ]
  },
  {
   "cell_type": "code",
   "execution_count": 185,
   "id": "7951eec3-dce9-4987-93f5-0502c3630911",
   "metadata": {},
   "outputs": [],
   "source": [
    "filt = (df['Result'] != '*') & (df['Termination'] != 'Abandoned') & (df['Termination'] != 'Rules infraction')\n",
    "df = df[filt]"
   ]
  },
  {
   "cell_type": "code",
   "execution_count": 186,
   "id": "539c009b-475f-4f6c-b451-746d47c5e85e",
   "metadata": {},
   "outputs": [],
   "source": [
    "df['UTCDate'] = pd.to_datetime(df['UTCDate'])"
   ]
  },
  {
   "cell_type": "code",
   "execution_count": 187,
   "id": "f951271b-4bd6-4759-be4b-8e5fd9eea5b3",
   "metadata": {},
   "outputs": [],
   "source": [
    "df['Tournament'] = df['Event'].str.contains('tournament')"
   ]
  },
  {
   "cell_type": "code",
   "execution_count": 188,
   "id": "0ededdb8-e198-43f5-b5d6-399d53bbc048",
   "metadata": {},
   "outputs": [
    {
     "data": {
      "text/plain": [
       " Blitz                    374663\n",
       " Classical                241289\n",
       " Bullet                   196192\n",
       " Bullet tournament         79983\n",
       " Blitz tournament          74760\n",
       " Classical tournament      26900\n",
       " Correspondence             3816\n",
       "Classical                      4\n",
       "Blitz                          2\n",
       "Blitz tournament               1\n",
       "Bullet                         1\n",
       "Name: Event, dtype: int64"
      ]
     },
     "execution_count": 188,
     "metadata": {},
     "output_type": "execute_result"
    }
   ],
   "source": [
    "df['Event'].value_counts()"
   ]
  },
  {
   "cell_type": "code",
   "execution_count": 189,
   "id": "4665ec01-7ea7-48b3-a352-000e3469d2df",
   "metadata": {},
   "outputs": [
    {
     "data": {
      "text/plain": [
       "array([' Classical ', ' Blitz ', ' Blitz tournament ', ' Correspondence ',\n",
       "       ' Classical tournament ', ' Bullet tournament ', ' Bullet ',\n",
       "       'Blitz tournament ', 'Bullet ', 'Classical ', 'Blitz '],\n",
       "      dtype=object)"
      ]
     },
     "execution_count": 189,
     "metadata": {},
     "output_type": "execute_result"
    }
   ],
   "source": [
    "df['Event'].unique()"
   ]
  },
  {
   "cell_type": "code",
   "execution_count": 190,
   "id": "ac06dddb-3f9a-434b-bc37-bf1ca8117e87",
   "metadata": {},
   "outputs": [],
   "source": [
    "df['Event'] = df['Event'].map({' Classical ': 'Classical',\n",
    "                               ' Blitz ': 'Blitz',\n",
    "                               ' Blitz tournament ': 'Blitz',\n",
    "                               ' Correspondence ': 'Classical',\n",
    "                               ' Classical tournament ': 'Classical',\n",
    "                               ' Bullet tournament ': 'Bullet',\n",
    "                               ' Bullet ': 'Bullet',\n",
    "                               'Blitz tournament ': 'Blitz',\n",
    "                               'Bullet ': 'Bullet',\n",
    "                               'Classical ': 'Classical',\n",
    "                               'Blitz ': 'Blitz'\n",
    "                               })"
   ]
  },
  {
   "cell_type": "code",
   "execution_count": 191,
   "id": "57f021db-8a04-4ff1-8fbb-d7bfc91f1ede",
   "metadata": {},
   "outputs": [
    {
     "data": {
      "text/plain": [
       "Blitz        449426\n",
       "Bullet       276176\n",
       "Classical    272009\n",
       "Name: Event, dtype: int64"
      ]
     },
     "execution_count": 191,
     "metadata": {},
     "output_type": "execute_result"
    }
   ],
   "source": [
    "df['Event'].value_counts()"
   ]
  },
  {
   "cell_type": "code",
   "execution_count": 192,
   "id": "3aa77f91-0824-4523-96a0-c56dbe1449c5",
   "metadata": {},
   "outputs": [
    {
     "data": {
      "text/html": [
       "<div>\n",
       "<style scoped>\n",
       "    .dataframe tbody tr th:only-of-type {\n",
       "        vertical-align: middle;\n",
       "    }\n",
       "\n",
       "    .dataframe tbody tr th {\n",
       "        vertical-align: top;\n",
       "    }\n",
       "\n",
       "    .dataframe thead th {\n",
       "        text-align: right;\n",
       "    }\n",
       "</style>\n",
       "<table border=\"1\" class=\"dataframe\">\n",
       "  <thead>\n",
       "    <tr style=\"text-align: right;\">\n",
       "      <th></th>\n",
       "      <th>Event</th>\n",
       "      <th>Result</th>\n",
       "      <th>UTCDate</th>\n",
       "      <th>Opening</th>\n",
       "      <th>Termination</th>\n",
       "      <th>AN</th>\n",
       "      <th>Tournament</th>\n",
       "    </tr>\n",
       "  </thead>\n",
       "  <tbody>\n",
       "    <tr>\n",
       "      <th>0</th>\n",
       "      <td>Classical</td>\n",
       "      <td>1-0</td>\n",
       "      <td>2016-06-30</td>\n",
       "      <td>Slav Defense</td>\n",
       "      <td>Time forfeit</td>\n",
       "      <td>1. d4 d5 2. c4 c6 3. e3 a6 4. Nf3 e5 5. cxd5 e...</td>\n",
       "      <td>False</td>\n",
       "    </tr>\n",
       "    <tr>\n",
       "      <th>1</th>\n",
       "      <td>Blitz</td>\n",
       "      <td>0-1</td>\n",
       "      <td>2016-06-30</td>\n",
       "      <td>King's Pawn Opening: 2.b3</td>\n",
       "      <td>Normal</td>\n",
       "      <td>1. e4 e5 2. b3 Nf6 3. Bb2 Nc6 4. Nf3 d6 5. d3 ...</td>\n",
       "      <td>False</td>\n",
       "    </tr>\n",
       "    <tr>\n",
       "      <th>2</th>\n",
       "      <td>Blitz</td>\n",
       "      <td>1-0</td>\n",
       "      <td>2016-06-30</td>\n",
       "      <td>Scandinavian Defense: Mieses-Kotroc Variation</td>\n",
       "      <td>Time forfeit</td>\n",
       "      <td>1. e4 d5 2. exd5 Qxd5 3. Nf3 Bg4 4. Be2 Nf6 5....</td>\n",
       "      <td>True</td>\n",
       "    </tr>\n",
       "    <tr>\n",
       "      <th>3</th>\n",
       "      <td>Classical</td>\n",
       "      <td>1-0</td>\n",
       "      <td>2016-06-30</td>\n",
       "      <td>Van't Kruijs Opening</td>\n",
       "      <td>Normal</td>\n",
       "      <td>1. e3 Nf6 2. Bc4 d6 3. e4 e6 4. Nf3 Nxe4 5. Nd...</td>\n",
       "      <td>False</td>\n",
       "    </tr>\n",
       "    <tr>\n",
       "      <th>4</th>\n",
       "      <td>Blitz</td>\n",
       "      <td>0-1</td>\n",
       "      <td>2016-06-30</td>\n",
       "      <td>Sicilian Defense: Najdorf, Lipnitsky Attack</td>\n",
       "      <td>Time forfeit</td>\n",
       "      <td>1. e4 c5 2. Nf3 d6 3. d4 cxd4 4. Nxd4 Nf6 5. N...</td>\n",
       "      <td>True</td>\n",
       "    </tr>\n",
       "  </tbody>\n",
       "</table>\n",
       "</div>"
      ],
      "text/plain": [
       "       Event Result    UTCDate                                        Opening  \\\n",
       "0  Classical    1-0 2016-06-30                                   Slav Defense   \n",
       "1      Blitz    0-1 2016-06-30                      King's Pawn Opening: 2.b3   \n",
       "2      Blitz    1-0 2016-06-30  Scandinavian Defense: Mieses-Kotroc Variation   \n",
       "3  Classical    1-0 2016-06-30                           Van't Kruijs Opening   \n",
       "4      Blitz    0-1 2016-06-30    Sicilian Defense: Najdorf, Lipnitsky Attack   \n",
       "\n",
       "    Termination                                                 AN  Tournament  \n",
       "0  Time forfeit  1. d4 d5 2. c4 c6 3. e3 a6 4. Nf3 e5 5. cxd5 e...       False  \n",
       "1        Normal  1. e4 e5 2. b3 Nf6 3. Bb2 Nc6 4. Nf3 d6 5. d3 ...       False  \n",
       "2  Time forfeit  1. e4 d5 2. exd5 Qxd5 3. Nf3 Bg4 4. Be2 Nf6 5....        True  \n",
       "3        Normal  1. e3 Nf6 2. Bc4 d6 3. e4 e6 4. Nf3 Nxe4 5. Nd...       False  \n",
       "4  Time forfeit  1. e4 c5 2. Nf3 d6 3. d4 cxd4 4. Nxd4 Nf6 5. N...        True  "
      ]
     },
     "execution_count": 192,
     "metadata": {},
     "output_type": "execute_result"
    }
   ],
   "source": [
    "df.head()"
   ]
  },
  {
   "cell_type": "code",
   "execution_count": 193,
   "id": "c25c1d05-8bc4-476c-bb44-86b72a657e6e",
   "metadata": {},
   "outputs": [
    {
     "data": {
      "text/plain": [
       "Van't Kruijs Opening                                              21159\n",
       "Scandinavian Defense: Mieses-Kotroc Variation                     18487\n",
       "Modern Defense                                                    16940\n",
       "Horwitz Defense                                                   15408\n",
       "Sicilian Defense                                                  14136\n",
       "                                                                  ...  \n",
       "Queen's Indian, Averbakh Variation                                    1\n",
       "Russian Game: Modern Attack, Murrey Variation                         1\n",
       "Four Knights Game: Spanish Variation, Symmetrical Variation #2        1\n",
       "Ruy Lopez: Classical Defense: Zaitsev Variation                       1\n",
       "Vienna Game: Mieses Variation, Erben Gambit                           1\n",
       "Name: Opening, Length: 2707, dtype: int64"
      ]
     },
     "execution_count": 193,
     "metadata": {},
     "output_type": "execute_result"
    }
   ],
   "source": [
    "df['Opening'].value_counts()"
   ]
  },
  {
   "cell_type": "code",
   "execution_count": 194,
   "id": "e61e66e1-8859-4603-a644-ebaf196c2d8f",
   "metadata": {},
   "outputs": [],
   "source": [
    "df_open = df['Opening'].value_counts().rename_axis('unique_values').reset_index(name='counts')"
   ]
  },
  {
   "cell_type": "code",
   "execution_count": 195,
   "id": "388b7591-570e-42ca-893d-cb6879f33c56",
   "metadata": {},
   "outputs": [
    {
     "data": {
      "text/html": [
       "<div>\n",
       "<style scoped>\n",
       "    .dataframe tbody tr th:only-of-type {\n",
       "        vertical-align: middle;\n",
       "    }\n",
       "\n",
       "    .dataframe tbody tr th {\n",
       "        vertical-align: top;\n",
       "    }\n",
       "\n",
       "    .dataframe thead th {\n",
       "        text-align: right;\n",
       "    }\n",
       "</style>\n",
       "<table border=\"1\" class=\"dataframe\">\n",
       "  <thead>\n",
       "    <tr style=\"text-align: right;\">\n",
       "      <th></th>\n",
       "      <th>unique_values</th>\n",
       "      <th>counts</th>\n",
       "    </tr>\n",
       "  </thead>\n",
       "  <tbody>\n",
       "    <tr>\n",
       "      <th>0</th>\n",
       "      <td>Van't Kruijs Opening</td>\n",
       "      <td>21159</td>\n",
       "    </tr>\n",
       "    <tr>\n",
       "      <th>1</th>\n",
       "      <td>Scandinavian Defense: Mieses-Kotroc Variation</td>\n",
       "      <td>18487</td>\n",
       "    </tr>\n",
       "    <tr>\n",
       "      <th>2</th>\n",
       "      <td>Modern Defense</td>\n",
       "      <td>16940</td>\n",
       "    </tr>\n",
       "    <tr>\n",
       "      <th>3</th>\n",
       "      <td>Horwitz Defense</td>\n",
       "      <td>15408</td>\n",
       "    </tr>\n",
       "    <tr>\n",
       "      <th>4</th>\n",
       "      <td>Sicilian Defense</td>\n",
       "      <td>14136</td>\n",
       "    </tr>\n",
       "    <tr>\n",
       "      <th>...</th>\n",
       "      <td>...</td>\n",
       "      <td>...</td>\n",
       "    </tr>\n",
       "    <tr>\n",
       "      <th>146</th>\n",
       "      <td>Slav Defense: Three Knights Variation</td>\n",
       "      <td>1557</td>\n",
       "    </tr>\n",
       "    <tr>\n",
       "      <th>147</th>\n",
       "      <td>Ruy Lopez: Classical Variation</td>\n",
       "      <td>1544</td>\n",
       "    </tr>\n",
       "    <tr>\n",
       "      <th>148</th>\n",
       "      <td>Nimzowitsch Defense: Scandinavian Variation, A...</td>\n",
       "      <td>1526</td>\n",
       "    </tr>\n",
       "    <tr>\n",
       "      <th>149</th>\n",
       "      <td>Petrov's Defense</td>\n",
       "      <td>1519</td>\n",
       "    </tr>\n",
       "    <tr>\n",
       "      <th>150</th>\n",
       "      <td>Nimzo-Larsen Attack: Modern Variation #2</td>\n",
       "      <td>1519</td>\n",
       "    </tr>\n",
       "  </tbody>\n",
       "</table>\n",
       "<p>151 rows × 2 columns</p>\n",
       "</div>"
      ],
      "text/plain": [
       "                                         unique_values  counts\n",
       "0                                 Van't Kruijs Opening   21159\n",
       "1        Scandinavian Defense: Mieses-Kotroc Variation   18487\n",
       "2                                       Modern Defense   16940\n",
       "3                                      Horwitz Defense   15408\n",
       "4                                     Sicilian Defense   14136\n",
       "..                                                 ...     ...\n",
       "146              Slav Defense: Three Knights Variation    1557\n",
       "147                     Ruy Lopez: Classical Variation    1544\n",
       "148  Nimzowitsch Defense: Scandinavian Variation, A...    1526\n",
       "149                                   Petrov's Defense    1519\n",
       "150           Nimzo-Larsen Attack: Modern Variation #2    1519\n",
       "\n",
       "[151 rows x 2 columns]"
      ]
     },
     "execution_count": 195,
     "metadata": {},
     "output_type": "execute_result"
    }
   ],
   "source": [
    "df_open[df_open['counts']>1500]\n",
    "#df_open.head(100)"
   ]
  },
  {
   "cell_type": "code",
   "execution_count": 140,
   "id": "e6ee7549-4d11-4f50-aa69-9e2f26347775",
   "metadata": {},
   "outputs": [
    {
     "data": {
      "text/plain": [
       "(2707, 2)"
      ]
     },
     "execution_count": 140,
     "metadata": {},
     "output_type": "execute_result"
    }
   ],
   "source": [
    "# value_counts = df.stack().value_counts() # Entire DataFrame \n",
    "# to_remove = value_counts[value_counts <= 1500].index\n",
    "# df.replace(to_remove, np.nan, inplace=True)"
   ]
  },
  {
   "cell_type": "code",
   "execution_count": 208,
   "id": "af1b2ddd-f276-45a2-bfcf-41e155d4540d",
   "metadata": {},
   "outputs": [
    {
     "name": "stderr",
     "output_type": "stream",
     "text": [
      "C:\\Users\\PFIQ3000\\AppData\\Local\\Temp\\ipykernel_5420\\304048592.py:3: SettingWithCopyWarning: \n",
      "A value is trying to be set on a copy of a slice from a DataFrame\n",
      "\n",
      "See the caveats in the documentation: https://pandas.pydata.org/pandas-docs/stable/user_guide/indexing.html#returning-a-view-versus-a-copy\n",
      "  df['Opening'].loc[df['Opening'].isin(vals_to_remove)] = '111'\n"
     ]
    }
   ],
   "source": [
    "vc = df['Opening'].value_counts()\n",
    "vals_to_remove = vc[vc <= 1500].index.values\n",
    "df['Opening'].loc[df['Opening'].isin(vals_to_remove)] = '111'"
   ]
  },
  {
   "cell_type": "code",
   "execution_count": 209,
   "id": "e9be1037-b7f3-415c-8780-295eb75f7085",
   "metadata": {},
   "outputs": [],
   "source": [
    "filt = df['Opening'] != '111'\n",
    "df = df[filt]"
   ]
  },
  {
   "cell_type": "code",
   "execution_count": 365,
   "id": "7a73c2f2-ac6f-4608-81c8-19d0a7c51a05",
   "metadata": {},
   "outputs": [],
   "source": [
    "df = df.reset_index()"
   ]
  },
  {
   "cell_type": "code",
   "execution_count": 372,
   "id": "1d1e4a69-eebe-45a3-b20e-362029eee08f",
   "metadata": {},
   "outputs": [],
   "source": [
    "def get_moves_as_list(cell: int) -> list:\n",
    "    ori_list = []\n",
    "    ori_list.append(df.loc[cell, 'AN'])\n",
    "    sep_num = 2\n",
    "    while True:\n",
    "        separator = str(sep_num)+'.'\n",
    "        if separator in ori_list[-1]:\n",
    "            ori_list = ori_list[0:-1] + ori_list[-1].split(' '+separator) # concatenate all previous moves and remainder\n",
    "            ori_list[-1] = separator + ori_list[-1]\n",
    "            sep_num+=1\n",
    "        else:\n",
    "            ori_list[-1] = re.sub(' 1-0', '', ori_list[-1])\n",
    "            ori_list[-1] = re.sub(' 0-1', '', ori_list[-1])\n",
    "            ori_list[-1] = re.sub(' 1/2-1/2', '', ori_list[-1])\n",
    "    return ori_list"
   ]
  },
  {
   "cell_type": "code",
   "execution_count": 296,
   "id": "0c21e6a2-e87c-44bf-abf7-814babca4b0d",
   "metadata": {},
   "outputs": [
    {
     "data": {
      "text/plain": [
       "['1. d4 d5',\n",
       " '2. c4 c6 3. e3 a6 4. Nf3 e5 5. cxd5 e4 6. Ne5 cxd5 7. Qa4+ Bd7 8. Nxd7 Nxd7 9. Nc3 Nf6 10. Qb3 Be7 11. Nxd5 Qa5+ 12. Nc3 O-O 13. Be2 b5 14. O-O Rad8 15. Bd2 Qc7 16. Rac1 Qd6 17. Qc2 Qe6 18. Nb1 Bd6 19. a3 Nb6 20. Qc6 Nfd5 21. Ba5 Rc8 22. Qb7 Qh6 23. h3 Nc4 24. Bxc4 bxc4 25. Qxd5 Rfd8 26. Qxe4 Rd7 27. Bc3 Re7 28. Qf3 Re6 29. Nd2 Rf6 30. Qg4 Re8 31. Ne4 Rg6 32. Qd7 Rf8 33. Nxd6 Rxd6 34. Qc7 Rg6 35. Qh2 Re8 36. d5 f6 37. d6 Rd8 38. Rfd1 1-0']"
      ]
     },
     "execution_count": 296,
     "metadata": {},
     "output_type": "execute_result"
    }
   ],
   "source": [
    "for row in range(df.shape[0]):\n",
    "    if type(df.loc[row, 'AN']) == str:\n",
    "        df.loc[row, 'AN'] = get_moves_as_list(row)\n",
    "    else:\n",
    "        print(f'Value is a {type(df.loc[0, 'AN'])}')"
   ]
  },
  {
   "cell_type": "code",
   "execution_count": 369,
   "id": "511ce85b-24d1-4572-9300-9bec019dd9d8",
   "metadata": {},
   "outputs": [
    {
     "name": "stdout",
     "output_type": "stream",
     "text": [
      "Hi\n",
      "1. Nf3 Nc6 2. e4 e5 3. Bb5 d6 4. O-O Bd7 5. Nc3 Nf6 6. b3 a6 7. Be2 Qe7 8. Bb2 O-O-O 9. d4 exd4 10. Nxd4 Nxe4 11. Nxc6 Bxc6 12. Nxe4 Bxe4 13. Re1 Re8 14. Bg4+ Kb8 15. f3 h5 16. Rxe4 Qxe4 17. fxe4 hxg4 18. Qxg4 g6 19. Rf1 Rh7 20. Bf6 Re6 21. e5 dxe5 22. Rd1 Bc5+ 23. Kh1 Rxf6 24. Rd8+ Ka7 25. b4 Rf1# 0-1\n",
      "Hi\n",
      "1. e4 e5 0-1\n"
     ]
    }
   ],
   "source": [
    "for row in range(df.shape[0]):\n",
    "    if type(df.loc[row, 'AN']):\n",
    "        print(df.loc[row, 'AN'])"
   ]
  },
  {
   "cell_type": "code",
   "execution_count": 378,
   "id": "0adc0025-ba40-46f4-9197-dbc2da161001",
   "metadata": {},
   "outputs": [
    {
     "data": {
      "text/plain": [
       "<Axes: >"
      ]
     },
     "execution_count": 378,
     "metadata": {},
     "output_type": "execute_result"
    },
    {
     "data": {
      "image/png": "[encoded data removed]",
      "text/plain": [
       "<Figure size 640x480 with 1 Axes>"
      ]
     },
     "metadata": {},
     "output_type": "display_data"
    }
   ],
   "source": [
    "df[\"AN\"].str.len().hist()"
   ]
  },
  {
   "cell_type": "code",
   "execution_count": 383,
   "id": "696e9e8f-38cb-4d79-979f-833a5d57330e",
   "metadata": {},
   "outputs": [
    {
     "data": {
      "text/plain": [
       "'1. e4 { [%eval 0.26] } 1... c5 { [%eval 0.29] } 2. Nf3 { [%eval 0.29] } 2... Nc6 { [%eval 0.43] } 3. Bb5 { [%eval 0.34] } 3... e6 { [%eval 0.31] } 4. O-O { [%eval 0.35] } 4... Be7 { [%eval 0.32] } 5. d4 { [%eval 0.12] } 5... cxd4 { [%eval 0.16] } 6. Nxd4 { [%eval 0.08] } 6... Nf6 { [%eval 0.14] } 7. Nc3 { [%eval 0.09] } 7... O-O { [%eval 0.06] } 8. Be2 { [%eval -0.03] } 8... d5 { [%eval 0.17] } 9. exd5 { [%eval 0.15] } 9... exd5 { [%eval 0.1] } 10. Be3 { [%eval 0.12] } 10... a6 { [%eval 0.1] } 11. Re1 { [%eval 0.1] } 11... Qc7 { [%eval 0.32] } 12. h3 { [%eval 0.07] } 12... Rd8 { [%eval 0.31] } 13. a3 { [%eval 0.04] } 13... Ne5 { [%eval 0.41] } 14. Bf4 { [%eval 0.41] } 14... Bd6 { [%eval 0.47] } 15. Bg3 { [%eval 0.18] } 15... Nc4 { [%eval 0.51] } 16. Bxd6 { [%eval 0.09] } 16... Rxd6 { [%eval 0.14] } 17. Ndb5?! { [%eval -0.6] } 17... axb5 { [%eval -0.6] } 18. Nxb5 { [%eval -0.58] } 18... Qd7 { [%eval -0.77] } 19. Bxc4 { [%eval -0.76] } 19... Rb6 { [%eval -0.73] } 20. Qd4 { [%eval -0.73] } 20... Rxb5 { [%eval -0.74] } 21. Bxb5 { [%eval -0.67] } 21... Qxb5 { [%eval -0.76] } 22. Re7 { [%eval -0.84] } 22... Be6 { [%eval -0.7] } 23. a4 { [%eval -1.0] } 23... Qc6 { [%eval -1.0] } 24. c3?! { [%eval -1.79] } 24... Rb8? { [%eval -0.74] } 25. Qb4?! { [%eval -1.44] } 25... h6?! { [%eval -0.74] } 26. a5 { [%eval -0.79] } 26... Qc8 { [%eval -0.77] } 27. f3?! { [%eval -1.54] } 27... Nh5? { [%eval 0.0] } 28. Qd6 { [%eval 0.0] } 28... Qf8 { [%eval 0.0] } 29. Ra4?! { [%eval -0.62] } 29... Kh7?! { [%eval 0.0] } 30. Rb4 { [%eval 0.0] } 30... Rd8 { [%eval 0.23] } 31. Qc7 { [%eval 0.2] } 31... Nf6 { [%eval 0.31] } 32. Rxb7 { [%eval 0.37] } 32... d4 { [%eval 0.42] } 33. Rxe6 { [%eval 0.07] } 33... fxe6 { [%eval 0.0] } 34. cxd4 { [%eval 0.0] } 34... Rxd4 { [%eval 0.11] } 35. a6 { [%eval 0.09] } 35... Nd5?! { [%eval 0.94] } 36. Qf7? { [%eval -0.43] } 36... Rd1+ { [%eval -0.21] } 37. Kh2 { [%eval -0.14] } 37... Qxf7 { [%eval -0.29] } 38. Rxf7 { [%eval -0.34] } 38... Ra1 { [%eval -0.07] } 39. a7 { [%eval -0.07] } 39... Nb4 { [%eval -0.1] } 40. Rc7 { [%eval -0.34] } 40... Nd3 { [%eval 0.0] } 41. b3 { [%eval -0.06] } 41... Nb4 { [%eval 0.0] } 42. h4 { [%eval 0.0] } 42... Nd5 { [%eval 0.14] } 43. Rb7 { [%eval 0.14] } 43... Ra2 { [%eval 0.48] } 44. Kg1 { [%eval 0.1] } 44... Kg6 { [%eval 0.02] } 45. g3 { [%eval -0.47] } 45... Kf6 { [%eval 0.0] } 46. h5? { [%eval -1.26] } 46... Nc3?! { [%eval -0.62] } 47. b4 { [%eval -0.54] } 47... Ne2+ { [%eval -0.54] } 48. Kf2?! { [%eval -1.51] } 48... Nf4+? { [%eval 0.19] } 49. Ke3 { [%eval 0.19] } 49... Nxh5? { [%eval 1.47] } 50. b5?! { [%eval 0.68] } 50... Nxg3? { [%eval 1.75] } 51. b6 { [%eval 1.75] } 51... Nf5+ { [%eval 1.73] } 52. Kd3 { [%eval 1.73] } 52... Ra3+?! { [%eval 2.65] } 53. Kd2? { [%eval 0.26] } 53... Nd6?! { [%eval 0.86] } 54. Rb8?? { [%eval -2.39] } 54... Nc4+ { [%eval -2.39] } 55. Ke2 { [%eval -2.39] } 55... Nxb6 { [%eval -2.39] } 56. Rxb6 { [%eval -2.32] } 56... Rxa7 { [%eval -2.32] } 57. Kf2 { [%eval -2.39] } 57... Re7 { [%eval -2.32] } 58. Kg3 { [%eval -2.32] } 58... g6 { [%eval -2.32] } 59. f4 { [%eval -2.32] } 59... Kf5 { [%eval -2.29] } 60. Rb5+ { [%eval -2.51] } 60... e5 { [%eval -2.5] } 61. Ra5 { [%eval -2.43] } 61... g5 { [%eval -2.43] } 62. fxg5 { [%eval -2.34] } 62... hxg5 { [%eval -2.28] } 63. Ra8?! { [%eval -2.8] } 63... Re6?! { [%eval -2.13] } 64. Rf8+ { [%eval -2.13] } 64... Rf6 { [%eval -2.05] } 65. Ra8 { [%eval -1.98] } 65... Ke4?! { [%eval -1.02] } 66. Ra4+?! { [%eval -1.98] } 66... Kf5 { [%eval -1.91] } 67. Ra8 { [%eval -1.98] } 67... e4 { [%eval -1.98] } 68. Ra5+ { [%eval -1.98] } 68... Kg6 { [%eval -1.98] } 69. Re5 { [%eval -2.43] } 69... Rf4 { [%eval -1.98] } 70. Re8? { [%eval -3.04] } 70... Kf5 { [%eval -3.1] } 71. Rf8+ { [%eval -3.03] } 71... Ke5 { [%eval -3.03] } 72. Re8+ { [%eval -3.03] } 72... Kd4 { [%eval -2.94] } 73. Rd8+ { [%eval -2.65] } 73... Ke3?! { [%eval -1.98] } 74. Ra8 { [%eval -1.98] } 74... Kd4 { [%eval -1.98] } 75. Ra4+ { [%eval -1.98] } 75... Ke5 { [%eval -1.98] } 76. Ra5+ { [%eval -1.98] } 76... Kf6 { [%eval -1.98] } 77. Ra6+ { [%eval -1.98] } 77... Kg7 { [%eval -1.98] } 78. Re6?! { [%eval -2.65] } 78... Kf7 { [%eval -2.65] } 79. Re5 { [%eval -2.65] } 79... Kf6 { [%eval -2.66] } 80. Re8 { [%eval -2.65] } 80... Rf5? { [%eval -0.07] } 81. Rxe4 { [%eval -0.07] } 81... Kg6 { [%eval -0.07] } 82. Re8 { [%eval -0.07] } 82... Rf7 { [%eval -0.07] } 83. Rg8+ { [%eval -0.07] } 83... Kf5 { [%eval -0.07] } 84. Ra8 { [%eval -0.07] } 84... Re7 { [%eval -0.07] } 85. Ra5+ { [%eval -0.07] } 85... Kg6 { [%eval -0.07] } 86. Ra6+ { [%eval -0.07] } 86... Kh5 { [%eval -0.07] } 87. Ra5 { [%eval -0.46] } 87... Re3+ { [%eval -0.46] } 88. Kf2 { [%eval -0.46] } 88... Rh3 { [%eval -0.46] } 89. Kg2 { [%eval -0.43] } 89... Rh4 { [%eval -0.07] } 90. Ra8 { [%eval -0.07] } 90... Rf4 { [%eval -0.07] } 91. Kg3 { [%eval -0.07] } 91... Rg4+ { [%eval -0.07] } 92. Kh3 { [%eval -0.07] } 92... Rh4+ { [%eval -0.07] } 93. Kg3 { [%eval -0.07] } 93... Kg6 { [%eval -0.07] } 94. Rg8+ { [%eval -0.07] } 94... Kf5 { [%eval -0.07] } 95. Rf8+ { [%eval -0.07] } 95... Ke5 { [%eval -0.07] } 96. Re8+ { [%eval -0.07] } 96... Kf6 { [%eval -0.07] } 97. Rf8+ { [%eval -0.07] } 97... Kg7 { [%eval -0.07] } 98. Rf5 { [%eval -0.07] } 98... Kg6 { [%eval -0.07] } 99. Ra5 { [%eval -0.07] } 99... Rb4 { [%eval -0.07] } 100. Ra8 { [%eval -0.07] } 100... Rb3+ { [%eval -0.07] } 101. Kg4 Rb4+ 102. Kg3 Rb6 103. Kg4 Rb1 104. Ra6+ Kf7 105. Kxg5 Rb5+ 106. Kf4 Ke7 107. Ke4 Kd7 108. Kd4 Kc7 109. Kc4 Rh5 110. Rg6 Rh4+ 111. Kd5 Rh5+ 112. Ke6 Ra5 113. Rg1 Ra6+ 114. Ke7 Ra2 115. Rc1+ Kb6 116. Kd6 Rd2+ 117. Ke5 Kb5 118. Ke4 Rd8 119. Rb1+ Kc4 120. Rc1+ Kb3 121. Rc6 Kb4 122. Rc7 Rd1 123. Rc8 Re1+ 124. Kd3 Rd1+ 125. Kc2 Rd7 126. Rh8 Rd4 127. Rh5 Rg4 128. Rh8 Kc4 129. Rc8+ Kd4 130. Rd8+ Kc4 131. Rc8+ Kb4 132. Rb8+ Kc5 133. Kd3 Kc6 134. Rh8 Ra4 135. Rh6+ Kd5 136. Rh5+ Ke6 137. Rb5 Ra3+ 138. Kd4 Ra4+ 139. Kc5 Rh4 140. Rb1 Rh5+ 141. Kc6 Rh2 142. Re1+ Kf5 143. Rf1+ Ke4 144. Re1+ Kf3 145. Re8 Rc2+ 146. Kd6 Rd2+ 147. Ke6 Re2+ 148. Kf7 Ra2 149. Kf6 Kf4 150. Re6 Ra5 151. Rb6 Rf5+ 152. Kg6 Rg5+ 153. Kh6 Rg1 154. Rb4+ Kf5 155. Rb5+ 1/2-1/2'"
      ]
     },
     "execution_count": 383,
     "metadata": {},
     "output_type": "execute_result"
    }
   ],
   "source": [
    "filt = df[\"AN\"].str.len() == 6119\n",
    "df.loc[52412, 'AN']"
   ]
  },
  {
   "cell_type": "code",
   "execution_count": null,
   "id": "0941d38a-e595-4767-a87e-0e2fdd60bf5b",
   "metadata": {},
   "outputs": [],
   "source": []
  }
 ],
 "metadata": {
  "kernelspec": {
   "display_name": "Python 3 (ipykernel)",
   "language": "python",
   "name": "python3"
  },
  "language_info": {
   "codemirror_mode": {
    "name": "ipython",
    "version": 3
   },
   "file_extension": ".py",
   "mimetype": "text/x-python",
   "name": "python",
   "nbconvert_exporter": "python",
   "pygments_lexer": "ipython3",
   "version": "3.10.9"
  }
 },
 "nbformat": 4,
 "nbformat_minor": 5
}
