{
 "cells": [
  {
   "cell_type": "code",
   "execution_count": 1,
   "id": "6a016a19-d763-451d-94ff-d7f6c2ca9100",
   "metadata": {},
   "outputs": [],
   "source": [
    "import re\n",
    "import numpy as np\n",
    "import pandas as pd\n",
    "\n",
    "pd.set_option('display.max_columns', None)"
   ]
  },
  {
   "cell_type": "markdown",
   "id": "1c347be5-0b0a-4cba-b2f6-c1ec90a2b2e1",
   "metadata": {
    "jp-MarkdownHeadingCollapsed": true,
    "tags": []
   },
   "source": [
    "# Extracting data"
   ]
  },
  {
   "cell_type": "code",
   "execution_count": 2,
   "id": "3a68ce7e-659e-40c5-8481-e05e74685739",
   "metadata": {},
   "outputs": [
    {
     "name": "stdout",
     "output_type": "stream",
     "text": [
      "500000 rows was extracted\n",
      "CPU times: total: 4.44 s\n",
      "Wall time: 4.55 s\n"
     ]
    }
   ],
   "source": [
    "%%time\n",
    "df = pd.read_csv('chess_games.csv', nrows=500000,\n",
    "                usecols=['Event', 'Result', 'UTCDate', 'Opening', 'Termination', 'AN']) # chunksize=100000, index_col=''\n",
    "print(f\"{len(df)} rows was extracted\")"
   ]
  },
  {
   "cell_type": "code",
   "execution_count": 3,
   "id": "2b9fa643-8e2e-4ac0-9eab-e447e00869ef",
   "metadata": {},
   "outputs": [
    {
     "data": {
      "text/html": [
       "<div>\n",
       "<style scoped>\n",
       "    .dataframe tbody tr th:only-of-type {\n",
       "        vertical-align: middle;\n",
       "    }\n",
       "\n",
       "    .dataframe tbody tr th {\n",
       "        vertical-align: top;\n",
       "    }\n",
       "\n",
       "    .dataframe thead th {\n",
       "        text-align: right;\n",
       "    }\n",
       "</style>\n",
       "<table border=\"1\" class=\"dataframe\">\n",
       "  <thead>\n",
       "    <tr style=\"text-align: right;\">\n",
       "      <th></th>\n",
       "      <th>Event</th>\n",
       "      <th>Result</th>\n",
       "      <th>UTCDate</th>\n",
       "      <th>Opening</th>\n",
       "      <th>Termination</th>\n",
       "      <th>AN</th>\n",
       "    </tr>\n",
       "  </thead>\n",
       "  <tbody>\n",
       "    <tr>\n",
       "      <th>0</th>\n",
       "      <td>Classical</td>\n",
       "      <td>1-0</td>\n",
       "      <td>2016.06.30</td>\n",
       "      <td>Slav Defense</td>\n",
       "      <td>Time forfeit</td>\n",
       "      <td>1. d4 d5 2. c4 c6 3. e3 a6 4. Nf3 e5 5. cxd5 e...</td>\n",
       "    </tr>\n",
       "    <tr>\n",
       "      <th>1</th>\n",
       "      <td>Blitz</td>\n",
       "      <td>0-1</td>\n",
       "      <td>2016.06.30</td>\n",
       "      <td>King's Pawn Opening: 2.b3</td>\n",
       "      <td>Normal</td>\n",
       "      <td>1. e4 e5 2. b3 Nf6 3. Bb2 Nc6 4. Nf3 d6 5. d3 ...</td>\n",
       "    </tr>\n",
       "    <tr>\n",
       "      <th>2</th>\n",
       "      <td>Blitz tournament</td>\n",
       "      <td>1-0</td>\n",
       "      <td>2016.06.30</td>\n",
       "      <td>Scandinavian Defense: Mieses-Kotroc Variation</td>\n",
       "      <td>Time forfeit</td>\n",
       "      <td>1. e4 d5 2. exd5 Qxd5 3. Nf3 Bg4 4. Be2 Nf6 5....</td>\n",
       "    </tr>\n",
       "  </tbody>\n",
       "</table>\n",
       "</div>"
      ],
      "text/plain": [
       "                Event Result     UTCDate  \\\n",
       "0          Classical     1-0  2016.06.30   \n",
       "1              Blitz     0-1  2016.06.30   \n",
       "2   Blitz tournament     1-0  2016.06.30   \n",
       "\n",
       "                                         Opening   Termination  \\\n",
       "0                                   Slav Defense  Time forfeit   \n",
       "1                      King's Pawn Opening: 2.b3        Normal   \n",
       "2  Scandinavian Defense: Mieses-Kotroc Variation  Time forfeit   \n",
       "\n",
       "                                                  AN  \n",
       "0  1. d4 d5 2. c4 c6 3. e3 a6 4. Nf3 e5 5. cxd5 e...  \n",
       "1  1. e4 e5 2. b3 Nf6 3. Bb2 Nc6 4. Nf3 d6 5. d3 ...  \n",
       "2  1. e4 d5 2. exd5 Qxd5 3. Nf3 Bg4 4. Be2 Nf6 5....  "
      ]
     },
     "execution_count": 3,
     "metadata": {},
     "output_type": "execute_result"
    }
   ],
   "source": [
    "df.head(3)"
   ]
  },
  {
   "cell_type": "markdown",
   "id": "b10aa184-d4fd-458c-b282-9b2979ceef1b",
   "metadata": {
    "tags": []
   },
   "source": [
    "# Transforming data"
   ]
  },
  {
   "cell_type": "markdown",
   "id": "60bcbb56-a743-48b0-bfa1-8c106f1875db",
   "metadata": {
    "tags": []
   },
   "source": [
    "## Filter dataframe"
   ]
  },
  {
   "cell_type": "markdown",
   "id": "7990bafa-f482-40d3-a7fa-b09bb619f622",
   "metadata": {},
   "source": [
    "### Get rid of ambiguous match results and matches that was abandoned or have rules infractions"
   ]
  },
  {
   "cell_type": "code",
   "execution_count": 4,
   "id": "7951eec3-dce9-4987-93f5-0502c3630911",
   "metadata": {},
   "outputs": [
    {
     "name": "stdout",
     "output_type": "stream",
     "text": [
      "1057 rows was removed\n",
      "498943 rows left\n"
     ]
    }
   ],
   "source": [
    "filt = (df['Result'] != '*') & (df['Termination'] != 'Abandoned') & (df['Termination'] != 'Rules infraction')\n",
    "print(f\"{len(df)-len(df[filt])} rows was removed\")\n",
    "df = df[filt]\n",
    "print(f\"{len(df)} rows left\")"
   ]
  },
  {
   "cell_type": "markdown",
   "id": "684dc4ff-1172-411f-b5a2-7df2bec14b1e",
   "metadata": {},
   "source": [
    "### Remove short matches (~less than 10 moves)"
   ]
  },
  {
   "cell_type": "code",
   "execution_count": 5,
   "id": "59ff7d59-5b32-4f47-bd34-51c32ce7da52",
   "metadata": {},
   "outputs": [
    {
     "name": "stdout",
     "output_type": "stream",
     "text": [
      "5689 rows was removed\n",
      "493254 rows left\n"
     ]
    }
   ],
   "source": [
    "filt = df[\"AN\"].apply(len) > 50\n",
    "print(f\"{len(df)-len(df[filt])} rows was removed\")\n",
    "df = df[filt]\n",
    "print(f\"{len(df)} rows left\")"
   ]
  },
  {
   "cell_type": "markdown",
   "id": "bb845c90-b9cb-4f8f-8995-74d648744813",
   "metadata": {
    "tags": []
   },
   "source": [
    "### Get rid of unstructured string values in \"AN\" column"
   ]
  },
  {
   "cell_type": "code",
   "execution_count": 6,
   "id": "148f5d5a-0b1e-45b7-97ed-6708b7c59d48",
   "metadata": {},
   "outputs": [
    {
     "name": "stdout",
     "output_type": "stream",
     "text": [
      "63866 rows was removed\n",
      "429388 rows left\n"
     ]
    }
   ],
   "source": [
    "filt = ~df['AN'].str.contains('\\[%eval')\n",
    "print(f\"{len(df)-len(df[filt])} rows was removed\")\n",
    "df = df[filt]\n",
    "print(f\"{len(df)} rows left\")"
   ]
  },
  {
   "cell_type": "markdown",
   "id": "51fb0d0e-d74f-4b02-a84e-b2efa37589bc",
   "metadata": {
    "tags": []
   },
   "source": [
    "### Remove unpopular openings (less than 1500 matches)"
   ]
  },
  {
   "cell_type": "code",
   "execution_count": 86,
   "id": "e6ee7549-4d11-4f50-aa69-9e2f26347775",
   "metadata": {},
   "outputs": [],
   "source": [
    "# value_counts = df.stack().value_counts() # Entire DataFrame \n",
    "# to_remove = value_counts[value_counts <= 1500].index\n",
    "# df.replace(to_remove, np.nan, inplace=True)"
   ]
  },
  {
   "cell_type": "code",
   "execution_count": 87,
   "id": "af1b2ddd-f276-45a2-bfcf-41e155d4540d",
   "metadata": {},
   "outputs": [
    {
     "name": "stdout",
     "output_type": "stream",
     "text": [
      "255831 rows was removed\n",
      "173557 rows left\n"
     ]
    }
   ],
   "source": [
    "vc = df['Opening'].value_counts()\n",
    "vals_to_remove = vc[vc < 1500].index.values\n",
    "df['Opening'].loc[df['Opening'].isin(vals_to_remove)] = '111'\n",
    "filt = df['Opening'] != '111'\n",
    "print(f\"{len(df)-len(df[filt])} rows was removed\")\n",
    "df = df[filt]\n",
    "print(f\"{len(df)} rows left\")"
   ]
  },
  {
   "cell_type": "markdown",
   "id": "ecc9eeab-d8af-4901-b80b-920aeefcb9c5",
   "metadata": {
    "tags": []
   },
   "source": [
    "## Expand and rearrange main dataframe"
   ]
  },
  {
   "cell_type": "markdown",
   "id": "99614a67-2353-48b5-9e8d-94b3e6f392ce",
   "metadata": {},
   "source": [
    "### Reset index"
   ]
  },
  {
   "cell_type": "code",
   "execution_count": 7,
   "id": "7a73c2f2-ac6f-4608-81c8-19d0a7c51a05",
   "metadata": {},
   "outputs": [],
   "source": [
    "df = df.reset_index(drop=True)"
   ]
  },
  {
   "cell_type": "markdown",
   "id": "b3f312c3-698a-4e9d-870a-780ef2d842c0",
   "metadata": {},
   "source": [
    "### Add Tournament column"
   ]
  },
  {
   "cell_type": "code",
   "execution_count": 8,
   "id": "f951271b-4bd6-4759-be4b-8e5fd9eea5b3",
   "metadata": {},
   "outputs": [],
   "source": [
    "df['Tournament'] = df['Event'].str.contains('tournament')"
   ]
  },
  {
   "cell_type": "markdown",
   "id": "83fbda1b-9120-414c-8abf-ba4db51b354c",
   "metadata": {},
   "source": [
    "### Rearrange column \"Event\""
   ]
  },
  {
   "cell_type": "code",
   "execution_count": 9,
   "id": "ac06dddb-3f9a-434b-bc37-bf1ca8117e87",
   "metadata": {},
   "outputs": [],
   "source": [
    "df['Event'] = df['Event'].map({' Classical ': 'Classical',\n",
    "                               ' Blitz ': 'Blitz',\n",
    "                               ' Blitz tournament ': 'Blitz',\n",
    "                               ' Correspondence ': 'Classical',\n",
    "                               ' Classical tournament ': 'Classical',\n",
    "                               ' Bullet tournament ': 'Bullet',\n",
    "                               ' Bullet ': 'Bullet',\n",
    "                               'Blitz tournament ': 'Blitz',\n",
    "                               'Bullet ': 'Bullet',\n",
    "                               'Classical ': 'Classical',\n",
    "                               'Blitz ': 'Blitz'\n",
    "                               })"
   ]
  },
  {
   "cell_type": "markdown",
   "id": "e33de9c5-16d0-4c67-bb52-f0a99df72c58",
   "metadata": {},
   "source": [
    "### Change columns datatype"
   ]
  },
  {
   "cell_type": "code",
   "execution_count": 10,
   "id": "539c009b-475f-4f6c-b451-746d47c5e85e",
   "metadata": {},
   "outputs": [],
   "source": [
    "df['Event'] = df['Event'].astype('category')\n",
    "df['Result'] = df['Result'].astype('category')\n",
    "df['Termination'] = df['Termination'].astype('category')\n",
    "df['UTCDate'] = pd.to_datetime(df['UTCDate'])"
   ]
  },
  {
   "cell_type": "code",
   "execution_count": 11,
   "id": "3aa77f91-0824-4523-96a0-c56dbe1449c5",
   "metadata": {},
   "outputs": [
    {
     "name": "stdout",
     "output_type": "stream",
     "text": [
      "<class 'pandas.core.frame.DataFrame'>\n",
      "RangeIndex: 429388 entries, 0 to 429387\n",
      "Data columns (total 7 columns):\n",
      " #   Column       Non-Null Count   Dtype         \n",
      "---  ------       --------------   -----         \n",
      " 0   Event        429388 non-null  category      \n",
      " 1   Result       429388 non-null  category      \n",
      " 2   UTCDate      429388 non-null  datetime64[ns]\n",
      " 3   Opening      429388 non-null  object        \n",
      " 4   Termination  429388 non-null  category      \n",
      " 5   AN           429388 non-null  object        \n",
      " 6   Tournament   429388 non-null  bool          \n",
      "dtypes: bool(1), category(3), datetime64[ns](1), object(2)\n",
      "memory usage: 11.5+ MB\n"
     ]
    }
   ],
   "source": [
    "df.info()"
   ]
  },
  {
   "cell_type": "markdown",
   "id": "1e008da0-1fcc-49f9-a25d-80b18e5d3eca",
   "metadata": {
    "tags": []
   },
   "source": [
    "## Create moves dataframe"
   ]
  },
  {
   "cell_type": "markdown",
   "id": "e88743ff-276a-4c6b-9f1e-8a1be159ebed",
   "metadata": {
    "tags": []
   },
   "source": [
    "### Create moves_total from AN column"
   ]
  },
  {
   "cell_type": "code",
   "execution_count": 12,
   "id": "0b42dc3e-dfc5-43ad-93c5-2bfd812e83c7",
   "metadata": {},
   "outputs": [],
   "source": [
    "def delete_result_from_an(move: str) -> str:\n",
    "    '''Delete result mark in the last move.'''\n",
    "    move = re.sub(' 1-0',     '', move)\n",
    "    move = re.sub(' 0-1',     '', move)\n",
    "    move = re.sub(' 1/2-1/2', '', move)\n",
    "    move = re.sub(' \\*',      '', move)\n",
    "    return move"
   ]
  },
  {
   "cell_type": "code",
   "execution_count": 13,
   "id": "7ad222d6-7cfe-4801-a5d5-77f850e7dec7",
   "metadata": {},
   "outputs": [],
   "source": [
    "def populate_moves_total(s: str, ind: int) -> None:\n",
    "    '''\n",
    "    Split each move (string) into a tuple.\n",
    "    Tuple format: (match_id, move_num, player, move)\n",
    "    Match_id is foreign key of the main dataframe (index column).\n",
    "    Player is categorical column with values 'white' or 'black'.\n",
    "    '''\n",
    "    player_cnt = 0\n",
    "    moves_list = s.split(' ')\n",
    "    for i, move in enumerate(moves_list, start=1):\n",
    "        player = 'black' if i % 2 == 0 else 'white'\n",
    "        tuple_move = tuple([ind] + [i] + [player] + [move])\n",
    "        moves_total.append(tuple_move)"
   ]
  },
  {
   "cell_type": "code",
   "execution_count": 14,
   "id": "e568d13f-193b-4d31-9c78-2fe1ac8edd88",
   "metadata": {},
   "outputs": [],
   "source": [
    "def create_moves_total(row) -> None:\n",
    "    s = row[\"AN\"]\n",
    "    sep_num = 1\n",
    "    while True:\n",
    "        if str(sep_num)+'. ' in s:\n",
    "            s = re.sub(str(sep_num)+'\\. ', '', s, 1) # replace the first occurrence\n",
    "            sep_num+=1\n",
    "        else:\n",
    "            s = delete_result_from_an(s)\n",
    "            break\n",
    "\n",
    "    populate_moves_total(s, row.name)"
   ]
  },
  {
   "cell_type": "code",
   "execution_count": 15,
   "id": "1e8f5688-6848-4c50-b5de-c87ca19b08b4",
   "metadata": {},
   "outputs": [
    {
     "name": "stdout",
     "output_type": "stream",
     "text": [
      "CPU times: total: 1min 22s\n",
      "Wall time: 1min 32s\n"
     ]
    }
   ],
   "source": [
    "%%time\n",
    "%%capture\n",
    "moves_total: list[tuple] = [] # template for data frame\n",
    "df.apply(create_moves_total, axis = 1)"
   ]
  },
  {
   "cell_type": "code",
   "execution_count": 16,
   "id": "87fae4d0-aa20-4f6b-a083-8c01630c3724",
   "metadata": {},
   "outputs": [
    {
     "data": {
      "text/plain": [
       "29424621"
      ]
     },
     "execution_count": 16,
     "metadata": {},
     "output_type": "execute_result"
    }
   ],
   "source": [
    "len(moves_total)"
   ]
  },
  {
   "cell_type": "markdown",
   "id": "68e920c5-2437-40c0-9c8e-6de9fd43d621",
   "metadata": {
    "tags": []
   },
   "source": [
    "### Convert moves_total to df_moves"
   ]
  },
  {
   "cell_type": "code",
   "execution_count": 17,
   "id": "c785b163-ea7b-425b-98fa-9c7c68b9a502",
   "metadata": {},
   "outputs": [
    {
     "name": "stdout",
     "output_type": "stream",
     "text": [
      "CPU times: total: 43.5 s\n",
      "Wall time: 1min 53s\n"
     ]
    }
   ],
   "source": [
    "%%time\n",
    "df_moves = pd.DataFrame(moves_total, columns=['match_id', 'move_num', 'player', 'move'])"
   ]
  },
  {
   "cell_type": "code",
   "execution_count": 18,
   "id": "36d4c79a-accb-445f-9bdd-87a6c9043ffd",
   "metadata": {},
   "outputs": [
    {
     "name": "stdout",
     "output_type": "stream",
     "text": [
      "<class 'pandas.core.frame.DataFrame'>\n",
      "RangeIndex: 29424621 entries, 0 to 29424620\n",
      "Data columns (total 4 columns):\n",
      " #   Column    Dtype \n",
      "---  ------    ----- \n",
      " 0   match_id  int64 \n",
      " 1   move_num  int64 \n",
      " 2   player    object\n",
      " 3   move      object\n",
      "dtypes: int64(2), object(2)\n",
      "memory usage: 898.0+ MB\n"
     ]
    }
   ],
   "source": [
    "df_moves.info()"
   ]
  },
  {
   "cell_type": "code",
   "execution_count": 19,
   "id": "245e1843-332a-475b-a022-27f0e8a0a930",
   "metadata": {},
   "outputs": [
    {
     "name": "stdout",
     "output_type": "stream",
     "text": [
      "<class 'pandas.core.frame.DataFrame'>\n",
      "RangeIndex: 29424621 entries, 0 to 29424620\n",
      "Data columns (total 4 columns):\n",
      " #   Column    Dtype   \n",
      "---  ------    -----   \n",
      " 0   match_id  int64   \n",
      " 1   move_num  int64   \n",
      " 2   player    category\n",
      " 3   move      object  \n",
      "dtypes: category(1), int64(2), object(1)\n",
      "memory usage: 701.5+ MB\n"
     ]
    }
   ],
   "source": [
    "df_moves['player'] = df_moves['player'].astype('category')\n",
    "df_moves.info()"
   ]
  },
  {
   "cell_type": "markdown",
   "id": "d94260d0-046b-4053-92ab-076068594993",
   "metadata": {
    "tags": []
   },
   "source": [
    "### Drop AN column in main dataframe"
   ]
  },
  {
   "cell_type": "code",
   "execution_count": 20,
   "id": "7538b3a4-5e5e-452f-94f5-45a9e3fb5d59",
   "metadata": {},
   "outputs": [
    {
     "name": "stdout",
     "output_type": "stream",
     "text": [
      "<class 'pandas.core.frame.DataFrame'>\n",
      "RangeIndex: 429388 entries, 0 to 429387\n",
      "Data columns (total 6 columns):\n",
      " #   Column       Non-Null Count   Dtype         \n",
      "---  ------       --------------   -----         \n",
      " 0   Event        429388 non-null  category      \n",
      " 1   Result       429388 non-null  category      \n",
      " 2   UTCDate      429388 non-null  datetime64[ns]\n",
      " 3   Opening      429388 non-null  object        \n",
      " 4   Termination  429388 non-null  category      \n",
      " 5   Tournament   429388 non-null  bool          \n",
      "dtypes: bool(1), category(3), datetime64[ns](1), object(1)\n",
      "memory usage: 8.2+ MB\n"
     ]
    }
   ],
   "source": [
    "df = df.drop('AN', axis=1)\n",
    "df.info()"
   ]
  },
  {
   "cell_type": "markdown",
   "id": "ae2f6e55-09b9-4481-8b22-5d93f00259c7",
   "metadata": {},
   "source": [
    "## Populate df_moves"
   ]
  },
  {
   "cell_type": "markdown",
   "id": "003da6c3-7ce5-4c62-aa24-7f6fc6fabdad",
   "metadata": {},
   "source": [
    "### Make sure that all move have correct [Algebraic notation](https://en.wikipedia.org/wiki/Algebraic_notation_(chess))"
   ]
  },
  {
   "cell_type": "markdown",
   "id": "e16046b4-4797-405d-be9b-4b372a3afba8",
   "metadata": {},
   "source": [
    "#### Format:\n",
    "piece_name, disambiguating (optional), capture (optional), square_name, pawn_promotion (optional), check or checkmate (optional) \\\n",
    "kingside or queenside castling, check or checkmate (optional)"
   ]
  },
  {
   "cell_type": "code",
   "execution_count": 69,
   "id": "dcd4b1f3-9739-4f13-8d56-c763ca3835f1",
   "metadata": {},
   "outputs": [],
   "source": [
    "# filt = ~(df_moves['move'].str.match(r'(^|[KQRBN])[a-h]?[1-8]?([a-h]?x)?[a-h][1-8](=[QRBN])?[\\+#]?$') == True) \\\n",
    "#      & ~(df_moves['move'].str.match(r'^(O-O|O-O-O)[\\+#]?$')== True)\n",
    "# df_moves[filt]"
   ]
  },
  {
   "cell_type": "code",
   "execution_count": 66,
   "id": "4a0c4f20-2284-4f7c-85f7-8c060859785c",
   "metadata": {},
   "outputs": [
    {
     "data": {
      "text/html": [
       "<div>\n",
       "<style scoped>\n",
       "    .dataframe tbody tr th:only-of-type {\n",
       "        vertical-align: middle;\n",
       "    }\n",
       "\n",
       "    .dataframe tbody tr th {\n",
       "        vertical-align: top;\n",
       "    }\n",
       "\n",
       "    .dataframe thead th {\n",
       "        text-align: right;\n",
       "    }\n",
       "</style>\n",
       "<table border=\"1\" class=\"dataframe\">\n",
       "  <thead>\n",
       "    <tr style=\"text-align: right;\">\n",
       "      <th></th>\n",
       "      <th>match_id</th>\n",
       "      <th>move_num</th>\n",
       "      <th>player</th>\n",
       "      <th>move</th>\n",
       "    </tr>\n",
       "  </thead>\n",
       "  <tbody>\n",
       "  </tbody>\n",
       "</table>\n",
       "</div>"
      ],
      "text/plain": [
       "Empty DataFrame\n",
       "Columns: [match_id, move_num, player, move]\n",
       "Index: []"
      ]
     },
     "execution_count": 66,
     "metadata": {},
     "output_type": "execute_result"
    }
   ],
   "source": [
    "filt = ~(df_moves['move'].str.match(r'(^|[KQRBN])[a-h]?[1-8]?x?[a-h][1-8](=[QRBN])?[\\+#]?$') == True) \\\n",
    "     & ~(df_moves['move'].str.match(r'^(O-O|O-O-O)[\\+#]?$')== True)\n",
    "df_moves[filt]"
   ]
  },
  {
   "cell_type": "code",
   "execution_count": 22,
   "id": "7885809f-aff9-4ae2-9e7c-7d987de70ffc",
   "metadata": {},
   "outputs": [
    {
     "data": {
      "text/plain": [
       "{'piece_name': 'Q', 'capture': 'x', 'promotion': None, 'position': '+'}"
      ]
     },
     "execution_count": 22,
     "metadata": {},
     "output_type": "execute_result"
    }
   ],
   "source": [
    "m = re.match(r'(?P<piece_name>^|[KQRBN])[a-h]?[1-8]?(?P<capture>[a-h]?x)?[a-h][1-8](?P<promotion>=[QRBN])?(?P<position>[\\+#])?$', 'Qh4xe1+')\n",
    "m.groupdict()"
   ]
  },
  {
   "cell_type": "code",
   "execution_count": 23,
   "id": "43c5f8f1-c724-4834-9d9e-f34096a5d2d9",
   "metadata": {},
   "outputs": [],
   "source": [
    "df_test = df_moves.copy()"
   ]
  },
  {
   "cell_type": "markdown",
   "id": "f4817df0-8093-4847-8df1-b0538ba6975c",
   "metadata": {},
   "source": [
    "### Add castling column"
   ]
  },
  {
   "cell_type": "code",
   "execution_count": 25,
   "id": "5395a92a-ed84-4e47-9c2c-4b0cff189a0d",
   "metadata": {},
   "outputs": [
    {
     "name": "stdout",
     "output_type": "stream",
     "text": [
      "CPU times: total: 11.9 s\n",
      "Wall time: 12.1 s\n"
     ]
    }
   ],
   "source": [
    "%%time\n",
    "castling_conditions = [\n",
    "    df_test['move'] == 'O-O',\n",
    "    df_test['move'] == 'O-O+',\n",
    "    df_test['move'] == 'O-O#',\n",
    "    df_test['move'] == 'O-O-O',\n",
    "    df_test['move'] == 'O-O-O+',\n",
    "    df_test['move'] == 'O-O-O#'\n",
    "    # df_test['move'].str.match(r'^(O-O)[\\+#]?$') == True,\n",
    "    # df_test['move'].str.match(r'^(O-O-O)[\\+#]?$') == True\n",
    "]\n",
    "\n",
    "castling_outputs = [\n",
    "    'kingside', 'kingside', 'kingside', 'queenside', 'queenside', 'queenside'\n",
    "    # 'kingside', 'queenside'\n",
    "]\n",
    "\n",
    "castling = np.select(castling_conditions, castling_outputs, None)\n",
    "df_test['castling'] = pd.Series(castling)"
   ]
  },
  {
   "cell_type": "code",
   "execution_count": 43,
   "id": "08509571-d867-44e7-994a-16b34c613783",
   "metadata": {},
   "outputs": [],
   "source": [
    "df_test['castling'] = df_test['castling'].astype('category')"
   ]
  },
  {
   "cell_type": "markdown",
   "id": "26e31682-1025-40e8-a0bd-5511a17c9308",
   "metadata": {},
   "source": [
    "### Add piece name column"
   ]
  },
  {
   "cell_type": "code",
   "execution_count": 37,
   "id": "c84c0eb5-8ca3-4ac4-ad4f-c46622fa026a",
   "metadata": {},
   "outputs": [
    {
     "name": "stdout",
     "output_type": "stream",
     "text": [
      "CPU times: total: 2min 9s\n",
      "Wall time: 2min 13s\n"
     ]
    }
   ],
   "source": [
    "%%time\n",
    "piece_conditions = [\n",
    "    df_test['move'].str.contains('O-O', regex=False) == True, # castling is considered as a king move\n",
    "    df_test['move'].str.match(r'^K') == True,\n",
    "    df_test['move'].str.match(r'^Q') == True,\n",
    "    df_test['move'].str.match(r'^R') == True,\n",
    "    df_test['move'].str.match(r'^B') == True,\n",
    "    df_test['move'].str.match(r'^N') == True,\n",
    "    df_test['move'].str.match(r'^[a-h]') == True # pawn don't have piece name in AN\n",
    "]\n",
    "\n",
    "piece_outputs = [\n",
    "    'king', 'king', 'queen', 'rook', 'bishop', 'knight', 'pawn'\n",
    "]\n",
    "\n",
    "piece_name = np.select(piece_conditions, piece_outputs, None)\n",
    "df_test['piece_name'] = pd.Series(piece_name)"
   ]
  },
  {
   "cell_type": "code",
   "execution_count": 50,
   "id": "afa6333e-1701-41c9-926e-59e45d560a88",
   "metadata": {},
   "outputs": [],
   "source": [
    "df_test['piece_name'] = df_test['piece_name'].astype('category')"
   ]
  },
  {
   "cell_type": "markdown",
   "id": "39c24658-ef9b-4aa0-835a-32d71307340f",
   "metadata": {},
   "source": [
    "### Add capture column"
   ]
  },
  {
   "cell_type": "code",
   "execution_count": 73,
   "id": "16bd3cdc-9afa-4869-b9b1-1ababe8831a2",
   "metadata": {},
   "outputs": [],
   "source": [
    "df_test['capture'] = df_test['move'].str.contains('x') == True"
   ]
  },
  {
   "cell_type": "markdown",
   "id": "73844da3-317c-4d6b-b262-70dbbadf7cac",
   "metadata": {},
   "source": [
    "### Add pawn promotion column"
   ]
  },
  {
   "cell_type": "code",
   "execution_count": 80,
   "id": "1c194592-8a23-4b4c-b21c-ad2c84417051",
   "metadata": {},
   "outputs": [
    {
     "name": "stdout",
     "output_type": "stream",
     "text": [
      "CPU times: total: 1min 1s\n",
      "Wall time: 1min 1s\n"
     ]
    }
   ],
   "source": [
    "%%time\n",
    "pawn_promotion_conditions = [\n",
    "    df_test['move'].str.contains('=Q') == True,\n",
    "    df_test['move'].str.contains('=R') == True,\n",
    "    df_test['move'].str.contains('=B') == True,\n",
    "    df_test['move'].str.contains('=N') == True\n",
    "]\n",
    "\n",
    "pawn_promotion_outputs = [\n",
    "    'queen', 'rook', 'bishop', 'knight'\n",
    "]\n",
    "\n",
    "pawn_promotion = np.select(pawn_promotion_conditions, pawn_promotion_outputs, None)\n",
    "df_test['pawn_promotion'] = pd.Series(pawn_promotion)"
   ]
  },
  {
   "cell_type": "code",
   "execution_count": 98,
   "id": "b39367f8-e0d7-4a76-91e7-21d50a8465b2",
   "metadata": {},
   "outputs": [],
   "source": [
    "df_test['pawn_promotion'] = df_test['pawn_promotion'].astype('category')"
   ]
  },
  {
   "cell_type": "markdown",
   "id": "658429b3-de4f-4654-8a29-43e7dcbc74f9",
   "metadata": {},
   "source": [
    "### Add position column (check, checkmate)"
   ]
  },
  {
   "cell_type": "code",
   "execution_count": 100,
   "id": "01bf3ee1-7906-4fab-9be4-4fd2504f3eb5",
   "metadata": {},
   "outputs": [
    {
     "name": "stdout",
     "output_type": "stream",
     "text": [
      "CPU times: total: 32.6 s\n",
      "Wall time: 34.7 s\n"
     ]
    }
   ],
   "source": [
    "%%time\n",
    "position_conditions = [\n",
    "    df_test['move'].str.contains(r'\\+$') == True,\n",
    "    df_test['move'].str.contains(r'#$') == True,\n",
    "]\n",
    "\n",
    "position_outputs = [\n",
    "    'check', 'checkmate'\n",
    "]\n",
    "\n",
    "position = np.select(position_conditions, position_outputs, None)\n",
    "df_test['position'] = pd.Series(position)"
   ]
  },
  {
   "cell_type": "code",
   "execution_count": 112,
   "id": "1982f68a-1bf9-4b2b-b260-db20d2fea374",
   "metadata": {},
   "outputs": [],
   "source": [
    "df_test['position'] = df_test['position'].astype('category')"
   ]
  },
  {
   "cell_type": "markdown",
   "id": "6e91c705-37eb-444d-94b8-ff5ac46d70f7",
   "metadata": {},
   "source": [
    "### Dataframe testing"
   ]
  },
  {
   "cell_type": "code",
   "execution_count": 114,
   "id": "90729698-912a-4d8b-bba9-9e005cac0dd1",
   "metadata": {},
   "outputs": [
    {
     "data": {
      "text/html": [
       "<div>\n",
       "<style scoped>\n",
       "    .dataframe tbody tr th:only-of-type {\n",
       "        vertical-align: middle;\n",
       "    }\n",
       "\n",
       "    .dataframe tbody tr th {\n",
       "        vertical-align: top;\n",
       "    }\n",
       "\n",
       "    .dataframe thead th {\n",
       "        text-align: right;\n",
       "    }\n",
       "</style>\n",
       "<table border=\"1\" class=\"dataframe\">\n",
       "  <thead>\n",
       "    <tr style=\"text-align: right;\">\n",
       "      <th></th>\n",
       "      <th>match_id</th>\n",
       "      <th>move_num</th>\n",
       "      <th>player</th>\n",
       "      <th>move</th>\n",
       "      <th>castling</th>\n",
       "      <th>piece_name</th>\n",
       "      <th>capture</th>\n",
       "      <th>pawn_promotion</th>\n",
       "      <th>position</th>\n",
       "    </tr>\n",
       "  </thead>\n",
       "  <tbody>\n",
       "    <tr>\n",
       "      <th>0</th>\n",
       "      <td>0</td>\n",
       "      <td>1</td>\n",
       "      <td>white</td>\n",
       "      <td>d4</td>\n",
       "      <td>NaN</td>\n",
       "      <td>pawn</td>\n",
       "      <td>False</td>\n",
       "      <td>NaN</td>\n",
       "      <td>NaN</td>\n",
       "    </tr>\n",
       "    <tr>\n",
       "      <th>1</th>\n",
       "      <td>0</td>\n",
       "      <td>2</td>\n",
       "      <td>black</td>\n",
       "      <td>d5</td>\n",
       "      <td>NaN</td>\n",
       "      <td>pawn</td>\n",
       "      <td>False</td>\n",
       "      <td>NaN</td>\n",
       "      <td>NaN</td>\n",
       "    </tr>\n",
       "    <tr>\n",
       "      <th>2</th>\n",
       "      <td>0</td>\n",
       "      <td>3</td>\n",
       "      <td>white</td>\n",
       "      <td>c4</td>\n",
       "      <td>NaN</td>\n",
       "      <td>pawn</td>\n",
       "      <td>False</td>\n",
       "      <td>NaN</td>\n",
       "      <td>NaN</td>\n",
       "    </tr>\n",
       "    <tr>\n",
       "      <th>3</th>\n",
       "      <td>0</td>\n",
       "      <td>4</td>\n",
       "      <td>black</td>\n",
       "      <td>c6</td>\n",
       "      <td>NaN</td>\n",
       "      <td>pawn</td>\n",
       "      <td>False</td>\n",
       "      <td>NaN</td>\n",
       "      <td>NaN</td>\n",
       "    </tr>\n",
       "    <tr>\n",
       "      <th>4</th>\n",
       "      <td>0</td>\n",
       "      <td>5</td>\n",
       "      <td>white</td>\n",
       "      <td>e3</td>\n",
       "      <td>NaN</td>\n",
       "      <td>pawn</td>\n",
       "      <td>False</td>\n",
       "      <td>NaN</td>\n",
       "      <td>NaN</td>\n",
       "    </tr>\n",
       "  </tbody>\n",
       "</table>\n",
       "</div>"
      ],
      "text/plain": [
       "   match_id  move_num player move castling piece_name  capture pawn_promotion  \\\n",
       "0         0         1  white   d4      NaN       pawn    False            NaN   \n",
       "1         0         2  black   d5      NaN       pawn    False            NaN   \n",
       "2         0         3  white   c4      NaN       pawn    False            NaN   \n",
       "3         0         4  black   c6      NaN       pawn    False            NaN   \n",
       "4         0         5  white   e3      NaN       pawn    False            NaN   \n",
       "\n",
       "  position  \n",
       "0      NaN  \n",
       "1      NaN  \n",
       "2      NaN  \n",
       "3      NaN  \n",
       "4      NaN  "
      ]
     },
     "execution_count": 114,
     "metadata": {},
     "output_type": "execute_result"
    }
   ],
   "source": [
    "df_test.head()"
   ]
  },
  {
   "cell_type": "code",
   "execution_count": 109,
   "id": "9ddc8e73-45af-4199-b8f8-b7e850b65036",
   "metadata": {},
   "outputs": [
    {
     "data": {
      "text/plain": [
       "27204498"
      ]
     },
     "execution_count": 109,
     "metadata": {},
     "output_type": "execute_result"
    }
   ],
   "source": [
    "df_test['position'].isna().sum()"
   ]
  },
  {
   "cell_type": "code",
   "execution_count": 110,
   "id": "b22a5345-c11a-41bf-ba0d-2ae5094cf1ed",
   "metadata": {},
   "outputs": [
    {
     "data": {
      "text/plain": [
       "position\n",
       "check        2108092\n",
       "checkmate     112031\n",
       "Name: count, dtype: int64"
      ]
     },
     "execution_count": 110,
     "metadata": {},
     "output_type": "execute_result"
    }
   ],
   "source": [
    "df_test['position'].value_counts()"
   ]
  },
  {
   "cell_type": "code",
   "execution_count": 113,
   "id": "ce06af5b-97be-467f-b0f7-23d9182e7399",
   "metadata": {},
   "outputs": [
    {
     "name": "stdout",
     "output_type": "stream",
     "text": [
      "<class 'pandas.core.frame.DataFrame'>\n",
      "RangeIndex: 29424621 entries, 0 to 29424620\n",
      "Data columns (total 9 columns):\n",
      " #   Column          Dtype   \n",
      "---  ------          -----   \n",
      " 0   match_id        int64   \n",
      " 1   move_num        int64   \n",
      " 2   player          category\n",
      " 3   move            object  \n",
      " 4   castling        category\n",
      " 5   piece_name      category\n",
      " 6   capture         bool    \n",
      " 7   pawn_promotion  category\n",
      " 8   position        category\n",
      "dtypes: bool(1), category(5), int64(2), object(1)\n",
      "memory usage: 841.8+ MB\n"
     ]
    }
   ],
   "source": [
    "df_test.info()"
   ]
  },
  {
   "cell_type": "markdown",
   "id": "3c9c08c3-dd89-4d5d-a098-2277dd1a7c82",
   "metadata": {
    "jp-MarkdownHeadingCollapsed": true,
    "tags": []
   },
   "source": [
    "### OLD"
   ]
  },
  {
   "cell_type": "code",
   "execution_count": 115,
   "id": "c979bf8a-3a79-4783-8e4e-75231ea6253d",
   "metadata": {},
   "outputs": [],
   "source": [
    "def extract_regex(row: str):\n",
    "    column_piece_name = []\n",
    "    m = re.match(r'(?P<piece_name>^|[KQRBN])[a-h]?[1-8]?(?P<capture>[a-h]?x)?[a-h][1-8](?P<promotion>=[QRBN])?(?P<position>[\\+#])?$', row)\n",
    "    piece_name = m['piece_name']\n",
    "    new_column.append(piece_name)\n",
    "    capture = m['capture']\n",
    "    promotion = m['promotion']\n",
    "    position = m['position']\n",
    "    return pd.Series([m.groupdict()])"
   ]
  },
  {
   "cell_type": "code",
   "execution_count": 121,
   "id": "93f5f4cb-87f0-4b71-8371-4131dfe5af08",
   "metadata": {},
   "outputs": [
    {
     "data": {
      "text/plain": [
       "'+'"
      ]
     },
     "execution_count": 121,
     "metadata": {},
     "output_type": "execute_result"
    }
   ],
   "source": [
    "extract_regex('e8=Q+')[0]['position']"
   ]
  },
  {
   "cell_type": "code",
   "execution_count": 112,
   "id": "475edbae-980f-45d5-9ae5-d5e1c99dd311",
   "metadata": {},
   "outputs": [
    {
     "data": {
      "text/html": [
       "<div>\n",
       "<style scoped>\n",
       "    .dataframe tbody tr th:only-of-type {\n",
       "        vertical-align: middle;\n",
       "    }\n",
       "\n",
       "    .dataframe tbody tr th {\n",
       "        vertical-align: top;\n",
       "    }\n",
       "\n",
       "    .dataframe thead th {\n",
       "        text-align: right;\n",
       "    }\n",
       "</style>\n",
       "<table border=\"1\" class=\"dataframe\">\n",
       "  <thead>\n",
       "    <tr style=\"text-align: right;\">\n",
       "      <th></th>\n",
       "      <th>match_id</th>\n",
       "      <th>move_num</th>\n",
       "      <th>player</th>\n",
       "      <th>move</th>\n",
       "      <th>piece_name</th>\n",
       "    </tr>\n",
       "  </thead>\n",
       "  <tbody>\n",
       "    <tr>\n",
       "      <th>0</th>\n",
       "      <td>0</td>\n",
       "      <td>1</td>\n",
       "      <td>white</td>\n",
       "      <td>e4</td>\n",
       "      <td>None</td>\n",
       "    </tr>\n",
       "    <tr>\n",
       "      <th>1</th>\n",
       "      <td>0</td>\n",
       "      <td>2</td>\n",
       "      <td>black</td>\n",
       "      <td>d5</td>\n",
       "      <td>None</td>\n",
       "    </tr>\n",
       "    <tr>\n",
       "      <th>2</th>\n",
       "      <td>0</td>\n",
       "      <td>3</td>\n",
       "      <td>white</td>\n",
       "      <td>exd5</td>\n",
       "      <td>None</td>\n",
       "    </tr>\n",
       "    <tr>\n",
       "      <th>3</th>\n",
       "      <td>0</td>\n",
       "      <td>4</td>\n",
       "      <td>black</td>\n",
       "      <td>Qxd5</td>\n",
       "      <td>None</td>\n",
       "    </tr>\n",
       "    <tr>\n",
       "      <th>4</th>\n",
       "      <td>0</td>\n",
       "      <td>5</td>\n",
       "      <td>white</td>\n",
       "      <td>Nf3</td>\n",
       "      <td>None</td>\n",
       "    </tr>\n",
       "    <tr>\n",
       "      <th>...</th>\n",
       "      <td>...</td>\n",
       "      <td>...</td>\n",
       "      <td>...</td>\n",
       "      <td>...</td>\n",
       "      <td>...</td>\n",
       "    </tr>\n",
       "    <tr>\n",
       "      <th>11971285</th>\n",
       "      <td>173556</td>\n",
       "      <td>89</td>\n",
       "      <td>white</td>\n",
       "      <td>Bg3</td>\n",
       "      <td>None</td>\n",
       "    </tr>\n",
       "    <tr>\n",
       "      <th>11971286</th>\n",
       "      <td>173556</td>\n",
       "      <td>90</td>\n",
       "      <td>black</td>\n",
       "      <td>Kxe6</td>\n",
       "      <td>None</td>\n",
       "    </tr>\n",
       "    <tr>\n",
       "      <th>11971287</th>\n",
       "      <td>173556</td>\n",
       "      <td>91</td>\n",
       "      <td>white</td>\n",
       "      <td>Kc3</td>\n",
       "      <td>None</td>\n",
       "    </tr>\n",
       "    <tr>\n",
       "      <th>11971288</th>\n",
       "      <td>173556</td>\n",
       "      <td>92</td>\n",
       "      <td>black</td>\n",
       "      <td>Kd5</td>\n",
       "      <td>None</td>\n",
       "    </tr>\n",
       "    <tr>\n",
       "      <th>11971289</th>\n",
       "      <td>173556</td>\n",
       "      <td>93</td>\n",
       "      <td>white</td>\n",
       "      <td>Kb4</td>\n",
       "      <td>None</td>\n",
       "    </tr>\n",
       "  </tbody>\n",
       "</table>\n",
       "<p>11971290 rows × 5 columns</p>\n",
       "</div>"
      ],
      "text/plain": [
       "          match_id  move_num player  move piece_name\n",
       "0                0         1  white    e4       None\n",
       "1                0         2  black    d5       None\n",
       "2                0         3  white  exd5       None\n",
       "3                0         4  black  Qxd5       None\n",
       "4                0         5  white   Nf3       None\n",
       "...            ...       ...    ...   ...        ...\n",
       "11971285    173556        89  white   Bg3       None\n",
       "11971286    173556        90  black  Kxe6       None\n",
       "11971287    173556        91  white   Kc3       None\n",
       "11971288    173556        92  black   Kd5       None\n",
       "11971289    173556        93  white   Kb4       None\n",
       "\n",
       "[11971290 rows x 5 columns]"
      ]
     },
     "execution_count": 112,
     "metadata": {},
     "output_type": "execute_result"
    }
   ],
   "source": [
    "%%time\n",
    "# df_captured = df_test['move'].apply(lambda x: extract_regex(x, full_regex))\n",
    "df_captured = df_test['move'].apply(extract_regex)"
   ]
  },
  {
   "cell_type": "code",
   "execution_count": 29,
   "id": "1a73967b-d8b7-4933-b17a-b9864980ad2e",
   "metadata": {},
   "outputs": [],
   "source": [
    "# column_piece_name = []\n",
    "# for move in df_test['move']:\n",
    "#     #print(move)\n",
    "#     m = re.match(r'(?P<piece_name>^|[KQRBN])[a-h]?[1-8]?(?P<capture>[a-h]?x)?[a-h][1-8](?P<promotion>=[QRBN])?(?P<position>[\\+#])?$', values)\n",
    "#     #print(m)\n",
    "#     m.groupdict()\n",
    "#     #print(m.groupdict())\n",
    "#     if m['piece_name']:\n",
    "#         piece_name = m['piece_name']\n",
    "#     else:\n",
    "#         piece_name = 'Pawn'\n",
    "#     column_piece_name.append(piece_name)\n",
    "\n",
    "# df_test['piece_name'] = column_piece_name"
   ]
  },
  {
   "cell_type": "code",
   "execution_count": 30,
   "id": "26a38c4c-fd3b-439c-b15f-de208b1e2e74",
   "metadata": {},
   "outputs": [],
   "source": [
    "# def castling(row: str):\n",
    "#     if row['move'] == 'O-O': # re.match(r'^(O-O)[\\+#]?$', row) == True:\n",
    "#         return 'kingside'\n",
    "#     elif row['move'] == 'O-O-O': # re.match(r'^(O-O-O)[\\+#]?$', row) == True:\n",
    "#         return 'queenside'\n",
    "#     else:\n",
    "#         return None"
   ]
  },
  {
   "cell_type": "code",
   "execution_count": 31,
   "id": "400c3346-dbe0-4cde-af2e-e7dcf0402e11",
   "metadata": {},
   "outputs": [],
   "source": [
    "# %%time\n",
    "# # df_test['castling'] = df_test['move'].apply(castling)\n",
    "# df_test['castling'] = df_test.apply(castling, axis=1)"
   ]
  },
  {
   "cell_type": "code",
   "execution_count": null,
   "id": "12931e5e-ac15-4c56-a830-88cb91fdc42e",
   "metadata": {},
   "outputs": [],
   "source": [
    "# %%time\n",
    "# for i, row in df.iterrows():\n",
    "#     df.at[i, 'Event'] = df.at[i, 'Event']"
   ]
  },
  {
   "cell_type": "code",
   "execution_count": null,
   "id": "24978206-ce54-4350-9e83-da830f4f66ae",
   "metadata": {},
   "outputs": [],
   "source": [
    "# %%time\n",
    "# for i in df.index:\n",
    "#     df['Event'].iloc[i] = df['Event'].iloc[i]"
   ]
  }
 ],
 "metadata": {
  "kernelspec": {
   "display_name": "Python 3 (ipykernel)",
   "language": "python",
   "name": "python3"
  },
  "language_info": {
   "codemirror_mode": {
    "name": "ipython",
    "version": 3
   },
   "file_extension": ".py",
   "mimetype": "text/x-python",
   "name": "python",
   "nbconvert_exporter": "python",
   "pygments_lexer": "ipython3",
   "version": "3.10.9"
  }
 },
 "nbformat": 4,
 "nbformat_minor": 5
}
